{
 "cells": [
  {
   "cell_type": "code",
   "execution_count": 1,
   "id": "2c71d61e-9281-48a4-89fa-949cf0f9fdd6",
   "metadata": {},
   "outputs": [],
   "source": [
    "# imports\n",
    "import matplotlib.pyplot as plt\n",
    "import numpy as np"
   ]
  },
  {
   "cell_type": "code",
   "execution_count": 2,
   "id": "491aac84-ec14-4909-a416-49afa8224fbc",
   "metadata": {},
   "outputs": [],
   "source": [
    "# set plotting params\n",
    "plt.rcParams['font.serif'] = 'Ubuntu'\n",
    "plt.rcParams['font.monospace'] = 'Ubuntu Mono'\n",
    "plt.rcParams['font.size'] = 32\n",
    "plt.rcParams['axes.labelsize'] = 32\n",
    "plt.rcParams['axes.titlesize'] = 32\n",
    "plt.rcParams['xtick.labelsize'] = 24\n",
    "plt.rcParams['ytick.labelsize'] = 24\n",
    "plt.rcParams['legend.fontsize'] = 32\n",
    "plt.rcParams['figure.titlesize'] = 48"
   ]
  },
  {
   "cell_type": "code",
   "execution_count": 3,
   "id": "4df9aa1d-c467-47b9-9da9-9095b30900ee",
   "metadata": {},
   "outputs": [],
   "source": [
    "# load data\n",
    "path = '../data/train/right/1572815379.npy'\n",
    "data = np.load(path)"
   ]
  },
  {
   "cell_type": "code",
   "execution_count": null,
   "id": "19807aaf-e4cc-4a7f-bca9-75ed574bd4ad",
   "metadata": {},
   "outputs": [],
   "source": []
  },
  {
   "cell_type": "code",
   "execution_count": null,
   "id": "5128fd41-5b83-42ac-8f0e-08397763a3e7",
   "metadata": {},
   "outputs": [],
   "source": []
  },
  {
   "cell_type": "code",
   "execution_count": null,
   "id": "9fa97a52-cee2-4483-9a3d-8038cdd59adf",
   "metadata": {},
   "outputs": [],
   "source": []
  },
  {
   "cell_type": "code",
   "execution_count": null,
   "id": "91ba599a-8564-438a-b207-376752ae2404",
   "metadata": {},
   "outputs": [],
   "source": []
  },
  {
   "cell_type": "code",
   "execution_count": null,
   "id": "9def1835-58b6-4991-9c76-fa090f0b9c12",
   "metadata": {},
   "outputs": [],
   "source": []
  },
  {
   "cell_type": "code",
   "execution_count": null,
   "id": "e8696de1-a7f2-4075-a666-b6f86a156e2a",
   "metadata": {},
   "outputs": [],
   "source": []
  },
  {
   "cell_type": "code",
   "execution_count": null,
   "id": "05b961c8-7a99-4b9a-a16f-60cf5a1e53f5",
   "metadata": {},
   "outputs": [],
   "source": []
  },
  {
   "cell_type": "code",
   "execution_count": null,
   "id": "0273a66c-b59c-477d-9b1e-7ca3383aa9ad",
   "metadata": {},
   "outputs": [],
   "source": []
  }
 ],
 "metadata": {
  "kernelspec": {
   "display_name": "Python 3",
   "language": "python",
   "name": "python3"
  },
  "language_info": {
   "codemirror_mode": {
    "name": "ipython",
    "version": 3
   },
   "file_extension": ".py",
   "mimetype": "text/x-python",
   "name": "python",
   "nbconvert_exporter": "python",
   "pygments_lexer": "ipython3",
   "version": "3.8.10"
  }
 },
 "nbformat": 4,
 "nbformat_minor": 5
}
