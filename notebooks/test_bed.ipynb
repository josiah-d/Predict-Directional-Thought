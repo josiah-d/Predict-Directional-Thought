{
 "cells": [
  {
   "cell_type": "code",
   "execution_count": 1,
   "id": "2c71d61e-9281-48a4-89fa-949cf0f9fdd6",
   "metadata": {},
   "outputs": [],
   "source": [
    "# imports\n",
    "import sys\n",
    "sys.path.append('../')\n",
    "\n",
    "from glob import glob\n",
    "from src.load_data import master_load\n",
    "import matplotlib.pyplot as plt\n",
    "import numpy as np\n",
    "import os\n",
    "import pandas as pd\n",
    "import time\n",
    "\n",
    "import tensorflow as tf\n",
    "from tensorflow.keras.models import Sequential\n",
    "from tensorflow.keras.layers import (Activation, BatchNormalization, Conv1D, Dense,\n",
    "                                     Dropout, Flatten, LSTM, MaxPooling1D, Reshape,\n",
    "                                     TimeDistributed)\n",
    "from tensorflow.math import confusion_matrix"
   ]
  },
  {
   "cell_type": "code",
   "execution_count": 2,
   "id": "491aac84-ec14-4909-a416-49afa8224fbc",
   "metadata": {},
   "outputs": [],
   "source": [
    "# set plotting params\n",
    "plt.rcParams['font.serif'] = 'Ubuntu'\n",
    "plt.rcParams['font.monospace'] = 'Ubuntu Mono'\n",
    "plt.rcParams['font.size'] = 32\n",
    "plt.rcParams['axes.labelsize'] = 32\n",
    "plt.rcParams['axes.titlesize'] = 32\n",
    "plt.rcParams['xtick.labelsize'] = 24\n",
    "plt.rcParams['ytick.labelsize'] = 24\n",
    "plt.rcParams['legend.fontsize'] = 32\n",
    "plt.rcParams['figure.titlesize'] = 48"
   ]
  },
  {
   "cell_type": "code",
   "execution_count": null,
   "id": "19807aaf-e4cc-4a7f-bca9-75ed574bd4ad",
   "metadata": {},
   "outputs": [],
   "source": []
  },
  {
   "cell_type": "code",
   "execution_count": 3,
   "id": "399ab52a-b4cf-4c21-9cab-6f943f3a4521",
   "metadata": {},
   "outputs": [],
   "source": [
    "X_train, X_test, y_train, y_test = master_load()"
   ]
  },
  {
   "cell_type": "code",
   "execution_count": 4,
   "id": "d993f318-1ad8-49f8-8049-20f32c819054",
   "metadata": {},
   "outputs": [
    {
     "data": {
      "text/plain": [
       "(16, 60)"
      ]
     },
     "execution_count": 4,
     "metadata": {},
     "output_type": "execute_result"
    }
   ],
   "source": [
    "X_train.shape[1:]"
   ]
  },
  {
   "cell_type": "code",
   "execution_count": 5,
   "id": "8bf909bb-a095-440f-b3bc-8368bd30ede5",
   "metadata": {},
   "outputs": [],
   "source": [
    "model = Sequential()\n",
    "\n",
    "model.add(LSTM(64, return_sequences=True, input_shape=X_train.shape[1:]))\n",
    "\n",
    "model.add(LSTM(64, return_sequences=True))\n",
    "\n",
    "model.add(TimeDistributed(\n",
    "    Dense(32, activation='relu')))\n",
    "\n",
    "model.add(TimeDistributed(\n",
    "    Dense(8, activation='relu')))\n",
    "model.add(Dropout(0.5))\n",
    "\n",
    "model.add(Flatten())\n",
    "\n",
    "model.add(Dense(3))\n",
    "model.add(Activation('softmax'))\n",
    "\n",
    "model.compile(loss='categorical_crossentropy',\n",
    "              optimizer='adam',\n",
    "              metrics=['accuracy'])"
   ]
  },
  {
   "cell_type": "code",
   "execution_count": 6,
   "id": "8d979304-f4ff-48de-8847-d848de264ced",
   "metadata": {},
   "outputs": [
    {
     "name": "stdout",
     "output_type": "stream",
     "text": [
      "Epoch 1/5\n",
      "8825/8825 [==============================] - 500s 56ms/step - loss: 0.9530 - accuracy: 0.5008 - val_loss: 1.1941 - val_accuracy: 0.3798\n",
      "Epoch 2/5\n",
      "8825/8825 [==============================] - 511s 58ms/step - loss: 0.6708 - accuracy: 0.6809 - val_loss: 1.5874 - val_accuracy: 0.3667\n",
      "Epoch 3/5\n",
      "8825/8825 [==============================] - 227s 26ms/step - loss: 0.4310 - accuracy: 0.8149 - val_loss: 2.4613 - val_accuracy: 0.3826\n",
      "Epoch 4/5\n",
      "8825/8825 [==============================] - 156s 18ms/step - loss: 0.2748 - accuracy: 0.8913 - val_loss: 3.0093 - val_accuracy: 0.3765\n",
      "Epoch 5/5\n",
      "8825/8825 [==============================] - 252s 29ms/step - loss: 0.1880 - accuracy: 0.9299 - val_loss: 4.3289 - val_accuracy: 0.3690\n",
      "1102/1102 [==============================] - 17s 15ms/step - loss: 4.3289 - accuracy: 0.3690\n"
     ]
    },
    {
     "name": "stderr",
     "output_type": "stream",
     "text": [
      "WARNING:absl:Found untraced functions such as lstm_cell_layer_call_fn, lstm_cell_layer_call_and_return_conditional_losses, lstm_cell_1_layer_call_fn, lstm_cell_1_layer_call_and_return_conditional_losses, lstm_cell_layer_call_fn while saving (showing 5 of 10). These functions will not be directly callable after loading.\n"
     ]
    },
    {
     "name": "stdout",
     "output_type": "stream",
     "text": [
      "INFO:tensorflow:Assets written to: ../models/numpy/acc_0.369-loss_4.33-1628207162.model/assets\n"
     ]
    },
    {
     "name": "stderr",
     "output_type": "stream",
     "text": [
      "INFO:tensorflow:Assets written to: ../models/numpy/acc_0.369-loss_4.33-1628207162.model/assets\n"
     ]
    },
    {
     "name": "stdout",
     "output_type": "stream",
     "text": [
      "done\n"
     ]
    }
   ],
   "source": [
    "epochs = 5\n",
    "batch_size = 32\n",
    "\n",
    "fitted = model.fit(X_train, y_train, batch_size=batch_size, epochs=epochs, validation_data=(X_test, y_test))\n",
    "score = fitted.model.evaluate(X_test, y_test, batch_size=batch_size)\n",
    "\n",
    "model_name = f'../models/numpy/acc_{round(score[1], 3)}-loss_{round(score[0], 2)}-{int(time.time())}.model'\n",
    "\n",
    "df = pd.DataFrame.from_dict(fitted.history)\n",
    "df['model_name'] = model_name\n",
    "fitted.model.save(model_name)\n",
    "\n",
    "print('done')"
   ]
  },
  {
   "cell_type": "code",
   "execution_count": null,
   "id": "fd551fa1-0263-4f3c-8f20-a734bf00de90",
   "metadata": {},
   "outputs": [],
   "source": []
  },
  {
   "cell_type": "code",
   "execution_count": 7,
   "id": "445e8116-5568-4994-b3b0-c0eb4632bd89",
   "metadata": {},
   "outputs": [],
   "source": [
    "# modified\n",
    "model = Sequential()\n",
    "\n",
    "model.add(Conv1D(64, (3), input_shape=X_train.shape[1:]))\n",
    "# model.add(Conv2D(16, (3, 3), input_shape=X_train.shape[1:]))  # Test the Conv2D\n",
    "model.add(Activation('selu'))\n",
    "\n",
    "model.add(Conv1D(16, (2)))\n",
    "model.add(Activation('selu'))\n",
    "\n",
    "model.add(MaxPooling1D(pool_size=(2)))\n",
    "model.add(Flatten())\n",
    "\n",
    "model.add(Dense(64))\n",
    "model.add(Activation('selu'))\n",
    "\n",
    "model.add(Dense(16))\n",
    "model.add(Activation('selu'))\n",
    "\n",
    "model.add(Dense(3))\n",
    "model.add(Activation('softmax'))\n",
    "\n",
    "model.compile(loss='categorical_crossentropy',\n",
    "              optimizer='adam',\n",
    "              metrics=['accuracy'])"
   ]
  },
  {
   "cell_type": "code",
   "execution_count": 8,
   "id": "6b5418f8-fe94-4a12-8c09-0a26bbfc3a7a",
   "metadata": {},
   "outputs": [
    {
     "name": "stdout",
     "output_type": "stream",
     "text": [
      "Epoch 1/5\n",
      "8825/8825 [==============================] - 105s 12ms/step - loss: 0.7128 - accuracy: 0.6726 - val_loss: 2.0630 - val_accuracy: 0.3583\n",
      "Epoch 2/5\n",
      "8825/8825 [==============================] - 102s 12ms/step - loss: 0.3774 - accuracy: 0.8457 - val_loss: 3.0066 - val_accuracy: 0.3454\n",
      "Epoch 3/5\n",
      "8825/8825 [==============================] - 77s 9ms/step - loss: 0.2459 - accuracy: 0.9051 - val_loss: 3.6275 - val_accuracy: 0.3616\n",
      "Epoch 4/5\n",
      "8825/8825 [==============================] - 67s 8ms/step - loss: 0.1834 - accuracy: 0.9308 - val_loss: 4.7509 - val_accuracy: 0.3508\n",
      "Epoch 5/5\n",
      "8825/8825 [==============================] - 83s 9ms/step - loss: 0.1536 - accuracy: 0.9442 - val_loss: 4.7208 - val_accuracy: 0.3624\n",
      "1102/1102 [==============================] - 4s 4ms/step - loss: 4.7208 - accuracy: 0.3624\n",
      "INFO:tensorflow:Assets written to: ../models/numpy/acc_0.362-loss_4.72-1628207633.model/assets\n"
     ]
    },
    {
     "name": "stderr",
     "output_type": "stream",
     "text": [
      "INFO:tensorflow:Assets written to: ../models/numpy/acc_0.362-loss_4.72-1628207633.model/assets\n"
     ]
    },
    {
     "name": "stdout",
     "output_type": "stream",
     "text": [
      "done\n"
     ]
    }
   ],
   "source": [
    "epochs = 5\n",
    "batch_size = 32\n",
    "\n",
    "fitted = model.fit(X_train, y_train, batch_size=batch_size, epochs=epochs, validation_data=(X_test, y_test))\n",
    "score = fitted.model.evaluate(X_test, y_test, batch_size=batch_size)\n",
    "\n",
    "model_name = f'../models/numpy/acc_{round(score[1], 3)}-loss_{round(score[0], 2)}-{int(time.time())}.model'\n",
    "\n",
    "temp_df = pd.DataFrame.from_dict(fitted.history)\n",
    "temp_df['model_name'] = model_name\n",
    "df = pd.concat([df, temp_df])\n",
    "fitted.model.save(model_name)\n",
    "\n",
    "print('done')"
   ]
  },
  {
   "cell_type": "code",
   "execution_count": null,
   "id": "4aa67b3c-24dd-4d56-83c9-aab38ef46a4f",
   "metadata": {},
   "outputs": [],
   "source": []
  },
  {
   "cell_type": "code",
   "execution_count": 9,
   "id": "8f1a1f66-d198-413e-9088-b67055b39f6d",
   "metadata": {},
   "outputs": [],
   "source": [
    "# modified\n",
    "model = Sequential()\n",
    "\n",
    "model.add(Conv1D(64, (3), input_shape=X_train.shape[1:]))\n",
    "model.add(Activation('relu'))\n",
    "\n",
    "model.add(Conv1D(64, (2)))\n",
    "model.add(Activation('relu'))\n",
    "model.add(MaxPooling1D(pool_size=(2)))\n",
    "\n",
    "model.add(Conv1D(64, (2)))\n",
    "model.add(Activation('relu'))\n",
    "model.add(MaxPooling1D(pool_size=(2)))\n",
    "\n",
    "model.add(Flatten())\n",
    "\n",
    "model.add(Dense(64))\n",
    "model.add(Activation('relu'))\n",
    "\n",
    "model.add(Dense(16))\n",
    "model.add(Activation('relu'))\n",
    "\n",
    "model.add(Dropout(0.5))\n",
    "\n",
    "model.add(Dense(3))\n",
    "model.add(Activation('softmax'))\n",
    "\n",
    "model.compile(loss='categorical_crossentropy',\n",
    "              optimizer='adam',\n",
    "              metrics=['accuracy'])"
   ]
  },
  {
   "cell_type": "code",
   "execution_count": 10,
   "id": "59360086-7bf1-4ce6-afc2-fdca80ff80c5",
   "metadata": {},
   "outputs": [
    {
     "name": "stdout",
     "output_type": "stream",
     "text": [
      "Epoch 1/5\n",
      "8825/8825 [==============================] - 172s 19ms/step - loss: 0.9959 - accuracy: 0.4568 - val_loss: 1.2589 - val_accuracy: 0.4124\n",
      "Epoch 2/5\n",
      "8825/8825 [==============================] - 93s 11ms/step - loss: 0.7635 - accuracy: 0.6020 - val_loss: 1.5975 - val_accuracy: 0.3923\n",
      "Epoch 3/5\n",
      "8825/8825 [==============================] - 75s 9ms/step - loss: 0.6127 - accuracy: 0.7008 - val_loss: 1.9106 - val_accuracy: 0.3992\n",
      "Epoch 4/5\n",
      "8825/8825 [==============================] - 67s 8ms/step - loss: 0.5345 - accuracy: 0.7507 - val_loss: 2.5146 - val_accuracy: 0.3924\n",
      "Epoch 5/5\n",
      "8825/8825 [==============================] - 78s 9ms/step - loss: 0.4515 - accuracy: 0.7991 - val_loss: 2.8773 - val_accuracy: 0.3841\n",
      "1102/1102 [==============================] - 3s 3ms/step - loss: 2.8773 - accuracy: 0.3841\n",
      "INFO:tensorflow:Assets written to: ../models/numpy/acc_0.384-loss_2.88-1628208126.model/assets\n"
     ]
    },
    {
     "name": "stderr",
     "output_type": "stream",
     "text": [
      "INFO:tensorflow:Assets written to: ../models/numpy/acc_0.384-loss_2.88-1628208126.model/assets\n"
     ]
    },
    {
     "name": "stdout",
     "output_type": "stream",
     "text": [
      "done\n"
     ]
    }
   ],
   "source": [
    "epochs = 5\n",
    "batch_size = 32\n",
    "\n",
    "fitted = model.fit(X_train, y_train, batch_size=batch_size, epochs=epochs, validation_data=(X_test, y_test))\n",
    "score = fitted.model.evaluate(X_test, y_test, batch_size=batch_size)\n",
    "\n",
    "model_name = f'../models/numpy/acc_{round(score[1], 3)}-loss_{round(score[0], 2)}-{int(time.time())}.model'\n",
    "\n",
    "temp_df = pd.DataFrame.from_dict(fitted.history)\n",
    "temp_df['model_name'] = model_name\n",
    "df = pd.concat([df, temp_df])\n",
    "fitted.model.save(model_name)\n",
    "\n",
    "print('done')"
   ]
  },
  {
   "cell_type": "code",
   "execution_count": null,
   "id": "d7597769-af6e-4518-815d-fe5d27cc7146",
   "metadata": {},
   "outputs": [],
   "source": []
  },
  {
   "cell_type": "code",
   "execution_count": 11,
   "id": "86f62511-8d27-4d8a-91b0-02bb9ad4001d",
   "metadata": {},
   "outputs": [],
   "source": [
    "# stolen 1\n",
    "model = Sequential()\n",
    "\n",
    "model.add(Conv1D(128, (3), input_shape=X_train.shape[1:]))\n",
    "model.add(Activation('relu'))\n",
    "\n",
    "model.add(Conv1D(63, (2)))\n",
    "model.add(Activation('relu'))\n",
    "\n",
    "model.add(MaxPooling1D(pool_size=(2)))\n",
    "\n",
    "model.add(Conv1D(64, (2)))\n",
    "model.add(Activation('relu'))\n",
    "\n",
    "model.add(MaxPooling1D(pool_size=(2)))\n",
    "\n",
    "model.add(Flatten())\n",
    "\n",
    "model.add(Dense(64))\n",
    "model.add(Activation('relu'))\n",
    "\n",
    "model.add(Dense(16))\n",
    "model.add(Activation('relu'))\n",
    "\n",
    "model.add(Dropout(0.5))\n",
    "\n",
    "model.add(Dense(3))\n",
    "model.add(Activation('softmax'))\n",
    "\n",
    "model.compile(loss='categorical_crossentropy',\n",
    "              optimizer='adam',\n",
    "              metrics=['accuracy'])"
   ]
  },
  {
   "cell_type": "code",
   "execution_count": null,
   "id": "53239efe-1fc0-446f-a778-73dae1ce37a9",
   "metadata": {},
   "outputs": [
    {
     "name": "stdout",
     "output_type": "stream",
     "text": [
      "Epoch 1/5\n",
      "8825/8825 [==============================] - 145s 16ms/step - loss: 0.9883 - accuracy: 0.4578 - val_loss: 1.2373 - val_accuracy: 0.4416\n",
      "Epoch 2/5\n",
      "8825/8825 [==============================] - 102s 12ms/step - loss: 0.7816 - accuracy: 0.5691 - val_loss: 1.5333 - val_accuracy: 0.3836\n",
      "Epoch 3/5\n",
      "8825/8825 [==============================] - 79s 9ms/step - loss: 0.6688 - accuracy: 0.6198 - val_loss: 2.1006 - val_accuracy: 0.3894\n",
      "Epoch 4/5\n",
      "8825/8825 [==============================] - 74s 8ms/step - loss: 0.6062 - accuracy: 0.6686 - val_loss: 2.7101 - val_accuracy: 0.3852\n",
      "Epoch 5/5\n",
      " 564/8825 [>.............................] - ETA: 1:22 - loss: 0.5660 - accuracy: 0.6943"
     ]
    }
   ],
   "source": [
    "epochs = 5\n",
    "batch_size = 32\n",
    "\n",
    "fitted = model.fit(X_train, y_train, batch_size=batch_size, epochs=epochs, validation_data=(X_test, y_test))\n",
    "score = fitted.model.evaluate(X_test, y_test, batch_size=batch_size)\n",
    "\n",
    "model_name = f'../models/numpy/acc_{round(score[1], 3)}-loss_{round(score[0], 2)}-{int(time.time())}.model'\n",
    "\n",
    "temp_df = pd.DataFrame.from_dict(fitted.history)\n",
    "temp_df['model_name'] = model_name\n",
    "df = pd.concat([df, temp_df])\n",
    "fitted.model.save(model_name)\n",
    "\n",
    "print('done')"
   ]
  },
  {
   "cell_type": "code",
   "execution_count": null,
   "id": "5f8d4d00-5ed3-4fa9-9c0c-dd1dfd82fc0d",
   "metadata": {},
   "outputs": [],
   "source": []
  },
  {
   "cell_type": "code",
   "execution_count": null,
   "id": "1f6d0407-4c64-4ef3-99e4-6aba99f4c4b9",
   "metadata": {},
   "outputs": [],
   "source": [
    "reshape = (-1, 16, 60)\n",
    "\n",
    "train_X = np.clip(np.array(X_train).reshape(reshape), -10, 10) / 10\n",
    "test_X = np.clip(np.array(X_test).reshape(reshape), -10, 10) / 10"
   ]
  },
  {
   "cell_type": "code",
   "execution_count": null,
   "id": "015ee3d9-af90-4f1c-8230-d191cb7d03c3",
   "metadata": {},
   "outputs": [],
   "source": [
    "# stolen 2\n",
    "model = Sequential()\n",
    "\n",
    "model.add(Conv1D(128, (5), padding='same', input_shape=train_X.shape[1:]))\n",
    "model.add(Activation('relu'))\n",
    "\n",
    "model.add(Conv1D(64, (5), padding='same'))\n",
    "model.add(Activation('relu'))\n",
    "\n",
    "model.add(Conv1D(16, (5), padding='same'))\n",
    "model.add(Activation('relu'))\n",
    "\n",
    "model.add(Conv1D(8, (5), padding='same'))\n",
    "model.add(Activation('relu'))\n",
    "\n",
    "model.add(Conv1D(3, (16)))\n",
    "model.add(Reshape((3,)))\n",
    "model.add(Activation('softmax'))\n",
    "\n",
    "model.compile(loss='categorical_crossentropy',\n",
    "              optimizer='adam',\n",
    "              metrics=['accuracy'])"
   ]
  },
  {
   "cell_type": "code",
   "execution_count": null,
   "id": "812b2396-d968-435b-aa4e-5dd677a4cebd",
   "metadata": {},
   "outputs": [],
   "source": [
    "epochs = 5\n",
    "batch_size = 32\n",
    "\n",
    "fitted = model.fit(train_X, y_train, batch_size=batch_size, epochs=epochs, validation_data=(test_X, y_test))\n",
    "score = fitted.model.evaluate(X_test, y_test, batch_size=batch_size)\n",
    "\n",
    "model_name = f'../models/numpy/acc_{round(score[1], 3)}-loss_{round(score[0], 2)}-{int(time.time())}.model'\n",
    "\n",
    "temp_df = pd.DataFrame.from_dict(fitted.history)\n",
    "temp_df['model_name'] = model_name\n",
    "df = pd.concat([df, temp_df])\n",
    "fitted.model.save(model_name)\n",
    "\n",
    "print('done')"
   ]
  },
  {
   "cell_type": "code",
   "execution_count": null,
   "id": "091fc833-6edb-4491-bb40-e1bdbc1f3066",
   "metadata": {},
   "outputs": [],
   "source": []
  },
  {
   "cell_type": "code",
   "execution_count": null,
   "id": "417192a6-d919-4ee6-879a-979a6067f65a",
   "metadata": {},
   "outputs": [],
   "source": [
    "best_model = sorted(glob('../models/numpy/*.model'))[-1]"
   ]
  },
  {
   "cell_type": "code",
   "execution_count": null,
   "id": "0d4e0f0f-1893-4f44-ba57-d7fec67bad45",
   "metadata": {},
   "outputs": [],
   "source": [
    "model = tf.keras.models.load_model(best_model)\n",
    "\n",
    "y_pred = np.argmax(model.predict(X_test), axis=-1)\n",
    "y_true = np.argmax(y_test, axis=-1)\n",
    "conf_mat = np.round(np.array(confusion_matrix(y_true, y_pred)) / 11750, 3)"
   ]
  },
  {
   "cell_type": "code",
   "execution_count": null,
   "id": "d1224139-ee16-416b-82e4-4272113027d8",
   "metadata": {},
   "outputs": [],
   "source": []
  },
  {
   "cell_type": "code",
   "execution_count": null,
   "id": "2e57bb90-61fb-4ec7-bf40-1ac9065ba7bc",
   "metadata": {},
   "outputs": [],
   "source": [
    "def plot_conf_mat(conf_mat):\n",
    "    actions = ['left', 'none', 'right']\n",
    "\n",
    "    fig, ax = plt.subplots(figsize=(16, 9))\n",
    "\n",
    "    ax.matshow(conf_mat, cmap=plt.cm.RdYlGn)\n",
    "    ax.set_xticklabels([\"\"]+actions)\n",
    "    ax.set_yticklabels([\"\"]+actions)\n",
    "\n",
    "    for i, val0 in enumerate(conf_mat.T):\n",
    "        for ii, val1 in enumerate(val0):\n",
    "            ax.text(i, ii, f\"{val1}\", va='center', ha='center')\n",
    "\n",
    "    plt.title(\"Action Thought\")\n",
    "    plt.ylabel(\"Predicted Action\")\n",
    "    plt.show()"
   ]
  },
  {
   "cell_type": "code",
   "execution_count": null,
   "id": "4767fe89-5e72-45ef-98a9-7d21fb25486c",
   "metadata": {},
   "outputs": [],
   "source": [
    "plot_conf_mat(conf_mat)"
   ]
  },
  {
   "cell_type": "code",
   "execution_count": null,
   "id": "74a0b78f-30d8-42f9-9d3e-ec888a8c0b7d",
   "metadata": {},
   "outputs": [],
   "source": []
  },
  {
   "cell_type": "code",
   "execution_count": null,
   "id": "81c38f87-a11c-49eb-ada8-071ddbf5cc83",
   "metadata": {},
   "outputs": [],
   "source": [
    "# imports\n",
    "import numpy as np\n",
    "import pandas as pd\n",
    "from sklearn.cross_decomposition import PLSRegression\n",
    "from sklearn.ensemble import GradientBoostingClassifier, RandomForestRegressor\n",
    "from sklearn.linear_model import ElasticNet\n",
    "from sklearn.neighbors import KNeighborsClassifier\n",
    "from sklearn.metrics import accuracy_score\n",
    "from sklearn.model_selection import GridSearchCV, train_test_split\n",
    "import xgboost as xgb"
   ]
  },
  {
   "cell_type": "code",
   "execution_count": null,
   "id": "4f56f6f9-68be-459d-b1d7-0f8baebb89cd",
   "metadata": {},
   "outputs": [],
   "source": [
    "class Models:\n",
    "    '''\n",
    "    Build an object to process varied models and stow results\n",
    "    '''\n",
    "\n",
    "    def __init__(self, X_train, X_test, y_train, y_test):\n",
    "        '''\n",
    "        initialize Models object\n",
    "\n",
    "        params\n",
    "        ======\n",
    "        X_train (pandas.coaccuracy_scoreme.DataFrame): dataframe of features to train on\n",
    "        X_test (pandas.core.frame.DataFrame): dataframe of features to test on\n",
    "        y_train (pandas.core.series.Series): series of target to train on\n",
    "        y_test (pandas.core.series.Series): series of target to test on\n",
    "\n",
    "        attrs\n",
    "        =====\n",
    "        results_df (pandas.core.frame.DataFrame): empty dataframe to stow \n",
    "            testing results\n",
    "        best_models (list): stows the model with the best hyperparams\n",
    "\n",
    "        returns\n",
    "        =======\n",
    "        None\n",
    "        '''\n",
    "        self.X_train = X_train\n",
    "        self.X_test = X_test\n",
    "        self.y_train = y_train\n",
    "        self.y_test = y_test\n",
    "\n",
    "        self.results_df = pd.DataFrame(\n",
    "            columns=['model', 'params', 'accuracy'])\n",
    "        self.best_models = []\n",
    "\n",
    "    def build_grid_search(self, model, params):\n",
    "        '''\n",
    "        build GridSearchCV object\n",
    "\n",
    "        params\n",
    "        ======\n",
    "        model (class): the type of sklearn model to be employed\n",
    "        params (dict): contains the hyperparameter names as keys and\n",
    "            hyperparameters as values\n",
    "\n",
    "        attrs\n",
    "        =====\n",
    "        None\n",
    "\n",
    "        returns\n",
    "        =======\n",
    "        gs (sklearn.model_selection._search.GridSearchCV): object ready to\n",
    "            iteratively identify the ideal model\n",
    "        '''\n",
    "        return GridSearchCV(model, params, n_jobs=-1,\n",
    "                            scoring='accuracy', verbose=True)\n",
    "\n",
    "    def fit_model(self, model, params):\n",
    "        '''\n",
    "        fits the model from training data\n",
    "\n",
    "        params\n",
    "        ======\n",
    "        model (class): the type of sklearn model to be employed\n",
    "        params (dict): contains the hyperparameter names as keys and\n",
    "            hyperparameters as values\n",
    "\n",
    "        attrs\n",
    "        =====\n",
    "        None\n",
    "\n",
    "        returns\n",
    "        =======\n",
    "        best_gs (sklearn.model_selection._search.GridSearchCV): the model that\n",
    "            had the highest R2 score\n",
    "        '''\n",
    "        gs = self.build_grid_search(model, params)\n",
    "        print(gs.estimator)\n",
    "        gs = gs.fit(self.X_train, self.y_train)\n",
    "        best_gs = gs.best_estimator_\n",
    "\n",
    "        self.best_models.append(best_gs)\n",
    "\n",
    "        return best_gs\n",
    "\n",
    "    def eval_model(self, model, params):\n",
    "        '''\n",
    "        evalates the model on the testing data\n",
    "\n",
    "        params\n",
    "        ======\n",
    "        model (class): the type of sklearn model to be employed\n",
    "        params (dict): contains the hyperparameter names as keys and\n",
    "            hyperparameters as values\n",
    "\n",
    "        attrs\n",
    "        =====\n",
    "        None\n",
    "\n",
    "        returns\n",
    "        =======\n",
    "        None\n",
    "        '''\n",
    "        best_gs = self.fit_model(model, params)\n",
    "\n",
    "        y_pred = best_gs.predict(self.X_test)\n",
    "        accuracy = accuracy_score(y_pred, self.y_test)\n",
    "\n",
    "        model_name = str(model.__class__)\n",
    "        model_name = model_name.split('.')[-1].split(\"'\")[0]\n",
    "\n",
    "        best_params = best_gs.get_params()\n",
    "\n",
    "        # create and add result to results_df\n",
    "        row = [model_name, best_params, accuracy]\n",
    "        self.results_df.loc[len(self.results_df)] = row\n",
    "\n",
    "        print('\\n')\n"
   ]
  },
  {
   "cell_type": "code",
   "execution_count": null,
   "id": "a45d47dd-be1a-4fdc-9818-f1f34209070a",
   "metadata": {},
   "outputs": [],
   "source": [
    "# create class to stow models\n",
    "flat_X_train = X_train[:1000, :].mean(axis=2)\n",
    "flat_X_test = X_test[:1000, :].mean(axis=2)\n",
    "flat_y_train = y_train.argmax(axis=1)[:1000]\n",
    "flat_y_test = y_test.argmax(axis=1)[:1000]\n",
    "\n",
    "models = Models(flat_X_train, flat_X_test, flat_y_train, flat_y_test)"
   ]
  },
  {
   "cell_type": "code",
   "execution_count": null,
   "id": "7943b8bf-02d5-4b15-8e55-f601a27a92bb",
   "metadata": {},
   "outputs": [],
   "source": [
    "print(flat_X_train.shape)\n",
    "print(flat_X_test.shape)\n",
    "print(flat_y_train.shape)\n",
    "print(flat_y_test.shape)"
   ]
  },
  {
   "cell_type": "code",
   "execution_count": null,
   "id": "de49e1de-b8ce-4683-9f27-03bc9195c8c7",
   "metadata": {},
   "outputs": [],
   "source": [
    "# establish params for each model\n",
    "# elastic_net_params = {'alpha': [0.1, 0.5, 0.9],\n",
    "#                       'l1_ratio': [0.2, 0.5, 0.8],\n",
    "#                       'fit_intercept': [False, True],\n",
    "#                       'normalize': [False, True]}\n",
    "\n",
    "knn_params = {'n_neighbors': [3],\n",
    "              'algorithm': ['auto', 'ball_tree', 'kd_tree', 'brute'],\n",
    "              'n_jobs': [-2]}\n",
    "\n",
    "# pls_params = {'n_components': [2, 3, 4, 5, 6, 7, 8, 9, 10, 11, 12, 13, 14, 15],\n",
    "#              'tol': [0.000000001, 0.00000001, 0.0000001, 0.000001, 0.00001, 0.0001],\n",
    "#              'scale': [False, True]}\n",
    "\n",
    "# rfr_params = {'n_estimators': [10, 100, 1000, 10000],\n",
    "#               'max_depth': [None, 3, 7, 9, 15],\n",
    "#               'max_features': ['auto', 'sqrt', 'log2'],\n",
    "#               'bootstrap': [False, True]}\n",
    "\n",
    "# xgb_params = {'max_depth': [3, 7, 9, 15],\n",
    "#               'subsample': [0.01, 0.1, 0.5, 0.9, 0.99],\n",
    "#               'colsample_bytree': [0.01, 0.1, 0.5, 0.9, 0.99],\n",
    "#               'n_estimators': [10, 100, 1000, 10000]}\n",
    "\n",
    "# gbc_params = {'criterion': ['mse'],\n",
    "#               'loss': ['deviance'],\n",
    "#               'max_features': ['auto', 'sqrt'],\n",
    "#               'subsample': [0.5, 0.7, 0.9],\n",
    "#               'max_depth': [4, 6, 8],\n",
    "#               'n_estimators': [1000]}"
   ]
  },
  {
   "cell_type": "code",
   "execution_count": null,
   "id": "cf458c06-c433-4a7c-9629-e4b17b508a08",
   "metadata": {},
   "outputs": [],
   "source": [
    "# build, fit, & eval models\n",
    "# models.eval_model(model=ElasticNet(), params=elastic_net_params)\n",
    "models.eval_model(model=KNeighborsClassifier(), params=knn_params)\n",
    "# models.eval_model(model=PLSRegression(), params=pls_params)\n",
    "# models.eval_model(model=RandomForestRegressor(), params=rfr_params)\n",
    "# models.eval_model(model=xgb.XGBRegressor(objective='reg:squarederror'), params=xgb_params)\n",
    "# models.eval_model(model=(), params=gbc_params)"
   ]
  },
  {
   "cell_type": "code",
   "execution_count": null,
   "id": "4fdae189-a197-4dc6-9a59-f028142b1692",
   "metadata": {},
   "outputs": [],
   "source": [
    "# show results\n",
    "models.results_df"
   ]
  },
  {
   "cell_type": "code",
   "execution_count": null,
   "id": "8f0dac7c-767e-4a06-b670-7d940447b4f1",
   "metadata": {},
   "outputs": [],
   "source": []
  }
 ],
 "metadata": {
  "kernelspec": {
   "display_name": "Python 3",
   "language": "python",
   "name": "python3"
  },
  "language_info": {
   "codemirror_mode": {
    "name": "ipython",
    "version": 3
   },
   "file_extension": ".py",
   "mimetype": "text/x-python",
   "name": "python",
   "nbconvert_exporter": "python",
   "pygments_lexer": "ipython3",
   "version": "3.8.11"
  }
 },
 "nbformat": 4,
 "nbformat_minor": 5
}
