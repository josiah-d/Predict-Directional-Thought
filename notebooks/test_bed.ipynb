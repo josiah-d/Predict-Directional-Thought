{
 "cells": [
  {
   "cell_type": "code",
   "execution_count": 1,
   "id": "2c71d61e-9281-48a4-89fa-949cf0f9fdd6",
   "metadata": {},
   "outputs": [],
   "source": [
    "# imports\n",
    "import sys\n",
    "sys.path.append('../')\n",
    "\n",
    "from glob import glob\n",
    "from src.load_data import master_load\n",
    "import matplotlib.pyplot as plt\n",
    "import numpy as np\n",
    "import os\n",
    "import pandas as pd\n",
    "from PIL import Image\n",
    "import time\n",
    "\n",
    "import tensorflow as tf\n",
    "from tensorflow import keras\n",
    "from tensorflow.keras.models import Sequential\n",
    "from tensorflow.keras.layers import (Activation, BatchNormalization, Conv1D, Conv2D,\n",
    "                                     Dense, Dropout, Flatten, LSTM, MaxPooling1D,\n",
    "                                     Reshape, TimeDistributed)\n",
    "from tensorflow.math import confusion_matrix"
   ]
  },
  {
   "cell_type": "code",
   "execution_count": 2,
   "id": "491aac84-ec14-4909-a416-49afa8224fbc",
   "metadata": {},
   "outputs": [],
   "source": [
    "# set plotting params\n",
    "plt.rcParams['font.serif'] = 'Ubuntu'\n",
    "plt.rcParams['font.monospace'] = 'Ubuntu Mono'\n",
    "plt.rcParams['font.size'] = 32\n",
    "plt.rcParams['axes.labelsize'] = 32\n",
    "plt.rcParams['axes.titlesize'] = 32\n",
    "plt.rcParams['xtick.labelsize'] = 24\n",
    "plt.rcParams['ytick.labelsize'] = 24\n",
    "plt.rcParams['legend.fontsize'] = 32\n",
    "plt.rcParams['figure.titlesize'] = 48"
   ]
  },
  {
   "cell_type": "code",
   "execution_count": null,
   "id": "19807aaf-e4cc-4a7f-bca9-75ed574bd4ad",
   "metadata": {},
   "outputs": [],
   "source": []
  },
  {
   "cell_type": "code",
   "execution_count": 170,
   "id": "450df7c8-5a2b-49e7-9d4e-a689f135a55f",
   "metadata": {},
   "outputs": [],
   "source": [
    "# load image data\n",
    "train_l_paths = glob('../img/data/train/left/*')\n",
    "train_n_paths = glob('../img/data/train/none/*')\n",
    "train_r_paths = glob('../img/data/train/right/*')\n",
    "test_l_paths = glob('../img/data/test/left/*')\n",
    "test_n_paths = glob('../img/data/test/none/*')\n",
    "test_r_paths = glob('../img/data/test/right/*')"
   ]
  },
  {
   "cell_type": "code",
   "execution_count": null,
   "id": "3666f54e-2cf5-4982-8f6f-1c9a822614c1",
   "metadata": {},
   "outputs": [],
   "source": []
  },
  {
   "cell_type": "code",
   "execution_count": 190,
   "id": "6adbb514-84c1-4c71-8649-8019156a19a3",
   "metadata": {},
   "outputs": [],
   "source": [
    "def load_image(path):\n",
    "    rgba_image = Image.open(path)\n",
    "    rgb_image = rgba_image.convert('RGB')\n",
    "    return np.asarray(rgb_image)"
   ]
  },
  {
   "cell_type": "code",
   "execution_count": 197,
   "id": "287d5e8d-2379-46e1-9cf2-82132bf1e30a",
   "metadata": {},
   "outputs": [],
   "source": [
    "def stack_images(paths_array):\n",
    "    array = []\n",
    "    \n",
    "    for i in paths_array:\n",
    "        array.append(load_image(i))\n",
    "    \n",
    "    return np.array(array)"
   ]
  },
  {
   "cell_type": "code",
   "execution_count": 201,
   "id": "cfd5eac3-f493-45b5-845f-79ab63fbfb3a",
   "metadata": {},
   "outputs": [],
   "source": [
    "left_T_images = stack_images(train_l_paths)\n",
    "none_T_images = stack_images(train_n_paths)\n",
    "right_T_images = stack_images(train_r_paths)\n",
    "\n",
    "left_t_images = stack_images(test_l_paths)\n",
    "none_t_images = stack_images(test_n_paths)\n",
    "right_t_images = stack_images(test_r_paths)"
   ]
  },
  {
   "cell_type": "code",
   "execution_count": 203,
   "id": "109f9e16-1d3b-4f66-858c-b22cd24f4824",
   "metadata": {},
   "outputs": [
    {
     "data": {
      "text/plain": [
       "(370, 1216, 280, 3)"
      ]
     },
     "execution_count": 203,
     "metadata": {},
     "output_type": "execute_result"
    }
   ],
   "source": [
    "combined_data = []\n",
    "for action in actions:\n",
    "    for data in data_dct[action]:\n",
    "\n",
    "        if action == \"left\":\n",
    "            combined_data.append([data, [1, 0, 0]])\n",
    "        elif action == \"right\":\n",
    "            combined_data.append([data, [0, 0, 1]])\n",
    "        elif action == \"none\":\n",
    "            combined_data.append([data, [0, 1, 0]])"
   ]
  },
  {
   "cell_type": "code",
   "execution_count": 219,
   "id": "499578f5-1127-4a25-a0cd-55388e4661d2",
   "metadata": {},
   "outputs": [],
   "source": [
    "def combine(left, none, right):\n",
    "    combined = []\n",
    "    for i in left:\n",
    "        combined.append([i, [1, 0, 0]])\n",
    "\n",
    "    for i in none:\n",
    "        combined.append([i, [0, 1, 0]])\n",
    "\n",
    "    for i in right:\n",
    "        combined.append([i, [0, 0, 1]])\n",
    "        \n",
    "    return combined"
   ]
  },
  {
   "cell_type": "code",
   "execution_count": 218,
   "id": "a770b6c2-8d4e-452c-a0a4-c7c646fd1aeb",
   "metadata": {},
   "outputs": [
    {
     "data": {
      "text/plain": [
       "1089"
      ]
     },
     "execution_count": 218,
     "metadata": {},
     "output_type": "execute_result"
    }
   ],
   "source": [
    "X_train_img = combine()"
   ]
  },
  {
   "cell_type": "code",
   "execution_count": null,
   "id": "70279503-a5b3-427c-b5a4-4e19a1b2f686",
   "metadata": {},
   "outputs": [],
   "source": []
  },
  {
   "cell_type": "code",
   "execution_count": 3,
   "id": "399ab52a-b4cf-4c21-9cab-6f943f3a4521",
   "metadata": {},
   "outputs": [],
   "source": [
    "X_train, X_test, y_train, y_test = master_load()"
   ]
  },
  {
   "cell_type": "code",
   "execution_count": null,
   "id": "e5ec7d58-ac26-467f-a56b-2af2ad019c68",
   "metadata": {},
   "outputs": [],
   "source": []
  },
  {
   "cell_type": "code",
   "execution_count": 4,
   "id": "a84acc36-f5b9-4197-8825-bf359ed9ed7d",
   "metadata": {},
   "outputs": [],
   "source": [
    "seven_XT = X_train[:, 6, :]\n",
    "fifteen_XT = X_train[:, 14, :]\n",
    "\n",
    "seven_Xt = X_test[:, 6, :]\n",
    "fifteen_Xt = X_test[:, 14, :]"
   ]
  },
  {
   "cell_type": "code",
   "execution_count": 5,
   "id": "06799d20-1080-40af-bd7e-2f35cd7f3834",
   "metadata": {},
   "outputs": [],
   "source": [
    "X_train_slice = np.stack((seven_XT, fifteen_XT), axis=1)\n",
    "X_test_slice = np.stack((seven_Xt, fifteen_Xt), axis=1)"
   ]
  },
  {
   "cell_type": "code",
   "execution_count": null,
   "id": "4ea2d3c2-d6e6-443a-9397-09aaf9b7b70e",
   "metadata": {},
   "outputs": [],
   "source": []
  },
  {
   "cell_type": "code",
   "execution_count": 6,
   "id": "8bf909bb-a095-440f-b3bc-8368bd30ede5",
   "metadata": {},
   "outputs": [],
   "source": [
    "model = Sequential()\n",
    "\n",
    "model.add(LSTM(64, return_sequences=True, input_shape=X_train.shape[1:]))\n",
    "\n",
    "model.add(LSTM(64, return_sequences=True))\n",
    "\n",
    "model.add(TimeDistributed(\n",
    "    Dense(32, activation='relu')))\n",
    "\n",
    "model.add(TimeDistributed(\n",
    "    Dense(8, activation='relu')))\n",
    "model.add(Dropout(0.5))\n",
    "\n",
    "model.add(Flatten())\n",
    "\n",
    "model.add(Dense(3))\n",
    "model.add(Activation('softmax'))\n",
    "\n",
    "model.compile(loss='categorical_crossentropy',\n",
    "              optimizer='adam',\n",
    "              metrics=['accuracy'])"
   ]
  },
  {
   "cell_type": "code",
   "execution_count": null,
   "id": "8d979304-f4ff-48de-8847-d848de264ced",
   "metadata": {},
   "outputs": [
    {
     "name": "stdout",
     "output_type": "stream",
     "text": [
      "Epoch 1/50\n",
      "8895/8895 [==============================] - 109s 12ms/step - loss: 0.9497 - accuracy: 0.5035 - val_loss: 1.1730 - val_accuracy: 0.4186\n",
      "Epoch 2/50\n",
      " 797/8895 [=>............................] - ETA: 1:30 - loss: 0.7837 - accuracy: 0.6131"
     ]
    }
   ],
   "source": [
    "epochs = 50\n",
    "batch_size = 32\n",
    "\n",
    "fitted = model.fit(X_train, y_train, batch_size=batch_size, epochs=epochs, validation_data=(X_test, y_test))\n",
    "score = fitted.model.evaluate(X_test, y_test, batch_size=batch_size)\n",
    "\n",
    "model_name = f'../models/numpy/acc_{round(score[1], 3)}-loss_{round(score[0], 2)}-{int(time.time())}.model'\n",
    "\n",
    "df = pd.DataFrame.from_dict(fitted.history)\n",
    "df['model_name'] = model_name\n",
    "fitted.model.save(model_name)\n",
    "\n",
    "print('done')"
   ]
  },
  {
   "cell_type": "code",
   "execution_count": null,
   "id": "fd551fa1-0263-4f3c-8f20-a734bf00de90",
   "metadata": {},
   "outputs": [],
   "source": []
  },
  {
   "cell_type": "code",
   "execution_count": null,
   "id": "445e8116-5568-4994-b3b0-c0eb4632bd89",
   "metadata": {},
   "outputs": [],
   "source": [
    "# modified\n",
    "model = Sequential()\n",
    "\n",
    "model.add(Conv1D(64, (1), input_shape=X_train.shape[1:]))\n",
    "# model.add(Conv2D(16, (3, 3), input_shape=X_train.shape[1:]))  # Test the Conv2D\n",
    "model.add(Activation('selu'))\n",
    "\n",
    "model.add(Conv1D(32, (2)))\n",
    "model.add(Activation('selu'))\n",
    "\n",
    "model.add(MaxPooling1D((2), padding='same'))\n",
    "model.add(Flatten())\n",
    "\n",
    "model.add(Dense(64))\n",
    "model.add(Activation('selu'))\n",
    "\n",
    "model.add(Dense(16))\n",
    "model.add(Activation('selu'))\n",
    "\n",
    "model.add(Dense(3))\n",
    "model.add(Activation('softmax'))\n",
    "\n",
    "model.compile(loss='categorical_crossentropy',\n",
    "              optimizer='adam',\n",
    "              metrics=['accuracy'])"
   ]
  },
  {
   "cell_type": "code",
   "execution_count": null,
   "id": "6b5418f8-fe94-4a12-8c09-0a26bbfc3a7a",
   "metadata": {},
   "outputs": [],
   "source": [
    "epochs = 50\n",
    "batch_size = 32\n",
    "\n",
    "fitted = model.fit(X_train, y_train, batch_size=batch_size, epochs=epochs, validation_data=(X_test, y_test))\n",
    "score = fitted.model.evaluate(X_test, y_test, batch_size=batch_size)\n",
    "\n",
    "model_name = f'../models/numpy/acc_{round(score[1], 3)}-loss_{round(score[0], 2)}-{int(time.time())}.model'\n",
    "\n",
    "temp_df = pd.DataFrame.from_dict(fitted.history)\n",
    "temp_df['model_name'] = model_name\n",
    "df = pd.concat([df, temp_df])\n",
    "fitted.model.save(model_name)\n",
    "\n",
    "print('done')"
   ]
  },
  {
   "cell_type": "code",
   "execution_count": null,
   "id": "4aa67b3c-24dd-4d56-83c9-aab38ef46a4f",
   "metadata": {},
   "outputs": [],
   "source": []
  },
  {
   "cell_type": "code",
   "execution_count": null,
   "id": "8f1a1f66-d198-413e-9088-b67055b39f6d",
   "metadata": {},
   "outputs": [],
   "source": [
    "# modified\n",
    "model = Sequential()\n",
    "\n",
    "model.add(Conv1D(64, (2), input_shape=X_train.shape[1:]))\n",
    "model.add(Activation('relu'))\n",
    "\n",
    "model.add(Conv1D(64, (1)))\n",
    "model.add(Activation('relu'))\n",
    "model.add(MaxPooling1D(pool_size=(2), padding='same'))\n",
    "\n",
    "model.add(Conv1D(64, (1)))\n",
    "model.add(Activation('relu'))\n",
    "model.add(MaxPooling1D(pool_size=(2), padding='same'))\n",
    "\n",
    "model.add(Flatten())\n",
    "\n",
    "model.add(Dense(64))\n",
    "model.add(Activation('relu'))\n",
    "\n",
    "model.add(Dense(16))\n",
    "model.add(Activation('relu'))\n",
    "\n",
    "model.add(Dropout(0.5))\n",
    "\n",
    "model.add(Dense(3))\n",
    "model.add(Activation('softmax'))\n",
    "\n",
    "model.compile(loss='categorical_crossentropy',\n",
    "              optimizer='adam',\n",
    "              metrics=['accuracy'])"
   ]
  },
  {
   "cell_type": "code",
   "execution_count": null,
   "id": "59360086-7bf1-4ce6-afc2-fdca80ff80c5",
   "metadata": {},
   "outputs": [],
   "source": [
    "epochs = 50\n",
    "batch_size = 32\n",
    "\n",
    "fitted = model.fit(X_train, y_train, batch_size=batch_size, epochs=epochs, validation_data=(X_test, y_test))\n",
    "score = fitted.model.evaluate(X_test, y_test, batch_size=batch_size)\n",
    "\n",
    "model_name = f'../models/numpy/acc_{round(score[1], 3)}-loss_{round(score[0], 2)}-{int(time.time())}.model'\n",
    "\n",
    "temp_df = pd.DataFrame.from_dict(fitted.history)\n",
    "temp_df['model_name'] = model_name\n",
    "df = pd.concat([df, temp_df])\n",
    "fitted.model.save(model_name)\n",
    "\n",
    "print('done')"
   ]
  },
  {
   "cell_type": "code",
   "execution_count": null,
   "id": "d7597769-af6e-4518-815d-fe5d27cc7146",
   "metadata": {},
   "outputs": [],
   "source": []
  },
  {
   "cell_type": "code",
   "execution_count": null,
   "id": "86f62511-8d27-4d8a-91b0-02bb9ad4001d",
   "metadata": {},
   "outputs": [],
   "source": [
    "# stolen 1\n",
    "model = Sequential()\n",
    "\n",
    "model.add(Conv1D(128, (1), input_shape=X_train.shape[1:]))\n",
    "model.add(Activation('relu'))\n",
    "\n",
    "model.add(Conv1D(63, (2)))\n",
    "model.add(Activation('relu'))\n",
    "\n",
    "model.add(MaxPooling1D(pool_size=(2), padding='same'))\n",
    "\n",
    "model.add(Conv1D(64, (1)))\n",
    "model.add(Activation('relu'))\n",
    "\n",
    "model.add(MaxPooling1D(pool_size=(2), padding='same'))\n",
    "\n",
    "model.add(Flatten())\n",
    "\n",
    "model.add(Dense(64))\n",
    "model.add(Activation('relu'))\n",
    "\n",
    "model.add(Dense(16))\n",
    "model.add(Activation('relu'))\n",
    "\n",
    "model.add(Dropout(0.5))\n",
    "\n",
    "model.add(Dense(3))\n",
    "model.add(Activation('softmax'))\n",
    "\n",
    "model.compile(loss='categorical_crossentropy',\n",
    "              optimizer='adam',\n",
    "              metrics=['accuracy'])"
   ]
  },
  {
   "cell_type": "code",
   "execution_count": null,
   "id": "53239efe-1fc0-446f-a778-73dae1ce37a9",
   "metadata": {},
   "outputs": [],
   "source": [
    "epochs = 50\n",
    "batch_size = 32\n",
    "\n",
    "fitted = model.fit(X_train, y_train, batch_size=batch_size, epochs=epochs, validation_data=(X_test, y_test))\n",
    "score = fitted.model.evaluate(X_test, y_test, batch_size=batch_size)\n",
    "\n",
    "model_name = f'../models/numpy/acc_{round(score[1], 3)}-loss_{round(score[0], 2)}-{int(time.time())}.model'\n",
    "\n",
    "temp_df = pd.DataFrame.from_dict(fitted.history)\n",
    "temp_df['model_name'] = model_name\n",
    "df = pd.concat([df, temp_df])\n",
    "fitted.model.save(model_name)\n",
    "\n",
    "print('done')"
   ]
  },
  {
   "cell_type": "code",
   "execution_count": null,
   "id": "5f8d4d00-5ed3-4fa9-9c0c-dd1dfd82fc0d",
   "metadata": {},
   "outputs": [],
   "source": []
  },
  {
   "cell_type": "code",
   "execution_count": null,
   "id": "1f6d0407-4c64-4ef3-99e4-6aba99f4c4b9",
   "metadata": {},
   "outputs": [],
   "source": [
    "reshape = (-1, 2, 60)\n",
    "\n",
    "train_X = np.clip(np.array(X_train).reshape(reshape), -10, 10) / 10\n",
    "test_X = np.clip(np.array(X_test).reshape(reshape), -10, 10) / 10"
   ]
  },
  {
   "cell_type": "code",
   "execution_count": null,
   "id": "015ee3d9-af90-4f1c-8230-d191cb7d03c3",
   "metadata": {},
   "outputs": [],
   "source": [
    "# stolen 2\n",
    "model = Sequential()\n",
    "\n",
    "model.add(Conv1D(128, (1), padding='same', input_shape=train_X.shape[1:]))\n",
    "model.add(Activation('relu'))\n",
    "\n",
    "model.add(Conv1D(64, (5), padding='same'))\n",
    "model.add(Activation('relu'))\n",
    "\n",
    "model.add(Conv1D(16, (5), padding='same'))\n",
    "model.add(Activation('relu'))\n",
    "\n",
    "model.add(Conv1D(8, (5), padding='same'))\n",
    "model.add(Activation('relu'))\n",
    "\n",
    "model.add(Conv1D(3, (2)))\n",
    "model.add(Reshape((3,)))\n",
    "model.add(Activation('softmax'))\n",
    "\n",
    "model.compile(loss='categorical_crossentropy',\n",
    "              optimizer='adam',\n",
    "              metrics=['accuracy'])"
   ]
  },
  {
   "cell_type": "code",
   "execution_count": null,
   "id": "812b2396-d968-435b-aa4e-5dd677a4cebd",
   "metadata": {},
   "outputs": [],
   "source": [
    "epochs = 50\n",
    "batch_size = 32\n",
    "\n",
    "fitted = model.fit(train_X, y_train, batch_size=batch_size, epochs=epochs, validation_data=(test_X, y_test))\n",
    "score = fitted.model.evaluate(test_X, y_test, batch_size=batch_size)\n",
    "\n",
    "model_name = f'../models/numpy/acc_{round(score[1], 3)}-loss_{round(score[0], 2)}-{int(time.time())}.model'\n",
    "\n",
    "temp_df = pd.DataFrame.from_dict(fitted.history)\n",
    "temp_df['model_name'] = model_name\n",
    "df = pd.concat([df, temp_df])\n",
    "fitted.model.save(model_name)\n",
    "\n",
    "print('done')"
   ]
  },
  {
   "cell_type": "code",
   "execution_count": null,
   "id": "eb47e009-911c-4a3b-b309-fbe3ecb19f34",
   "metadata": {},
   "outputs": [],
   "source": []
  },
  {
   "cell_type": "code",
   "execution_count": null,
   "id": "275c85d5-a504-46f6-b29f-a17e8d64ce7e",
   "metadata": {},
   "outputs": [],
   "source": [
    "def residual_block(x, filters, conv_num=3, activation=\"relu\"):\n",
    "    # Shortcut\n",
    "    s = keras.layers.Conv1D(filters, 1, padding=\"same\")(x)\n",
    "    for i in range(conv_num - 1):\n",
    "        x = keras.layers.Conv1D(filters, 3, padding=\"same\")(x)\n",
    "        x = keras.layers.Activation(activation)(x)\n",
    "    x = keras.layers.Conv1D(filters, 3, padding=\"same\")(x)\n",
    "    x = keras.layers.Add()([x, s])\n",
    "    x = keras.layers.Activation(activation)(x)\n",
    "    return keras.layers.MaxPool1D(pool_size=2, strides=2, padding='same')(x)"
   ]
  },
  {
   "cell_type": "code",
   "execution_count": null,
   "id": "8204ea9e-2704-4dd6-b15e-45a678c8bd83",
   "metadata": {},
   "outputs": [],
   "source": [
    "def build_model(input_shape, num_classes):\n",
    "    inputs = keras.layers.Input(shape=input_shape, name=\"input\")\n",
    "\n",
    "    x = residual_block(inputs, 16, 2)\n",
    "    x = residual_block(x, 32, 2)\n",
    "    x = residual_block(x, 64, 3)\n",
    "    x = residual_block(x, 128, 3)\n",
    "    x = residual_block(x, 128, 3)\n",
    "\n",
    "    x = keras.layers.MaxPooling1D(pool_size=(2), padding='same')(x)\n",
    "    x = keras.layers.Flatten()(x)\n",
    "    x = keras.layers.Dense(256, activation=\"relu\")(x)\n",
    "    x = keras.layers.Dense(128, activation=\"relu\")(x)\n",
    "\n",
    "    outputs = keras.layers.Dense(num_classes, activation=\"softmax\", name=\"output\")(x)\n",
    "\n",
    "    return keras.models.Model(inputs=inputs, outputs=outputs)"
   ]
  },
  {
   "cell_type": "code",
   "execution_count": null,
   "id": "87350652-9984-49f9-94c6-4553959f948e",
   "metadata": {},
   "outputs": [],
   "source": [
    "model = build_model((X_train.shape[1:]), 3)"
   ]
  },
  {
   "cell_type": "code",
   "execution_count": null,
   "id": "013578eb-fd9f-4f87-82e9-7aa90bf22892",
   "metadata": {},
   "outputs": [],
   "source": [
    "model.compile(optimizer=\"Adam\", loss=\"categorical_crossentropy\", metrics=[\"accuracy\"])"
   ]
  },
  {
   "cell_type": "code",
   "execution_count": null,
   "id": "25298469-c29a-4ab2-b120-0b937ad27f8f",
   "metadata": {},
   "outputs": [],
   "source": [
    "epochs = 50\n",
    "batch_size = 32\n",
    "\n",
    "fitted = model.fit(X_train, y_train, batch_size=batch_size, epochs=epochs, validation_data=(X_test, y_test))\n",
    "score = fitted.model.evaluate(X_test, y_test, batch_size=batch_size)\n",
    "\n",
    "model_name = f'../models/numpy/acc_{round(score[1], 3)}-loss_{round(score[0], 2)}-{int(time.time())}.model'\n",
    "\n",
    "temp_df = pd.DataFrame.from_dict(fitted.history)\n",
    "temp_df['model_name'] = model_name\n",
    "df = pd.concat([df, temp_df])\n",
    "fitted.model.save(model_name)\n",
    "\n",
    "print('done')"
   ]
  },
  {
   "cell_type": "code",
   "execution_count": null,
   "id": "157de83e-7e2d-4dcd-994c-2aaa3e596b9a",
   "metadata": {},
   "outputs": [],
   "source": []
  },
  {
   "cell_type": "code",
   "execution_count": null,
   "id": "94afb25c-26cc-4dac-9fcd-84abef4f2e33",
   "metadata": {},
   "outputs": [],
   "source": []
  },
  {
   "cell_type": "code",
   "execution_count": null,
   "id": "7dd86864-02ba-40e5-a4ce-c2f7b2e27105",
   "metadata": {},
   "outputs": [],
   "source": []
  },
  {
   "cell_type": "code",
   "execution_count": null,
   "id": "8479430f-62f0-45d3-ae18-a6bc0b9b3298",
   "metadata": {},
   "outputs": [],
   "source": []
  },
  {
   "cell_type": "code",
   "execution_count": null,
   "id": "091fc833-6edb-4491-bb40-e1bdbc1f3066",
   "metadata": {},
   "outputs": [],
   "source": []
  },
  {
   "cell_type": "code",
   "execution_count": null,
   "id": "417192a6-d919-4ee6-879a-979a6067f65a",
   "metadata": {},
   "outputs": [],
   "source": [
    "best_model = sorted(glob('../models/numpy/*.model'))[-1]"
   ]
  },
  {
   "cell_type": "code",
   "execution_count": null,
   "id": "0d4e0f0f-1893-4f44-ba57-d7fec67bad45",
   "metadata": {},
   "outputs": [],
   "source": [
    "model = tf.keras.models.load_model(best_model)\n",
    "\n",
    "y_pred = np.argmax(model.predict(X_test), axis=-1)\n",
    "y_true = np.argmax(y_test, axis=-1)\n",
    "conf_mat = np.round(np.array(confusion_matrix(y_true, y_pred)) / 11750, 3)"
   ]
  },
  {
   "cell_type": "code",
   "execution_count": null,
   "id": "d1224139-ee16-416b-82e4-4272113027d8",
   "metadata": {},
   "outputs": [],
   "source": []
  },
  {
   "cell_type": "code",
   "execution_count": null,
   "id": "2e57bb90-61fb-4ec7-bf40-1ac9065ba7bc",
   "metadata": {},
   "outputs": [],
   "source": [
    "def plot_conf_mat(conf_mat):\n",
    "    actions = ['left', 'none', 'right']\n",
    "\n",
    "    fig, ax = plt.subplots(figsize=(16, 9))\n",
    "\n",
    "    ax.matshow(conf_mat, cmap=plt.cm.RdYlGn)\n",
    "    ax.set_xticklabels([\"\"]+actions)\n",
    "    ax.set_yticklabels([\"\"]+actions)\n",
    "\n",
    "    for i, val0 in enumerate(conf_mat.T):\n",
    "        for ii, val1 in enumerate(val0):\n",
    "            ax.text(i, ii, f\"{val1}\", va='center', ha='center')\n",
    "\n",
    "    plt.title(\"Action Thought\")\n",
    "    plt.ylabel(\"Predicted Action\")\n",
    "    plt.show()"
   ]
  },
  {
   "cell_type": "code",
   "execution_count": null,
   "id": "4767fe89-5e72-45ef-98a9-7d21fb25486c",
   "metadata": {},
   "outputs": [],
   "source": [
    "plot_conf_mat(conf_mat)"
   ]
  },
  {
   "cell_type": "code",
   "execution_count": null,
   "id": "74a0b78f-30d8-42f9-9d3e-ec888a8c0b7d",
   "metadata": {},
   "outputs": [],
   "source": []
  },
  {
   "cell_type": "markdown",
   "id": "403129c6-b0bf-477b-a692-4e38df2bac12",
   "metadata": {},
   "source": [
    "# trained KNN, log_reg, GBC\n",
    "# all trash, acc < 0.35"
   ]
  },
  {
   "cell_type": "code",
   "execution_count": null,
   "id": "8cc9fcd0-fdfe-4313-810b-f466b2f11922",
   "metadata": {},
   "outputs": [],
   "source": []
  },
  {
   "cell_type": "code",
   "execution_count": null,
   "id": "484d573f-2744-45e3-9230-3e8b0d4ff3dc",
   "metadata": {},
   "outputs": [],
   "source": []
  },
  {
   "cell_type": "code",
   "execution_count": null,
   "id": "2d7f7e1e-27f3-4305-9c8d-c31945f892ff",
   "metadata": {},
   "outputs": [],
   "source": []
  },
  {
   "cell_type": "code",
   "execution_count": null,
   "id": "66f4288e-0a5c-4bd4-9d57-96cc4b1875a5",
   "metadata": {},
   "outputs": [],
   "source": []
  },
  {
   "cell_type": "code",
   "execution_count": null,
   "id": "32e9f885-fc49-42ed-935f-d38eee499b1a",
   "metadata": {},
   "outputs": [],
   "source": []
  },
  {
   "cell_type": "code",
   "execution_count": null,
   "id": "5eb00c1f-e08a-405a-87b2-a03bc266dbf1",
   "metadata": {},
   "outputs": [],
   "source": []
  },
  {
   "cell_type": "code",
   "execution_count": null,
   "id": "dacc5211-be21-405c-b5c9-f281b7d1f866",
   "metadata": {},
   "outputs": [],
   "source": []
  },
  {
   "cell_type": "code",
   "execution_count": null,
   "id": "741836fb-a293-445f-b60d-921ec6c1383d",
   "metadata": {},
   "outputs": [],
   "source": []
  },
  {
   "cell_type": "code",
   "execution_count": null,
   "id": "17e36a76-7b14-4b6d-adfa-4ffb3efd4dbb",
   "metadata": {},
   "outputs": [],
   "source": []
  },
  {
   "cell_type": "code",
   "execution_count": null,
   "id": "3f98179e-2e0b-4820-8d36-871b47371379",
   "metadata": {},
   "outputs": [],
   "source": []
  },
  {
   "cell_type": "code",
   "execution_count": null,
   "id": "0c851697-2bcd-4f72-87bc-0d8d17a4c7f2",
   "metadata": {},
   "outputs": [],
   "source": []
  },
  {
   "cell_type": "code",
   "execution_count": null,
   "id": "9037948e-e29f-4141-b12f-8e40f99b45f0",
   "metadata": {},
   "outputs": [],
   "source": []
  },
  {
   "cell_type": "code",
   "execution_count": null,
   "id": "96b9e1a7-66a1-40ac-ac7d-647d785604f3",
   "metadata": {},
   "outputs": [],
   "source": []
  },
  {
   "cell_type": "code",
   "execution_count": null,
   "id": "ef31d36c-2082-48ed-80bb-c8b86903cdc9",
   "metadata": {},
   "outputs": [],
   "source": []
  }
 ],
 "metadata": {
  "kernelspec": {
   "display_name": "Python 3",
   "language": "python",
   "name": "python3"
  },
  "language_info": {
   "codemirror_mode": {
    "name": "ipython",
    "version": 3
   },
   "file_extension": ".py",
   "mimetype": "text/x-python",
   "name": "python",
   "nbconvert_exporter": "python",
   "pygments_lexer": "ipython3",
   "version": "3.8.11"
  }
 },
 "nbformat": 4,
 "nbformat_minor": 5
}
