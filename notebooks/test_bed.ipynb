{
 "cells": [
  {
   "cell_type": "code",
   "execution_count": 15,
   "id": "2c71d61e-9281-48a4-89fa-949cf0f9fdd6",
   "metadata": {},
   "outputs": [],
   "source": [
    "# imports\n",
    "import sys\n",
    "sys.path.append('../')\n",
    "\n",
    "from glob import glob\n",
    "import matplotlib.pyplot as plt\n",
    "import numpy as np\n",
    "import os\n",
    "import pandas as pd\n",
    "from PIL import Image\n",
    "from src.load_data import master_load\n",
    "import tensorflow as tf\n",
    "from tensorflow import keras\n",
    "from tensorflow.keras.models import Sequential\n",
    "from tensorflow.keras.layers import (Activation, BatchNormalization, Conv1D, Conv2D,\n",
    "                                     Dense, Dropout, Flatten, LSTM, MaxPooling1D,\n",
    "                                     MaxPooling2D, Reshape, TimeDistributed)\n",
    "from tensorflow.keras import regularizers\n",
    "from tensorflow.math import confusion_matrix\n",
    "import time\n",
    "\n",
    "\n",
    "from tensorflow.keras.models import Model\n",
    "from tensorflow.keras.layers import Dense, Activation, Permute, Dropout\n",
    "from tensorflow.keras.layers import Conv2D, MaxPooling2D, AveragePooling2D\n",
    "from tensorflow.keras.layers import SeparableConv2D, DepthwiseConv2D\n",
    "from tensorflow.keras.layers import BatchNormalization\n",
    "from tensorflow.keras.layers import SpatialDropout2D\n",
    "from tensorflow.keras.regularizers import l1_l2\n",
    "from tensorflow.keras.layers import Input, Flatten\n",
    "from tensorflow.keras.constraints import max_norm\n",
    "from tensorflow.keras import backend as K"
   ]
  },
  {
   "cell_type": "code",
   "execution_count": 2,
   "id": "491aac84-ec14-4909-a416-49afa8224fbc",
   "metadata": {},
   "outputs": [],
   "source": [
    "# set plotting params\n",
    "plt.rcParams['font.serif'] = 'Ubuntu'\n",
    "plt.rcParams['font.monospace'] = 'Ubuntu Mono'\n",
    "plt.rcParams['font.size'] = 32\n",
    "plt.rcParams['axes.labelsize'] = 32\n",
    "plt.rcParams['axes.titlesize'] = 32\n",
    "plt.rcParams['xtick.labelsize'] = 24\n",
    "plt.rcParams['ytick.labelsize'] = 24\n",
    "plt.rcParams['legend.fontsize'] = 32\n",
    "plt.rcParams['figure.titlesize'] = 48"
   ]
  },
  {
   "cell_type": "code",
   "execution_count": null,
   "id": "dfe4e5c1-aacc-434f-a9bb-cc136650f5d7",
   "metadata": {},
   "outputs": [],
   "source": []
  },
  {
   "cell_type": "code",
   "execution_count": 4,
   "id": "5869487a-f01b-413a-b9a8-f484e1f82036",
   "metadata": {},
   "outputs": [],
   "source": [
    "model_df = pd.DataFrame({'loss': [0], 'accuracy': [0], 'val_loss': [0], 'val_accuracy': [0], 'model_name': [0]})"
   ]
  },
  {
   "cell_type": "code",
   "execution_count": 5,
   "id": "b0a620fd-6cdb-46fb-adba-15ed49f3aad4",
   "metadata": {},
   "outputs": [],
   "source": [
    "def fit_model(model, X_train, y_train, X_test, y_test, epochs=5, batch_size=32, model_type='numpy'):\n",
    "    global model_df\n",
    "    \n",
    "    fitted = model.fit(X_train, y_train, batch_size=batch_size, epochs=epochs, validation_data=(X_test, y_test))\n",
    "    score = fitted.model.evaluate(X_test, y_test, batch_size=batch_size)\n",
    "\n",
    "    model_name = f'../models/{model_type}/acc_{round(score[1], 3)}-loss_{round(score[0], 2)}-{int(time.time())}.model'\n",
    "\n",
    "    temp_df = pd.DataFrame.from_dict(fitted.history)\n",
    "    temp_df['model_name'] = model_name\n",
    "    model_df = pd.concat([model_df, temp_df])\n",
    "\n",
    "    fitted.model.save(model_name)\n",
    "    print('done')"
   ]
  },
  {
   "cell_type": "code",
   "execution_count": null,
   "id": "fd7bb73b-98c4-4e55-b75a-fa2f7c89843b",
   "metadata": {},
   "outputs": [],
   "source": []
  },
  {
   "cell_type": "code",
   "execution_count": 6,
   "id": "450df7c8-5a2b-49e7-9d4e-a689f135a55f",
   "metadata": {},
   "outputs": [],
   "source": [
    "# load image data\n",
    "train_l_paths = glob('../img/data/train/left/*')\n",
    "train_n_paths = glob('../img/data/train/none/*')\n",
    "train_r_paths = glob('../img/data/train/right/*')\n",
    "test_l_paths = glob('../img/data/test/left/*')\n",
    "test_n_paths = glob('../img/data/test/none/*')\n",
    "test_r_paths = glob('../img/data/test/right/*')"
   ]
  },
  {
   "cell_type": "code",
   "execution_count": 7,
   "id": "6adbb514-84c1-4c71-8649-8019156a19a3",
   "metadata": {},
   "outputs": [],
   "source": [
    "def load_image(path):\n",
    "    rgba_image = Image.open(path)\n",
    "    rgb_image = rgba_image.convert('RGB')\n",
    "    return np.asarray(rgb_image)"
   ]
  },
  {
   "cell_type": "code",
   "execution_count": 8,
   "id": "287d5e8d-2379-46e1-9cf2-82132bf1e30a",
   "metadata": {},
   "outputs": [],
   "source": [
    "def stack_images(paths_array):\n",
    "    array = []\n",
    "    \n",
    "    for i in paths_array:\n",
    "        array.append(load_image(i))\n",
    "    \n",
    "    return np.array(array)"
   ]
  },
  {
   "cell_type": "code",
   "execution_count": 9,
   "id": "499578f5-1127-4a25-a0cd-55388e4661d2",
   "metadata": {},
   "outputs": [],
   "source": [
    "def combine(left, none, right):\n",
    "    combined = []\n",
    "    for i in left:\n",
    "        combined.append([i, np.array([1, 0, 0])])\n",
    "\n",
    "    for i in none:\n",
    "        combined.append([i, np.array([0, 1, 0])])\n",
    "\n",
    "    for i in right:\n",
    "        combined.append([i, np.array([0, 0, 1])])\n",
    "        \n",
    "    return np.array(combined, dtype=object)"
   ]
  },
  {
   "cell_type": "code",
   "execution_count": 10,
   "id": "5e3a535b-96b6-4e7c-bf8b-41184fba0c1a",
   "metadata": {},
   "outputs": [],
   "source": [
    "def load_img_data(left_train, none_train, right_train, left_test, none_test, right_test):\n",
    "    left_T_images = stack_images(left_train)\n",
    "    none_T_images = stack_images(none_train)\n",
    "    right_T_images = stack_images(right_train)\n",
    "\n",
    "    left_t_images = stack_images(left_test)\n",
    "    none_t_images = stack_images(none_test)\n",
    "    right_t_images = stack_images(right_test)\n",
    "    \n",
    "    train = combine(left_T_images, none_T_images, right_T_images)\n",
    "    test = combine(left_t_images, none_t_images, right_t_images)\n",
    "    \n",
    "    np.random.shuffle(train)\n",
    "    np.random.shuffle(test)\n",
    "    \n",
    "    X_train = []\n",
    "    y_train = []\n",
    "    \n",
    "    X_test = []\n",
    "    y_test = []\n",
    "\n",
    "    for feature, target in train:\n",
    "        X_train.append(feature)\n",
    "        y_train.append(target)\n",
    "    \n",
    "    for feature, target in test:\n",
    "        X_test.append(feature)\n",
    "        y_test.append(target)\n",
    "        \n",
    "    X_train = np.array(X_train) / 255\n",
    "    y_train = np.array(y_train)\n",
    "    X_test = np.array(X_test) / 255\n",
    "    y_test = np.array(y_test)\n",
    "\n",
    "    return X_train, y_train, X_test, y_test"
   ]
  },
  {
   "cell_type": "code",
   "execution_count": 11,
   "id": "7a084d4e-b72d-40b9-bdc0-02d8663679cf",
   "metadata": {},
   "outputs": [],
   "source": [
    "# load image data\n",
    "X_train_img, y_train_img, X_test_img, y_test_img = load_img_data(train_l_paths, train_n_paths, train_r_paths,\n",
    "                                                                 test_l_paths, test_n_paths, test_r_paths)"
   ]
  },
  {
   "cell_type": "code",
   "execution_count": 12,
   "id": "399ab52a-b4cf-4c21-9cab-6f943f3a4521",
   "metadata": {},
   "outputs": [],
   "source": [
    "# load fft data\n",
    "X_train, X_test, y_train, y_test = master_load()"
   ]
  },
  {
   "cell_type": "code",
   "execution_count": 13,
   "id": "e5ec7d58-ac26-467f-a56b-2af2ad019c68",
   "metadata": {},
   "outputs": [],
   "source": [
    "# reshape data\n",
    "X_train_reshape = X_train.reshape(-1, 16, 60, 1)\n",
    "X_test_reshape = X_test.reshape(-1, 16, 60, 1)"
   ]
  },
  {
   "cell_type": "code",
   "execution_count": null,
   "id": "4ea2d3c2-d6e6-443a-9397-09aaf9b7b70e",
   "metadata": {},
   "outputs": [],
   "source": []
  },
  {
   "cell_type": "code",
   "execution_count": 50,
   "id": "44a5bd48-ce61-42a1-af8a-53ba772ed1c7",
   "metadata": {},
   "outputs": [
    {
     "name": "stdout",
     "output_type": "stream",
     "text": [
      "Model: \"sequential_11\"\n",
      "_________________________________________________________________\n",
      "Layer (type)                 Output Shape              Param #   \n",
      "=================================================================\n",
      "conv1d_33 (Conv1D)           (None, 16, 64)            19264     \n",
      "_________________________________________________________________\n",
      "activation_32 (Activation)   (None, 16, 64)            0         \n",
      "_________________________________________________________________\n",
      "dropout_2 (Dropout)          (None, 16, 64)            0         \n",
      "_________________________________________________________________\n",
      "conv1d_34 (Conv1D)           (None, 16, 128)           41088     \n",
      "_________________________________________________________________\n",
      "activation_33 (Activation)   (None, 16, 128)           0         \n",
      "_________________________________________________________________\n",
      "dropout_3 (Dropout)          (None, 16, 128)           0         \n",
      "_________________________________________________________________\n",
      "conv1d_35 (Conv1D)           (None, 16, 256)           164096    \n",
      "_________________________________________________________________\n",
      "activation_34 (Activation)   (None, 16, 256)           0         \n",
      "_________________________________________________________________\n",
      "dropout_4 (Dropout)          (None, 16, 256)           0         \n",
      "_________________________________________________________________\n",
      "conv1d_36 (Conv1D)           (None, 16, 512)           655872    \n",
      "_________________________________________________________________\n",
      "activation_35 (Activation)   (None, 16, 512)           0         \n",
      "_________________________________________________________________\n",
      "dropout_5 (Dropout)          (None, 16, 512)           0         \n",
      "_________________________________________________________________\n",
      "conv1d_37 (Conv1D)           (None, 1, 3)              24579     \n",
      "_________________________________________________________________\n",
      "reshape_3 (Reshape)          (None, 3)                 0         \n",
      "_________________________________________________________________\n",
      "activation_36 (Activation)   (None, 3)                 0         \n",
      "=================================================================\n",
      "Total params: 904,899\n",
      "Trainable params: 904,899\n",
      "Non-trainable params: 0\n",
      "_________________________________________________________________\n"
     ]
    }
   ],
   "source": [
    "# 8895/8895 [==============================] - 245s 28ms/step - loss: 0.9311 - accuracy: 0.5686 - val_loss: 1.1161 - val_accuracy: 0.4921\n",
    "model = Sequential()\n",
    "\n",
    "model.add(Conv1D(64, (5), padding='same', input_shape=X_train.shape[1:]))\n",
    "model.add(Activation('relu'))\n",
    "model.add(Dropout(0.2))\n",
    "\n",
    "model.add(Conv1D(128, (5), padding='same'))\n",
    "model.add(Activation('relu'))\n",
    "model.add(Dropout(0.2))\n",
    "\n",
    "model.add(Conv1D(256, (5), padding='same'))\n",
    "model.add(Activation('relu'))\n",
    "model.add(Dropout(0.2))\n",
    "\n",
    "model.add(Conv1D(512, (5), padding='same'))\n",
    "model.add(Activation('relu'))\n",
    "model.add(Dropout(0.5))\n",
    "\n",
    "model.add(Conv1D(3, (16)))\n",
    "model.add(Reshape((3,)))\n",
    "model.add(Activation('softmax'))\n",
    "\n",
    "model.compile(loss='categorical_crossentropy',\n",
    "              optimizer='adam',\n",
    "              metrics=['accuracy'])\n",
    "\n",
    "model.summary()"
   ]
  },
  {
   "cell_type": "code",
   "execution_count": null,
   "id": "a5234aae-7af4-4f12-8f78-cde17f65cfdd",
   "metadata": {},
   "outputs": [
    {
     "name": "stdout",
     "output_type": "stream",
     "text": [
      "Epoch 1/100\n",
      "8895/8895 [==============================] - 231s 26ms/step - loss: 0.9788 - accuracy: 0.5067 - val_loss: 1.1723 - val_accuracy: 0.4083\n",
      "Epoch 2/100\n",
      "8895/8895 [==============================] - 234s 26ms/step - loss: 0.8650 - accuracy: 0.5893 - val_loss: 1.1762 - val_accuracy: 0.4309\n",
      "Epoch 3/100\n",
      "8895/8895 [==============================] - 255s 29ms/step - loss: 0.8315 - accuracy: 0.6107 - val_loss: 1.1491 - val_accuracy: 0.4245\n",
      "Epoch 4/100\n",
      "8895/8895 [==============================] - 236s 27ms/step - loss: 0.8068 - accuracy: 0.6252 - val_loss: 1.1633 - val_accuracy: 0.4354\n",
      "Epoch 5/100\n",
      "8895/8895 [==============================] - 221s 25ms/step - loss: 0.7934 - accuracy: 0.6330 - val_loss: 1.2734 - val_accuracy: 0.3783\n",
      "Epoch 6/100\n",
      "8895/8895 [==============================] - 236s 27ms/step - loss: 0.7826 - accuracy: 0.6400 - val_loss: 1.2056 - val_accuracy: 0.3970\n",
      "Epoch 7/100\n",
      "8895/8895 [==============================] - 202s 23ms/step - loss: 0.7819 - accuracy: 0.6395 - val_loss: 1.2212 - val_accuracy: 0.4252\n",
      "Epoch 8/100\n",
      "8895/8895 [==============================] - 188s 21ms/step - loss: 0.7723 - accuracy: 0.6444 - val_loss: 1.1926 - val_accuracy: 0.4367\n",
      "Epoch 9/100\n",
      "8895/8895 [==============================] - 189s 21ms/step - loss: 0.7664 - accuracy: 0.6472 - val_loss: 1.3331 - val_accuracy: 0.4034\n",
      "Epoch 10/100\n",
      "8895/8895 [==============================] - 190s 21ms/step - loss: 0.7652 - accuracy: 0.6493 - val_loss: 1.2656 - val_accuracy: 0.4093\n",
      "Epoch 11/100\n",
      "8895/8895 [==============================] - 240s 27ms/step - loss: 0.7607 - accuracy: 0.6514 - val_loss: 1.2937 - val_accuracy: 0.4146\n",
      "Epoch 12/100\n",
      "8895/8895 [==============================] - 230s 26ms/step - loss: 0.7652 - accuracy: 0.6493 - val_loss: 1.1950 - val_accuracy: 0.4082\n",
      "Epoch 13/100\n",
      "8895/8895 [==============================] - 233s 26ms/step - loss: 0.7641 - accuracy: 0.6497 - val_loss: 1.3541 - val_accuracy: 0.3934\n",
      "Epoch 14/100\n",
      "8895/8895 [==============================] - 244s 27ms/step - loss: 0.7581 - accuracy: 0.6526 - val_loss: 1.3752 - val_accuracy: 0.3978\n",
      "Epoch 15/100\n",
      "8895/8895 [==============================] - 250s 28ms/step - loss: 0.7602 - accuracy: 0.6536 - val_loss: 1.3303 - val_accuracy: 0.4070\n",
      "Epoch 16/100\n",
      "8895/8895 [==============================] - 239s 27ms/step - loss: 0.7558 - accuracy: 0.6549 - val_loss: 1.2679 - val_accuracy: 0.4008\n",
      "Epoch 17/100\n",
      "8895/8895 [==============================] - 262s 29ms/step - loss: 0.7547 - accuracy: 0.6563 - val_loss: 1.3672 - val_accuracy: 0.3950\n",
      "Epoch 18/100\n",
      "5161/8895 [================>.............] - ETA: 1:29 - loss: 0.7463 - accuracy: 0.6599"
     ]
    }
   ],
   "source": [
    "fit_model(model, X_train, y_train, X_test, y_test, epochs=100, batch_size=32, model_type='numpy')"
   ]
  },
  {
   "cell_type": "code",
   "execution_count": null,
   "id": "9b215f73-2351-4267-9301-8464fbfed310",
   "metadata": {},
   "outputs": [],
   "source": []
  },
  {
   "cell_type": "code",
   "execution_count": null,
   "id": "8f1a1f66-d198-413e-9088-b67055b39f6d",
   "metadata": {},
   "outputs": [],
   "source": [
    "# 8895/8895 [==============================] - 32s 4ms/step - loss: 0.1760 - accuracy: 0.9299 - val_loss: 8.7883 - val_accuracy: 0.3635\n",
    "model = Sequential()\n",
    "\n",
    "model.add(Conv1D(64, (2), input_shape=X_train.shape[1:], kernel_regularizer=regularizers.l2(l=0.01)))\n",
    "model.add(Activation('relu'))\n",
    "\n",
    "model.add(Conv1D(64, (1), kernel_regularizer=regularizers.l2(l=0.01)))\n",
    "model.add(Activation('relu'))\n",
    "model.add(MaxPooling1D(pool_size=(2), padding='same'))\n",
    "\n",
    "model.add(Conv1D(64, (1), kernel_regularizer=regularizers.l2(l=0.01)))\n",
    "model.add(Activation('relu'))\n",
    "model.add(MaxPooling1D(pool_size=(2), padding='same'))\n",
    "\n",
    "model.add(Flatten())\n",
    "\n",
    "model.add(Dense(64))\n",
    "model.add(Activation('relu'))\n",
    "\n",
    "model.add(Dense(16))\n",
    "model.add(Activation('relu'))\n",
    "\n",
    "model.add(Dropout(0.5))\n",
    "\n",
    "model.add(Dense(3))\n",
    "model.add(Activation('softmax'))\n",
    "\n",
    "model.compile(loss='categorical_crossentropy',\n",
    "              optimizer='adam',\n",
    "              metrics=['accuracy'])"
   ]
  },
  {
   "cell_type": "code",
   "execution_count": null,
   "id": "59360086-7bf1-4ce6-afc2-fdca80ff80c5",
   "metadata": {},
   "outputs": [],
   "source": [
    "fit_model(model, X_train, y_train, X_test, y_test, epochs=100, batch_size=32, model_type='numpy')"
   ]
  },
  {
   "cell_type": "code",
   "execution_count": null,
   "id": "d7597769-af6e-4518-815d-fe5d27cc7146",
   "metadata": {},
   "outputs": [],
   "source": []
  },
  {
   "cell_type": "code",
   "execution_count": null,
   "id": "86f62511-8d27-4d8a-91b0-02bb9ad4001d",
   "metadata": {},
   "outputs": [],
   "source": [
    "# 8895/8895 [==============================] - 37s 4ms/step - loss: 0.1328 - accuracy: 0.9459 - val_loss: 10.4039 - val_accuracy: 0.3583\n",
    "model = Sequential()\n",
    "\n",
    "model.add(Conv1D(128, (1), input_shape=X_train.shape[1:], kernel_regularizer=regularizers.l2(l=0.01)))\n",
    "model.add(Activation('relu'))\n",
    "\n",
    "model.add(Conv1D(64, (2), kernel_regularizer=regularizers.l2(l=0.01)))\n",
    "model.add(Activation('relu'))\n",
    "\n",
    "model.add(MaxPooling1D(pool_size=(2), padding='same'))\n",
    "\n",
    "model.add(Conv1D(64, (1), kernel_regularizer=regularizers.l2(l=0.01)))\n",
    "model.add(Activation('relu'))\n",
    "\n",
    "model.add(MaxPooling1D(pool_size=(2), padding='same'))\n",
    "\n",
    "model.add(Flatten())\n",
    "\n",
    "model.add(Dense(64))\n",
    "model.add(Activation('relu'))\n",
    "\n",
    "model.add(Dense(16))\n",
    "model.add(Activation('relu'))\n",
    "\n",
    "model.add(Dropout(0.5))\n",
    "\n",
    "model.add(Dense(3))\n",
    "model.add(Activation('softmax'))\n",
    "\n",
    "model.compile(loss='categorical_crossentropy',\n",
    "              optimizer='adam',\n",
    "              metrics=['accuracy'])"
   ]
  },
  {
   "cell_type": "code",
   "execution_count": null,
   "id": "53239efe-1fc0-446f-a778-73dae1ce37a9",
   "metadata": {},
   "outputs": [],
   "source": [
    "fit_model(model, X_train, y_train, X_test, y_test, epochs=100, batch_size=32, model_type='numpy')"
   ]
  },
  {
   "cell_type": "code",
   "execution_count": null,
   "id": "5f8d4d00-5ed3-4fa9-9c0c-dd1dfd82fc0d",
   "metadata": {},
   "outputs": [],
   "source": []
  },
  {
   "cell_type": "code",
   "execution_count": 32,
   "id": "2e57bb90-61fb-4ec7-bf40-1ac9065ba7bc",
   "metadata": {},
   "outputs": [],
   "source": [
    "def plot_conf_mat(conf_mat):\n",
    "    actions = ['left', 'none', 'right']\n",
    "\n",
    "    fig, ax = plt.subplots(figsize=(16, 9))\n",
    "\n",
    "    ax.matshow(conf_mat, cmap=plt.cm.RdYlGn)\n",
    "    ax.set_xticklabels([\"\"]+actions)\n",
    "    ax.set_yticklabels([\"\"]+actions)\n",
    "\n",
    "    for i, val0 in enumerate(conf_mat.T):\n",
    "        for ii, val1 in enumerate(val0):\n",
    "            ax.text(i, ii, f\"{val1}\", va='center', ha='center')\n",
    "\n",
    "    plt.title(\"Action Thought\")\n",
    "    plt.ylabel(\"Predicted Action\")\n",
    "    plt.show()"
   ]
  },
  {
   "cell_type": "code",
   "execution_count": null,
   "id": "417192a6-d919-4ee6-879a-979a6067f65a",
   "metadata": {},
   "outputs": [],
   "source": []
  },
  {
   "cell_type": "code",
   "execution_count": 39,
   "id": "0d4e0f0f-1893-4f44-ba57-d7fec67bad45",
   "metadata": {},
   "outputs": [
    {
     "name": "stderr",
     "output_type": "stream",
     "text": [
      "<ipython-input-32-f83a402bc218>:7: UserWarning: FixedFormatter should only be used together with FixedLocator\n",
      "  ax.set_xticklabels([\"\"]+actions)\n",
      "<ipython-input-32-f83a402bc218>:8: UserWarning: FixedFormatter should only be used together with FixedLocator\n",
      "  ax.set_yticklabels([\"\"]+actions)\n"
     ]
    },
    {
     "data": {
      "image/png": "[encoded data removed]",
      "text/plain": [
       "<Figure size 1152x648 with 1 Axes>"
      ]
     },
     "metadata": {
      "needs_background": "light"
     },
     "output_type": "display_data"
    }
   ],
   "source": [
    "best_numpy_model = sorted(glob('../models/numpy/*.model'))[-1]\n",
    "model_numpy = tf.keras.models.load_model(best_numpy_model)\n",
    "\n",
    "y_pred = np.argmax(model_numpy.predict(X_test), axis=-1)\n",
    "y_true = np.argmax(y_test, axis=-1)\n",
    "conf_mat_numpy = np.round(np.array(confusion_matrix(y_true, y_pred)) / 11750, 3)\n",
    "plot_conf_mat(conf_mat_numpy)"
   ]
  },
  {
   "cell_type": "code",
   "execution_count": null,
   "id": "4767fe89-5e72-45ef-98a9-7d21fb25486c",
   "metadata": {},
   "outputs": [],
   "source": []
  },
  {
   "cell_type": "code",
   "execution_count": 45,
   "id": "d1224139-ee16-416b-82e4-4272113027d8",
   "metadata": {},
   "outputs": [
    {
     "name": "stderr",
     "output_type": "stream",
     "text": [
      "<ipython-input-32-f83a402bc218>:7: UserWarning: FixedFormatter should only be used together with FixedLocator\n",
      "  ax.set_xticklabels([\"\"]+actions)\n",
      "<ipython-input-32-f83a402bc218>:8: UserWarning: FixedFormatter should only be used together with FixedLocator\n",
      "  ax.set_yticklabels([\"\"]+actions)\n"
     ]
    },
    {
     "data": {
      "image/png": "[encoded data removed]",
      "text/plain": [
       "<Figure size 1152x648 with 1 Axes>"
      ]
     },
     "metadata": {
      "needs_background": "light"
     },
     "output_type": "display_data"
    }
   ],
   "source": [
    "best_images_model = sorted(glob('../models/images/*.model'))[-1]\n",
    "model_images = tf.keras.models.load_model(best_images_model)\n",
    "\n",
    "y_pred = np.argmax(model_images.predict(X_test_img), axis=-1)\n",
    "y_true = np.argmax(y_test_img, axis=-1)\n",
    "conf_mat_images = np.round(np.array(confusion_matrix(y_true, y_pred)) / 47, 3)\n",
    "plot_conf_mat(conf_mat_images)"
   ]
  },
  {
   "cell_type": "code",
   "execution_count": null,
   "id": "74a0b78f-30d8-42f9-9d3e-ec888a8c0b7d",
   "metadata": {},
   "outputs": [],
   "source": []
  },
  {
   "cell_type": "markdown",
   "id": "403129c6-b0bf-477b-a692-4e38df2bac12",
   "metadata": {},
   "source": [
    "# trained KNN, log_reg, GBC, LSTM, transfer learning\n",
    "# all trash, acc < 0.35\n",
    "# spectrograms and FFT data"
   ]
  },
  {
   "cell_type": "code",
   "execution_count": null,
   "id": "ef31d36c-2082-48ed-80bb-c8b86903cdc9",
   "metadata": {},
   "outputs": [],
   "source": []
  }
 ],
 "metadata": {
  "kernelspec": {
   "display_name": "Python 3",
   "language": "python",
   "name": "python3"
  },
  "language_info": {
   "codemirror_mode": {
    "name": "ipython",
    "version": 3
   },
   "file_extension": ".py",
   "mimetype": "text/x-python",
   "name": "python",
   "nbconvert_exporter": "python",
   "pygments_lexer": "ipython3",
   "version": "3.8.11"
  }
 },
 "nbformat": 4,
 "nbformat_minor": 5
}
