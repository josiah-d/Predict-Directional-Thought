{
 "cells": [
  {
   "cell_type": "code",
   "execution_count": 114,
   "id": "2c71d61e-9281-48a4-89fa-949cf0f9fdd6",
   "metadata": {},
   "outputs": [],
   "source": [
    "# imports\n",
    "import sys\n",
    "sys.path.append('../')\n",
    "\n",
    "from glob import glob\n",
    "from src.load_data import master_load\n",
    "import matplotlib.pyplot as plt\n",
    "import numpy as np\n",
    "import os\n",
    "import pandas as pd\n",
    "import time\n",
    "\n",
    "import tensorflow as tf\n",
    "from tensorflow import keras\n",
    "from tensorflow.keras.models import Sequential\n",
    "from tensorflow.keras.layers import (Activation, BatchNormalization, Conv1D, Conv2D,\n",
    "                                     Dense, Dropout, Flatten, LSTM, MaxPooling1D,\n",
    "                                     Reshape, TimeDistributed)\n",
    "from tensorflow.math import confusion_matrix"
   ]
  },
  {
   "cell_type": "code",
   "execution_count": 2,
   "id": "491aac84-ec14-4909-a416-49afa8224fbc",
   "metadata": {},
   "outputs": [],
   "source": [
    "# set plotting params\n",
    "plt.rcParams['font.serif'] = 'Ubuntu'\n",
    "plt.rcParams['font.monospace'] = 'Ubuntu Mono'\n",
    "plt.rcParams['font.size'] = 32\n",
    "plt.rcParams['axes.labelsize'] = 32\n",
    "plt.rcParams['axes.titlesize'] = 32\n",
    "plt.rcParams['xtick.labelsize'] = 24\n",
    "plt.rcParams['ytick.labelsize'] = 24\n",
    "plt.rcParams['legend.fontsize'] = 32\n",
    "plt.rcParams['figure.titlesize'] = 48"
   ]
  },
  {
   "cell_type": "code",
   "execution_count": null,
   "id": "19807aaf-e4cc-4a7f-bca9-75ed574bd4ad",
   "metadata": {},
   "outputs": [],
   "source": []
  },
  {
   "cell_type": "code",
   "execution_count": 3,
   "id": "399ab52a-b4cf-4c21-9cab-6f943f3a4521",
   "metadata": {},
   "outputs": [],
   "source": [
    "X_train, X_test, y_train, y_test = master_load()"
   ]
  },
  {
   "cell_type": "code",
   "execution_count": 48,
   "id": "a84acc36-f5b9-4197-8825-bf359ed9ed7d",
   "metadata": {},
   "outputs": [],
   "source": [
    "seven_XT = X_train[:, 6, :]\n",
    "fifteen_XT = X_train[:, 14, :]\n",
    "\n",
    "seven_Xt = X_test[:, 6, :]\n",
    "fifteen_Xt = X_test[:, 14, :]"
   ]
  },
  {
   "cell_type": "code",
   "execution_count": 49,
   "id": "06799d20-1080-40af-bd7e-2f35cd7f3834",
   "metadata": {},
   "outputs": [],
   "source": [
    "X_train_slice = np.stack((seven_XT, fifteen_XT), axis=1)\n",
    "X_test_slice = np.stack((seven_Xt, fifteen_Xt), axis=1)"
   ]
  },
  {
   "cell_type": "code",
   "execution_count": null,
   "id": "4ea2d3c2-d6e6-443a-9397-09aaf9b7b70e",
   "metadata": {},
   "outputs": [],
   "source": []
  },
  {
   "cell_type": "code",
   "execution_count": 52,
   "id": "8bf909bb-a095-440f-b3bc-8368bd30ede5",
   "metadata": {},
   "outputs": [],
   "source": [
    "model = Sequential()\n",
    "\n",
    "model.add(LSTM(64, return_sequences=True, input_shape=X_train_slice.shape[1:]))\n",
    "\n",
    "model.add(LSTM(64, return_sequences=True))\n",
    "\n",
    "model.add(TimeDistributed(\n",
    "    Dense(32, activation='relu')))\n",
    "\n",
    "model.add(TimeDistributed(\n",
    "    Dense(8, activation='relu')))\n",
    "model.add(Dropout(0.5))\n",
    "\n",
    "model.add(Flatten())\n",
    "\n",
    "model.add(Dense(3))\n",
    "model.add(Activation('softmax'))\n",
    "\n",
    "model.compile(loss='categorical_crossentropy',\n",
    "              optimizer='adam',\n",
    "              metrics=['accuracy'])"
   ]
  },
  {
   "cell_type": "code",
   "execution_count": 53,
   "id": "8d979304-f4ff-48de-8847-d848de264ced",
   "metadata": {},
   "outputs": [
    {
     "name": "stdout",
     "output_type": "stream",
     "text": [
      "Epoch 1/5\n",
      "8825/8825 [==============================] - 129s 14ms/step - loss: 1.0045 - accuracy: 0.4672 - val_loss: 1.1875 - val_accuracy: 0.3950\n",
      "Epoch 2/5\n",
      "8825/8825 [==============================] - 99s 11ms/step - loss: 0.9090 - accuracy: 0.5374 - val_loss: 1.6000 - val_accuracy: 0.3832\n",
      "Epoch 3/5\n",
      "8825/8825 [==============================] - 41s 5ms/step - loss: 0.8161 - accuracy: 0.5952 - val_loss: 2.2922 - val_accuracy: 0.3729\n",
      "Epoch 4/5\n",
      "8825/8825 [==============================] - 27s 3ms/step - loss: 0.7262 - accuracy: 0.6441 - val_loss: 2.9586 - val_accuracy: 0.3586\n",
      "Epoch 5/5\n",
      "8825/8825 [==============================] - 26s 3ms/step - loss: 0.6414 - accuracy: 0.6915 - val_loss: 3.9545 - val_accuracy: 0.3567\n",
      "1102/1102 [==============================] - 1s 1ms/step - loss: 3.9545 - accuracy: 0.3567\n"
     ]
    },
    {
     "name": "stderr",
     "output_type": "stream",
     "text": [
      "WARNING:absl:Found untraced functions such as lstm_cell_2_layer_call_fn, lstm_cell_2_layer_call_and_return_conditional_losses, lstm_cell_3_layer_call_fn, lstm_cell_3_layer_call_and_return_conditional_losses, lstm_cell_2_layer_call_fn while saving (showing 5 of 10). These functions will not be directly callable after loading.\n"
     ]
    },
    {
     "name": "stdout",
     "output_type": "stream",
     "text": [
      "INFO:tensorflow:Assets written to: ../models/numpy/acc_0.357-loss_3.95-1628210380.model/assets\n"
     ]
    },
    {
     "name": "stderr",
     "output_type": "stream",
     "text": [
      "INFO:tensorflow:Assets written to: ../models/numpy/acc_0.357-loss_3.95-1628210380.model/assets\n"
     ]
    },
    {
     "name": "stdout",
     "output_type": "stream",
     "text": [
      "done\n"
     ]
    }
   ],
   "source": [
    "epochs = 5\n",
    "batch_size = 32\n",
    "\n",
    "fitted = model.fit(X_train_slice, y_train, batch_size=batch_size, epochs=epochs, validation_data=(X_test_slice, y_test))\n",
    "score = fitted.model.evaluate(X_test_slice, y_test, batch_size=batch_size)\n",
    "\n",
    "model_name = f'../models/numpy/acc_{round(score[1], 3)}-loss_{round(score[0], 2)}-{int(time.time())}.model'\n",
    "\n",
    "df = pd.DataFrame.from_dict(fitted.history)\n",
    "df['model_name'] = model_name\n",
    "fitted.model.save(model_name)\n",
    "\n",
    "print('done')"
   ]
  },
  {
   "cell_type": "code",
   "execution_count": null,
   "id": "fd551fa1-0263-4f3c-8f20-a734bf00de90",
   "metadata": {},
   "outputs": [],
   "source": []
  },
  {
   "cell_type": "code",
   "execution_count": 68,
   "id": "445e8116-5568-4994-b3b0-c0eb4632bd89",
   "metadata": {},
   "outputs": [],
   "source": [
    "# modified\n",
    "model = Sequential()\n",
    "\n",
    "model.add(Conv1D(64, (1), input_shape=X_train_slice.shape[1:]))\n",
    "# model.add(Conv2D(16, (3, 3), input_shape=X_train.shape[1:]))  # Test the Conv2D\n",
    "model.add(Activation('selu'))\n",
    "\n",
    "model.add(Conv1D(32, (2)))\n",
    "model.add(Activation('selu'))\n",
    "\n",
    "model.add(MaxPooling1D((2), padding='same'))\n",
    "model.add(Flatten())\n",
    "\n",
    "model.add(Dense(64))\n",
    "model.add(Activation('selu'))\n",
    "\n",
    "model.add(Dense(16))\n",
    "model.add(Activation('selu'))\n",
    "\n",
    "model.add(Dense(3))\n",
    "model.add(Activation('softmax'))\n",
    "\n",
    "model.compile(loss='categorical_crossentropy',\n",
    "              optimizer='adam',\n",
    "              metrics=['accuracy'])"
   ]
  },
  {
   "cell_type": "code",
   "execution_count": 69,
   "id": "6b5418f8-fe94-4a12-8c09-0a26bbfc3a7a",
   "metadata": {},
   "outputs": [
    {
     "name": "stdout",
     "output_type": "stream",
     "text": [
      "Epoch 1/5\n",
      "8825/8825 [==============================] - 9s 1ms/step - loss: 0.9663 - accuracy: 0.5138 - val_loss: 1.3127 - val_accuracy: 0.4113\n",
      "Epoch 2/5\n",
      "8825/8825 [==============================] - 9s 979us/step - loss: 0.8489 - accuracy: 0.5990 - val_loss: 1.6125 - val_accuracy: 0.3751\n",
      "Epoch 3/5\n",
      "8825/8825 [==============================] - 9s 969us/step - loss: 0.7638 - accuracy: 0.6544 - val_loss: 1.6978 - val_accuracy: 0.3999\n",
      "Epoch 4/5\n",
      "8825/8825 [==============================] - 9s 1ms/step - loss: 0.7017 - accuracy: 0.6896 - val_loss: 1.9903 - val_accuracy: 0.3869\n",
      "Epoch 5/5\n",
      "8825/8825 [==============================] - 9s 1ms/step - loss: 0.6549 - accuracy: 0.7156 - val_loss: 2.1184 - val_accuracy: 0.3751\n",
      "1102/1102 [==============================] - 1s 539us/step - loss: 2.1184 - accuracy: 0.3751\n",
      "INFO:tensorflow:Assets written to: ../models/numpy/acc_0.375-loss_2.12-1628214241.model/assets\n"
     ]
    },
    {
     "name": "stderr",
     "output_type": "stream",
     "text": [
      "INFO:tensorflow:Assets written to: ../models/numpy/acc_0.375-loss_2.12-1628214241.model/assets\n"
     ]
    },
    {
     "name": "stdout",
     "output_type": "stream",
     "text": [
      "done\n"
     ]
    }
   ],
   "source": [
    "epochs = 5\n",
    "batch_size = 32\n",
    "\n",
    "fitted = model.fit(X_train_slice, y_train, batch_size=batch_size, epochs=epochs, validation_data=(X_test_slice, y_test))\n",
    "score = fitted.model.evaluate(X_test_slice, y_test, batch_size=batch_size)\n",
    "\n",
    "model_name = f'../models/numpy/acc_{round(score[1], 3)}-loss_{round(score[0], 2)}-{int(time.time())}.model'\n",
    "\n",
    "temp_df = pd.DataFrame.from_dict(fitted.history)\n",
    "temp_df['model_name'] = model_name\n",
    "df = pd.concat([df, temp_df])\n",
    "fitted.model.save(model_name)\n",
    "\n",
    "print('done')"
   ]
  },
  {
   "cell_type": "code",
   "execution_count": null,
   "id": "4aa67b3c-24dd-4d56-83c9-aab38ef46a4f",
   "metadata": {},
   "outputs": [],
   "source": []
  },
  {
   "cell_type": "code",
   "execution_count": 83,
   "id": "8f1a1f66-d198-413e-9088-b67055b39f6d",
   "metadata": {},
   "outputs": [],
   "source": [
    "# modified\n",
    "model = Sequential()\n",
    "\n",
    "model.add(Conv1D(64, (2), input_shape=X_train_slice.shape[1:]))\n",
    "model.add(Activation('relu'))\n",
    "\n",
    "model.add(Conv1D(64, (1)))\n",
    "model.add(Activation('relu'))\n",
    "model.add(MaxPooling1D(pool_size=(2), padding='same'))\n",
    "\n",
    "model.add(Conv1D(64, (1)))\n",
    "model.add(Activation('relu'))\n",
    "model.add(MaxPooling1D(pool_size=(2), padding='same'))\n",
    "\n",
    "model.add(Flatten())\n",
    "\n",
    "model.add(Dense(64))\n",
    "model.add(Activation('relu'))\n",
    "\n",
    "model.add(Dense(16))\n",
    "model.add(Activation('relu'))\n",
    "\n",
    "model.add(Dropout(0.5))\n",
    "\n",
    "model.add(Dense(3))\n",
    "model.add(Activation('softmax'))\n",
    "\n",
    "model.compile(loss='categorical_crossentropy',\n",
    "              optimizer='adam',\n",
    "              metrics=['accuracy'])"
   ]
  },
  {
   "cell_type": "code",
   "execution_count": 84,
   "id": "59360086-7bf1-4ce6-afc2-fdca80ff80c5",
   "metadata": {},
   "outputs": [
    {
     "name": "stdout",
     "output_type": "stream",
     "text": [
      "Epoch 1/5\n",
      "8825/8825 [==============================] - 11s 1ms/step - loss: 1.0665 - accuracy: 0.3988 - val_loss: 1.0801 - val_accuracy: 0.4134\n",
      "Epoch 2/5\n",
      "8825/8825 [==============================] - 10s 1ms/step - loss: 1.0024 - accuracy: 0.4583 - val_loss: 1.2568 - val_accuracy: 0.3985\n",
      "Epoch 3/5\n",
      "8825/8825 [==============================] - 10s 1ms/step - loss: 0.9511 - accuracy: 0.4984 - val_loss: 1.4195 - val_accuracy: 0.4103\n",
      "Epoch 4/5\n",
      "8825/8825 [==============================] - 11s 1ms/step - loss: 0.8986 - accuracy: 0.5413 - val_loss: 2.2251 - val_accuracy: 0.3641\n",
      "Epoch 5/5\n",
      "8825/8825 [==============================] - 10s 1ms/step - loss: 0.8566 - accuracy: 0.5703 - val_loss: 2.9589 - val_accuracy: 0.3535\n",
      "1102/1102 [==============================] - 1s 544us/step - loss: 2.9589 - accuracy: 0.3535\n",
      "INFO:tensorflow:Assets written to: ../models/numpy/acc_0.354-loss_2.96-1628214425.model/assets\n"
     ]
    },
    {
     "name": "stderr",
     "output_type": "stream",
     "text": [
      "INFO:tensorflow:Assets written to: ../models/numpy/acc_0.354-loss_2.96-1628214425.model/assets\n"
     ]
    },
    {
     "name": "stdout",
     "output_type": "stream",
     "text": [
      "done\n"
     ]
    }
   ],
   "source": [
    "epochs = 5\n",
    "batch_size = 32\n",
    "\n",
    "fitted = model.fit(X_train_slice, y_train, batch_size=batch_size, epochs=epochs, validation_data=(X_test_slice, y_test))\n",
    "score = fitted.model.evaluate(X_test_slice, y_test, batch_size=batch_size)\n",
    "\n",
    "model_name = f'../models/numpy/acc_{round(score[1], 3)}-loss_{round(score[0], 2)}-{int(time.time())}.model'\n",
    "\n",
    "temp_df = pd.DataFrame.from_dict(fitted.history)\n",
    "temp_df['model_name'] = model_name\n",
    "df = pd.concat([df, temp_df])\n",
    "fitted.model.save(model_name)\n",
    "\n",
    "print('done')"
   ]
  },
  {
   "cell_type": "code",
   "execution_count": null,
   "id": "d7597769-af6e-4518-815d-fe5d27cc7146",
   "metadata": {},
   "outputs": [],
   "source": []
  },
  {
   "cell_type": "code",
   "execution_count": 88,
   "id": "86f62511-8d27-4d8a-91b0-02bb9ad4001d",
   "metadata": {},
   "outputs": [],
   "source": [
    "# stolen 1\n",
    "model = Sequential()\n",
    "\n",
    "model.add(Conv1D(128, (1), input_shape=X_train_slice.shape[1:]))\n",
    "model.add(Activation('relu'))\n",
    "\n",
    "model.add(Conv1D(63, (2)))\n",
    "model.add(Activation('relu'))\n",
    "\n",
    "model.add(MaxPooling1D(pool_size=(2), padding='same'))\n",
    "\n",
    "model.add(Conv1D(64, (1)))\n",
    "model.add(Activation('relu'))\n",
    "\n",
    "model.add(MaxPooling1D(pool_size=(2), padding='same'))\n",
    "\n",
    "model.add(Flatten())\n",
    "\n",
    "model.add(Dense(64))\n",
    "model.add(Activation('relu'))\n",
    "\n",
    "model.add(Dense(16))\n",
    "model.add(Activation('relu'))\n",
    "\n",
    "model.add(Dropout(0.5))\n",
    "\n",
    "model.add(Dense(3))\n",
    "model.add(Activation('softmax'))\n",
    "\n",
    "model.compile(loss='categorical_crossentropy',\n",
    "              optimizer='adam',\n",
    "              metrics=['accuracy'])"
   ]
  },
  {
   "cell_type": "code",
   "execution_count": 89,
   "id": "53239efe-1fc0-446f-a778-73dae1ce37a9",
   "metadata": {},
   "outputs": [
    {
     "name": "stdout",
     "output_type": "stream",
     "text": [
      "Epoch 1/5\n",
      "8825/8825 [==============================] - 13s 1ms/step - loss: 1.0280 - accuracy: 0.4336 - val_loss: 1.2244 - val_accuracy: 0.3822\n",
      "Epoch 2/5\n",
      "8825/8825 [==============================] - 12s 1ms/step - loss: 0.9160 - accuracy: 0.5270 - val_loss: 1.5346 - val_accuracy: 0.3824\n",
      "Epoch 3/5\n",
      "8825/8825 [==============================] - 12s 1ms/step - loss: 0.8141 - accuracy: 0.5936 - val_loss: 2.7531 - val_accuracy: 0.3717\n",
      "Epoch 4/5\n",
      "8825/8825 [==============================] - 12s 1ms/step - loss: 0.7384 - accuracy: 0.6410 - val_loss: 2.8335 - val_accuracy: 0.3523\n",
      "Epoch 5/5\n",
      "8825/8825 [==============================] - 11s 1ms/step - loss: 0.6787 - accuracy: 0.6757 - val_loss: 4.4296 - val_accuracy: 0.3593\n",
      "1102/1102 [==============================] - 1s 563us/step - loss: 4.4296 - accuracy: 0.3593\n",
      "INFO:tensorflow:Assets written to: ../models/numpy/acc_0.359-loss_4.43-1628214630.model/assets\n"
     ]
    },
    {
     "name": "stderr",
     "output_type": "stream",
     "text": [
      "INFO:tensorflow:Assets written to: ../models/numpy/acc_0.359-loss_4.43-1628214630.model/assets\n"
     ]
    },
    {
     "name": "stdout",
     "output_type": "stream",
     "text": [
      "done\n"
     ]
    }
   ],
   "source": [
    "epochs = 5\n",
    "batch_size = 32\n",
    "\n",
    "fitted = model.fit(X_train_slice, y_train, batch_size=batch_size, epochs=epochs, validation_data=(X_test_slice, y_test))\n",
    "score = fitted.model.evaluate(X_test_slice, y_test, batch_size=batch_size)\n",
    "\n",
    "model_name = f'../models/numpy/acc_{round(score[1], 3)}-loss_{round(score[0], 2)}-{int(time.time())}.model'\n",
    "\n",
    "temp_df = pd.DataFrame.from_dict(fitted.history)\n",
    "temp_df['model_name'] = model_name\n",
    "df = pd.concat([df, temp_df])\n",
    "fitted.model.save(model_name)\n",
    "\n",
    "print('done')"
   ]
  },
  {
   "cell_type": "code",
   "execution_count": null,
   "id": "5f8d4d00-5ed3-4fa9-9c0c-dd1dfd82fc0d",
   "metadata": {},
   "outputs": [],
   "source": []
  },
  {
   "cell_type": "code",
   "execution_count": 95,
   "id": "1f6d0407-4c64-4ef3-99e4-6aba99f4c4b9",
   "metadata": {},
   "outputs": [],
   "source": [
    "reshape = (-1, 2, 60)\n",
    "\n",
    "train_X = np.clip(np.array(X_train_slice).reshape(reshape), -10, 10) / 10\n",
    "test_X = np.clip(np.array(X_test_slice).reshape(reshape), -10, 10) / 10"
   ]
  },
  {
   "cell_type": "code",
   "execution_count": 99,
   "id": "015ee3d9-af90-4f1c-8230-d191cb7d03c3",
   "metadata": {},
   "outputs": [],
   "source": [
    "# stolen 2\n",
    "model = Sequential()\n",
    "\n",
    "model.add(Conv1D(128, (1), padding='same', input_shape=train_X.shape[1:]))\n",
    "model.add(Activation('relu'))\n",
    "\n",
    "model.add(Conv1D(64, (5), padding='same'))\n",
    "model.add(Activation('relu'))\n",
    "\n",
    "model.add(Conv1D(16, (5), padding='same'))\n",
    "model.add(Activation('relu'))\n",
    "\n",
    "model.add(Conv1D(8, (5), padding='same'))\n",
    "model.add(Activation('relu'))\n",
    "\n",
    "model.add(Conv1D(3, (2)))\n",
    "model.add(Reshape((3,)))\n",
    "model.add(Activation('softmax'))\n",
    "\n",
    "model.compile(loss='categorical_crossentropy',\n",
    "              optimizer='adam',\n",
    "              metrics=['accuracy'])"
   ]
  },
  {
   "cell_type": "code",
   "execution_count": 102,
   "id": "812b2396-d968-435b-aa4e-5dd677a4cebd",
   "metadata": {},
   "outputs": [
    {
     "name": "stdout",
     "output_type": "stream",
     "text": [
      "Epoch 1/5\n",
      "8825/8825 [==============================] - 56s 6ms/step - loss: 0.1120 - accuracy: 0.9583 - val_loss: 5.5328 - val_accuracy: 0.3722\n",
      "Epoch 2/5\n",
      "8825/8825 [==============================] - 56s 6ms/step - loss: 0.1052 - accuracy: 0.9612 - val_loss: 6.0297 - val_accuracy: 0.3479\n",
      "Epoch 3/5\n",
      "8825/8825 [==============================] - 59s 7ms/step - loss: 0.0960 - accuracy: 0.9648 - val_loss: 6.6708 - val_accuracy: 0.3612\n",
      "Epoch 4/5\n",
      "8825/8825 [==============================] - 63s 7ms/step - loss: 0.0892 - accuracy: 0.9676 - val_loss: 6.7209 - val_accuracy: 0.3545\n",
      "Epoch 5/5\n",
      "8825/8825 [==============================] - 65s 7ms/step - loss: 0.0843 - accuracy: 0.9694 - val_loss: 6.5968 - val_accuracy: 0.3664\n",
      "1102/1102 [==============================] - 1s 652us/step - loss: 6.5968 - accuracy: 0.3664\n",
      "INFO:tensorflow:Assets written to: ../models/numpy/acc_0.366-loss_6.6-1628215727.model/assets\n"
     ]
    },
    {
     "name": "stderr",
     "output_type": "stream",
     "text": [
      "INFO:tensorflow:Assets written to: ../models/numpy/acc_0.366-loss_6.6-1628215727.model/assets\n"
     ]
    },
    {
     "name": "stdout",
     "output_type": "stream",
     "text": [
      "done\n"
     ]
    }
   ],
   "source": [
    "epochs = 5\n",
    "batch_size = 32\n",
    "\n",
    "fitted = model.fit(train_X, y_train, batch_size=batch_size, epochs=epochs, validation_data=(test_X, y_test))\n",
    "score = fitted.model.evaluate(test_X, y_test, batch_size=batch_size)\n",
    "\n",
    "model_name = f'../models/numpy/acc_{round(score[1], 3)}-loss_{round(score[0], 2)}-{int(time.time())}.model'\n",
    "\n",
    "temp_df = pd.DataFrame.from_dict(fitted.history)\n",
    "temp_df['model_name'] = model_name\n",
    "df = pd.concat([df, temp_df])\n",
    "fitted.model.save(model_name)\n",
    "\n",
    "print('done')"
   ]
  },
  {
   "cell_type": "code",
   "execution_count": null,
   "id": "eb47e009-911c-4a3b-b309-fbe3ecb19f34",
   "metadata": {},
   "outputs": [],
   "source": []
  },
  {
   "cell_type": "code",
   "execution_count": 136,
   "id": "275c85d5-a504-46f6-b29f-a17e8d64ce7e",
   "metadata": {},
   "outputs": [],
   "source": [
    "def residual_block(x, filters, conv_num=3, activation=\"relu\"):\n",
    "    # Shortcut\n",
    "    s = keras.layers.Conv1D(filters, 1, padding=\"same\")(x)\n",
    "    for i in range(conv_num - 1):\n",
    "        x = keras.layers.Conv1D(filters, 3, padding=\"same\")(x)\n",
    "        x = keras.layers.Activation(activation)(x)\n",
    "    x = keras.layers.Conv1D(filters, 3, padding=\"same\")(x)\n",
    "    x = keras.layers.Add()([x, s])\n",
    "    x = keras.layers.Activation(activation)(x)\n",
    "    return keras.layers.MaxPool1D(pool_size=2, strides=2, padding='same')(x)"
   ]
  },
  {
   "cell_type": "code",
   "execution_count": 153,
   "id": "8204ea9e-2704-4dd6-b15e-45a678c8bd83",
   "metadata": {},
   "outputs": [],
   "source": [
    "def build_model(input_shape, num_classes):\n",
    "    inputs = keras.layers.Input(shape=input_shape, name=\"input\")\n",
    "\n",
    "    x = residual_block(inputs, 16, 2)\n",
    "    x = residual_block(x, 32, 2)\n",
    "    x = residual_block(x, 64, 3)\n",
    "    x = residual_block(x, 128, 3)\n",
    "    x = residual_block(x, 128, 3)\n",
    "\n",
    "    x = keras.layers.MaxPooling1D(pool_size=(2), padding='same')(x)\n",
    "    x = keras.layers.Flatten()(x)\n",
    "    x = keras.layers.Dense(256, activation=\"relu\")(x)\n",
    "    x = keras.layers.Dense(128, activation=\"relu\")(x)\n",
    "\n",
    "    outputs = keras.layers.Dense(num_classes, activation=\"softmax\", name=\"output\")(x)\n",
    "\n",
    "    return keras.models.Model(inputs=inputs, outputs=outputs)"
   ]
  },
  {
   "cell_type": "code",
   "execution_count": 154,
   "id": "87350652-9984-49f9-94c6-4553959f948e",
   "metadata": {},
   "outputs": [],
   "source": [
    "model = build_model((train_X.shape[1:]), 3)"
   ]
  },
  {
   "cell_type": "code",
   "execution_count": 155,
   "id": "013578eb-fd9f-4f87-82e9-7aa90bf22892",
   "metadata": {},
   "outputs": [],
   "source": [
    "model.compile(optimizer=\"Adam\", loss=\"categorical_crossentropy\", metrics=[\"accuracy\"])"
   ]
  },
  {
   "cell_type": "code",
   "execution_count": 156,
   "id": "25298469-c29a-4ab2-b120-0b937ad27f8f",
   "metadata": {},
   "outputs": [
    {
     "name": "stdout",
     "output_type": "stream",
     "text": [
      "Epoch 1/5\n",
      "8825/8825 [==============================] - 78s 9ms/step - loss: 1.0028 - accuracy: 0.4740 - val_loss: 1.3235 - val_accuracy: 0.3958\n",
      "Epoch 2/5\n",
      "8825/8825 [==============================] - 75s 9ms/step - loss: 0.9151 - accuracy: 0.5442 - val_loss: 1.7803 - val_accuracy: 0.3825\n",
      "Epoch 3/5\n",
      "8825/8825 [==============================] - 78s 9ms/step - loss: 0.8552 - accuracy: 0.5861 - val_loss: 2.0003 - val_accuracy: 0.3964\n",
      "Epoch 4/5\n",
      "8825/8825 [==============================] - 87s 10ms/step - loss: 0.8057 - accuracy: 0.6147 - val_loss: 2.2174 - val_accuracy: 0.3866\n",
      "Epoch 5/5\n",
      "8825/8825 [==============================] - 86s 10ms/step - loss: 0.7692 - accuracy: 0.6349 - val_loss: 1.9288 - val_accuracy: 0.3926\n",
      "1102/1102 [==============================] - 1s 1ms/step - loss: 1.9288 - accuracy: 0.3926\n"
     ]
    },
    {
     "name": "stderr",
     "output_type": "stream",
     "text": [
      "/Users/josiah/opt/anaconda3/lib/python3.8/site-packages/tensorflow/python/keras/utils/generic_utils.py:494: CustomMaskWarning: Custom mask layers require a config and must override get_config. When loading, the custom mask layer must be passed to the custom_objects argument.\n",
      "  warnings.warn('Custom mask layers require a config and must override '\n"
     ]
    },
    {
     "name": "stdout",
     "output_type": "stream",
     "text": [
      "INFO:tensorflow:Assets written to: ../models/numpy/acc_0.393-loss_1.93-1628216692.model/assets\n"
     ]
    },
    {
     "name": "stderr",
     "output_type": "stream",
     "text": [
      "INFO:tensorflow:Assets written to: ../models/numpy/acc_0.393-loss_1.93-1628216692.model/assets\n"
     ]
    },
    {
     "name": "stdout",
     "output_type": "stream",
     "text": [
      "done\n"
     ]
    }
   ],
   "source": [
    "epochs = 5\n",
    "batch_size = 32\n",
    "\n",
    "fitted = model.fit(X_train_slice, y_train, batch_size=batch_size, epochs=epochs, validation_data=(X_test_slice, y_test))\n",
    "score = fitted.model.evaluate(X_test_slice, y_test, batch_size=batch_size)\n",
    "\n",
    "model_name = f'../models/numpy/acc_{round(score[1], 3)}-loss_{round(score[0], 2)}-{int(time.time())}.model'\n",
    "\n",
    "temp_df = pd.DataFrame.from_dict(fitted.history)\n",
    "temp_df['model_name'] = model_name\n",
    "df = pd.concat([df, temp_df])\n",
    "fitted.model.save(model_name)\n",
    "\n",
    "print('done')"
   ]
  },
  {
   "cell_type": "code",
   "execution_count": null,
   "id": "091fc833-6edb-4491-bb40-e1bdbc1f3066",
   "metadata": {},
   "outputs": [],
   "source": []
  },
  {
   "cell_type": "code",
   "execution_count": 109,
   "id": "417192a6-d919-4ee6-879a-979a6067f65a",
   "metadata": {},
   "outputs": [],
   "source": [
    "best_model = sorted(glob('../models/numpy/*.model'))[-1]"
   ]
  },
  {
   "cell_type": "code",
   "execution_count": 110,
   "id": "0d4e0f0f-1893-4f44-ba57-d7fec67bad45",
   "metadata": {},
   "outputs": [],
   "source": [
    "model = tf.keras.models.load_model(best_model)\n",
    "\n",
    "y_pred = np.argmax(model.predict(X_test), axis=-1)\n",
    "y_true = np.argmax(y_test, axis=-1)\n",
    "conf_mat = np.round(np.array(confusion_matrix(y_true, y_pred)) / 11750, 3)"
   ]
  },
  {
   "cell_type": "code",
   "execution_count": null,
   "id": "d1224139-ee16-416b-82e4-4272113027d8",
   "metadata": {},
   "outputs": [],
   "source": []
  },
  {
   "cell_type": "code",
   "execution_count": 111,
   "id": "2e57bb90-61fb-4ec7-bf40-1ac9065ba7bc",
   "metadata": {},
   "outputs": [],
   "source": [
    "def plot_conf_mat(conf_mat):\n",
    "    actions = ['left', 'none', 'right']\n",
    "\n",
    "    fig, ax = plt.subplots(figsize=(16, 9))\n",
    "\n",
    "    ax.matshow(conf_mat, cmap=plt.cm.RdYlGn)\n",
    "    ax.set_xticklabels([\"\"]+actions)\n",
    "    ax.set_yticklabels([\"\"]+actions)\n",
    "\n",
    "    for i, val0 in enumerate(conf_mat.T):\n",
    "        for ii, val1 in enumerate(val0):\n",
    "            ax.text(i, ii, f\"{val1}\", va='center', ha='center')\n",
    "\n",
    "    plt.title(\"Action Thought\")\n",
    "    plt.ylabel(\"Predicted Action\")\n",
    "    plt.show()"
   ]
  },
  {
   "cell_type": "code",
   "execution_count": 112,
   "id": "4767fe89-5e72-45ef-98a9-7d21fb25486c",
   "metadata": {},
   "outputs": [
    {
     "name": "stderr",
     "output_type": "stream",
     "text": [
      "<ipython-input-111-f83a402bc218>:7: UserWarning: FixedFormatter should only be used together with FixedLocator\n",
      "  ax.set_xticklabels([\"\"]+actions)\n",
      "<ipython-input-111-f83a402bc218>:8: UserWarning: FixedFormatter should only be used together with FixedLocator\n",
      "  ax.set_yticklabels([\"\"]+actions)\n"
     ]
    },
    {
     "data": {
      "image/png": "[encoded data removed]",
      "text/plain": [
       "<Figure size 1152x648 with 1 Axes>"
      ]
     },
     "metadata": {
      "needs_background": "light"
     },
     "output_type": "display_data"
    }
   ],
   "source": [
    "plot_conf_mat(conf_mat)"
   ]
  },
  {
   "cell_type": "code",
   "execution_count": null,
   "id": "74a0b78f-30d8-42f9-9d3e-ec888a8c0b7d",
   "metadata": {},
   "outputs": [],
   "source": []
  },
  {
   "cell_type": "markdown",
   "id": "403129c6-b0bf-477b-a692-4e38df2bac12",
   "metadata": {},
   "source": [
    "# trained KNN, log_reg, GBC\n",
    "# all trash, acc < 0.35"
   ]
  },
  {
   "cell_type": "code",
   "execution_count": null,
   "id": "8cc9fcd0-fdfe-4313-810b-f466b2f11922",
   "metadata": {},
   "outputs": [],
   "source": []
  }
 ],
 "metadata": {
  "kernelspec": {
   "display_name": "Python 3",
   "language": "python",
   "name": "python3"
  },
  "language_info": {
   "codemirror_mode": {
    "name": "ipython",
    "version": 3
   },
   "file_extension": ".py",
   "mimetype": "text/x-python",
   "name": "python",
   "nbconvert_exporter": "python",
   "pygments_lexer": "ipython3",
   "version": "3.8.11"
  }
 },
 "nbformat": 4,
 "nbformat_minor": 5
}
