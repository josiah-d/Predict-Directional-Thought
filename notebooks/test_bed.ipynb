{
 "cells": [
  {
   "cell_type": "code",
   "execution_count": 1,
   "id": "2c71d61e-9281-48a4-89fa-949cf0f9fdd6",
   "metadata": {},
   "outputs": [],
   "source": [
    "# imports\n",
    "import sys\n",
    "sys.path.append('../')\n",
    "\n",
    "from glob import glob\n",
    "from src.load_data import master_load\n",
    "import matplotlib.pyplot as plt\n",
    "import numpy as np\n",
    "import os\n",
    "import pandas as pd\n",
    "from PIL import Image\n",
    "import time\n",
    "\n",
    "import tensorflow as tf\n",
    "from tensorflow import keras\n",
    "from tensorflow.keras.models import Sequential\n",
    "from tensorflow.keras.layers import (Activation, BatchNormalization, Conv1D, Conv2D,\n",
    "                                     Dense, Dropout, Flatten, LSTM, MaxPooling1D,\n",
    "                                     MaxPooling2D, Reshape, TimeDistributed)\n",
    "from tensorflow.math import confusion_matrix"
   ]
  },
  {
   "cell_type": "code",
   "execution_count": 2,
   "id": "491aac84-ec14-4909-a416-49afa8224fbc",
   "metadata": {},
   "outputs": [],
   "source": [
    "# set plotting params\n",
    "plt.rcParams['font.serif'] = 'Ubuntu'\n",
    "plt.rcParams['font.monospace'] = 'Ubuntu Mono'\n",
    "plt.rcParams['font.size'] = 32\n",
    "plt.rcParams['axes.labelsize'] = 32\n",
    "plt.rcParams['axes.titlesize'] = 32\n",
    "plt.rcParams['xtick.labelsize'] = 24\n",
    "plt.rcParams['ytick.labelsize'] = 24\n",
    "plt.rcParams['legend.fontsize'] = 32\n",
    "plt.rcParams['figure.titlesize'] = 48"
   ]
  },
  {
   "cell_type": "code",
   "execution_count": null,
   "id": "dfe4e5c1-aacc-434f-a9bb-cc136650f5d7",
   "metadata": {},
   "outputs": [],
   "source": []
  },
  {
   "cell_type": "code",
   "execution_count": 41,
   "id": "5869487a-f01b-413a-b9a8-f484e1f82036",
   "metadata": {},
   "outputs": [],
   "source": [
    "model_df = pd.DataFrame({'loss': [0], 'accuracy': [0], 'val_loss': [0], 'val_accuracy': [0], 'model_name': [0]})"
   ]
  },
  {
   "cell_type": "code",
   "execution_count": null,
   "id": "e67ab1d0-1407-4ece-8ebd-2c36ac22c042",
   "metadata": {},
   "outputs": [],
   "source": []
  },
  {
   "cell_type": "code",
   "execution_count": 51,
   "id": "b0a620fd-6cdb-46fb-adba-15ed49f3aad4",
   "metadata": {},
   "outputs": [],
   "source": [
    "def fit_model(model, X_train, y_train, X_test, y_test, epochs=5, batch_size=32, model_type='numpy', df=model_df):\n",
    "    fitted = model.fit(X_train, y_train, batch_size=batch_size, epochs=epochs, validation_data=(X_test, y_test))\n",
    "    score = fitted.model.evaluate(X_test, y_test, batch_size=batch_size)\n",
    "\n",
    "    model_name = f'../models/{model_type}/acc_{round(score[1], 3)}-loss_{round(score[0], 2)}-{int(time.time())}.model'\n",
    "\n",
    "    temp_df = pd.DataFrame.from_dict(fitted.history)\n",
    "    temp_df['model_name'] = model_name\n",
    "    pd.concat([df, temp_df])\n",
    "    print(df)\n",
    "\n",
    "    fitted.model.save(model_name)\n",
    "    print('done')"
   ]
  },
  {
   "cell_type": "code",
   "execution_count": null,
   "id": "a88320c4-2bee-42e0-9ade-968c4ce3d5ca",
   "metadata": {},
   "outputs": [],
   "source": []
  },
  {
   "cell_type": "code",
   "execution_count": 6,
   "id": "450df7c8-5a2b-49e7-9d4e-a689f135a55f",
   "metadata": {},
   "outputs": [],
   "source": [
    "# load image data\n",
    "train_l_paths = glob('../img/data/train/left/*')\n",
    "train_n_paths = glob('../img/data/train/none/*')\n",
    "train_r_paths = glob('../img/data/train/right/*')\n",
    "test_l_paths = glob('../img/data/test/left/*')\n",
    "test_n_paths = glob('../img/data/test/none/*')\n",
    "test_r_paths = glob('../img/data/test/right/*')"
   ]
  },
  {
   "cell_type": "code",
   "execution_count": 7,
   "id": "6adbb514-84c1-4c71-8649-8019156a19a3",
   "metadata": {},
   "outputs": [],
   "source": [
    "def load_image(path):\n",
    "    rgba_image = Image.open(path)\n",
    "    rgb_image = rgba_image.convert('RGB')\n",
    "    return np.asarray(rgb_image)"
   ]
  },
  {
   "cell_type": "code",
   "execution_count": 9,
   "id": "287d5e8d-2379-46e1-9cf2-82132bf1e30a",
   "metadata": {},
   "outputs": [],
   "source": [
    "def stack_images(paths_array):\n",
    "    array = []\n",
    "    \n",
    "    for i in paths_array:\n",
    "        array.append(load_image(i))\n",
    "    \n",
    "    return np.array(array)"
   ]
  },
  {
   "cell_type": "code",
   "execution_count": 10,
   "id": "499578f5-1127-4a25-a0cd-55388e4661d2",
   "metadata": {},
   "outputs": [],
   "source": [
    "def combine(left, none, right):\n",
    "    combined = []\n",
    "    for i in left:\n",
    "        combined.append([i, np.array([1, 0, 0])])\n",
    "\n",
    "    for i in none:\n",
    "        combined.append([i, np.array([0, 1, 0])])\n",
    "\n",
    "    for i in right:\n",
    "        combined.append([i, np.array([0, 0, 1])])\n",
    "        \n",
    "    return np.array(combined, dtype=object)"
   ]
  },
  {
   "cell_type": "code",
   "execution_count": 46,
   "id": "5e3a535b-96b6-4e7c-bf8b-41184fba0c1a",
   "metadata": {},
   "outputs": [],
   "source": [
    "def load_img_data(left_train, none_train, right_train, left_test, none_test, right_test):\n",
    "    left_T_images = stack_images(left_train)\n",
    "    none_T_images = stack_images(none_train)\n",
    "    right_T_images = stack_images(right_train)\n",
    "\n",
    "    left_t_images = stack_images(left_test)\n",
    "    none_t_images = stack_images(none_test)\n",
    "    right_t_images = stack_images(right_test)\n",
    "    \n",
    "    train = combine(left_T_images, none_T_images, right_T_images)\n",
    "    test = combine(left_t_images, none_t_images, right_t_images)\n",
    "    \n",
    "    np.random.shuffle(train)\n",
    "    np.random.shuffle(test)\n",
    "    \n",
    "    X_train = []\n",
    "    y_train = []\n",
    "    \n",
    "    X_test = []\n",
    "    y_test = []\n",
    "\n",
    "    for feature, target in train:\n",
    "        X_train.append(feature)\n",
    "        y_train.append(target)\n",
    "    \n",
    "    for feature, target in test:\n",
    "        X_test.append(feature)\n",
    "        y_test.append(target)\n",
    "        \n",
    "    X_train = np.array(X_train) / 255\n",
    "    y_train = np.array(y_train)\n",
    "    X_test = np.array(X_test) / 255\n",
    "    y_test = np.array(y_test)\n",
    "\n",
    "    return X_train, y_train, X_test, y_test"
   ]
  },
  {
   "cell_type": "code",
   "execution_count": 47,
   "id": "7a084d4e-b72d-40b9-bdc0-02d8663679cf",
   "metadata": {},
   "outputs": [],
   "source": [
    "# load image data\n",
    "X_train_img, y_train_img, X_test_img, y_test_img = load_img_data(train_l_paths, train_n_paths, train_r_paths,\n",
    "                                                                 test_l_paths, test_n_paths, test_r_paths)"
   ]
  },
  {
   "cell_type": "code",
   "execution_count": null,
   "id": "34ef2187-6020-4150-9748-99e3feab4311",
   "metadata": {},
   "outputs": [],
   "source": []
  },
  {
   "cell_type": "code",
   "execution_count": 49,
   "id": "399ab52a-b4cf-4c21-9cab-6f943f3a4521",
   "metadata": {},
   "outputs": [],
   "source": [
    "# load fft data\n",
    "X_train, X_test, y_train, y_test = master_load()"
   ]
  },
  {
   "cell_type": "code",
   "execution_count": null,
   "id": "e5ec7d58-ac26-467f-a56b-2af2ad019c68",
   "metadata": {},
   "outputs": [],
   "source": []
  },
  {
   "cell_type": "code",
   "execution_count": 4,
   "id": "a84acc36-f5b9-4197-8825-bf359ed9ed7d",
   "metadata": {},
   "outputs": [],
   "source": [
    "seven_XT = X_train[:, 6, :]\n",
    "fifteen_XT = X_train[:, 14, :]\n",
    "\n",
    "seven_Xt = X_test[:, 6, :]\n",
    "fifteen_Xt = X_test[:, 14, :]"
   ]
  },
  {
   "cell_type": "code",
   "execution_count": 5,
   "id": "06799d20-1080-40af-bd7e-2f35cd7f3834",
   "metadata": {},
   "outputs": [],
   "source": [
    "X_train_slice = np.stack((seven_XT, fifteen_XT), axis=1)\n",
    "X_test_slice = np.stack((seven_Xt, fifteen_Xt), axis=1)"
   ]
  },
  {
   "cell_type": "code",
   "execution_count": null,
   "id": "4ea2d3c2-d6e6-443a-9397-09aaf9b7b70e",
   "metadata": {},
   "outputs": [],
   "source": []
  },
  {
   "cell_type": "code",
   "execution_count": 35,
   "id": "8bf909bb-a095-440f-b3bc-8368bd30ede5",
   "metadata": {},
   "outputs": [],
   "source": [
    "model = Sequential()\n",
    "\n",
    "model.add(LSTM(32, return_sequences=True, input_shape=X_train.shape[1:]))  # numpy\n",
    "model.add(Dropout(0.2))\n",
    "\n",
    "model.add(LSTM(8, return_sequences=True))\n",
    "model.add(Dropout(0.2))\n",
    "\n",
    "model.add(TimeDistributed(\n",
    "    Dense(32, activation='relu')))\n",
    "\n",
    "# model.add(TimeDistributed(\n",
    "#     Dense(8, activation='relu')))\n",
    "model.add(Dropout(0.5))\n",
    "\n",
    "model.add(Flatten())\n",
    "\n",
    "model.add(Dense(3))\n",
    "model.add(Activation('softmax'))\n",
    "\n",
    "model.compile(loss='categorical_crossentropy',\n",
    "              optimizer='adam',\n",
    "              metrics=['accuracy'])"
   ]
  },
  {
   "cell_type": "code",
   "execution_count": 36,
   "id": "8d979304-f4ff-48de-8847-d848de264ced",
   "metadata": {},
   "outputs": [
    {
     "name": "stdout",
     "output_type": "stream",
     "text": [
      "Epoch 1/2\n",
      "8895/8895 [==============================] - 79s 9ms/step - loss: 0.9861 - accuracy: 0.4821 - val_loss: 1.0801 - val_accuracy: 0.3872\n",
      "Epoch 2/2\n",
      "8895/8895 [==============================] - 80s 9ms/step - loss: 0.8436 - accuracy: 0.5779 - val_loss: 1.1544 - val_accuracy: 0.3834\n",
      "1102/1102 [==============================] - 2s 2ms/step - loss: 1.1544 - accuracy: 0.3834\n"
     ]
    },
    {
     "name": "stderr",
     "output_type": "stream",
     "text": [
      "WARNING:absl:Found untraced functions such as lstm_cell_2_layer_call_and_return_conditional_losses, lstm_cell_2_layer_call_fn, lstm_cell_3_layer_call_and_return_conditional_losses, lstm_cell_3_layer_call_fn, lstm_cell_2_layer_call_fn while saving (showing 5 of 10). These functions will not be directly callable after loading.\n"
     ]
    },
    {
     "name": "stdout",
     "output_type": "stream",
     "text": [
      "INFO:tensorflow:Assets written to: ../models/numpy/acc_0.383-loss_1.15-1628280050.model/assets\n"
     ]
    },
    {
     "name": "stderr",
     "output_type": "stream",
     "text": [
      "INFO:tensorflow:Assets written to: ../models/numpy/acc_0.383-loss_1.15-1628280050.model/assets\n"
     ]
    },
    {
     "name": "stdout",
     "output_type": "stream",
     "text": [
      "done\n"
     ]
    }
   ],
   "source": [
    "fit_model(model, X_train, y_train, X_test, y_test, epochs=2)"
   ]
  },
  {
   "cell_type": "code",
   "execution_count": null,
   "id": "fd551fa1-0263-4f3c-8f20-a734bf00de90",
   "metadata": {},
   "outputs": [],
   "source": []
  },
  {
   "cell_type": "code",
   "execution_count": 55,
   "id": "445e8116-5568-4994-b3b0-c0eb4632bd89",
   "metadata": {},
   "outputs": [],
   "source": [
    "# modified\n",
    "model = Sequential()\n",
    "\n",
    "model.add(Conv2D(64, (3, 3), input_shape=X_train_img.shape[1:]))\n",
    "model.add(Activation('selu'))\n",
    "model.add(Dropout(0.2))\n",
    "\n",
    "model.add(Conv2D(32, (3, 3)))\n",
    "model.add(Activation('selu'))\n",
    "model.add(Dropout(0.2))\n",
    "\n",
    "model.add(MaxPooling2D((3, 3), padding='same'))\n",
    "model.add(Flatten())\n",
    "\n",
    "model.add(Dense(64))\n",
    "model.add(Activation('selu'))\n",
    "\n",
    "model.add(Dense(16))\n",
    "model.add(Activation('selu'))\n",
    "model.add(Dropout(0.5))\n",
    "\n",
    "model.add(Dense(3))\n",
    "model.add(Activation('softmax'))\n",
    "\n",
    "model.compile(loss='categorical_crossentropy',\n",
    "              optimizer='adam',\n",
    "              metrics=['accuracy'])"
   ]
  },
  {
   "cell_type": "code",
   "execution_count": 56,
   "id": "6b5418f8-fe94-4a12-8c09-0a26bbfc3a7a",
   "metadata": {},
   "outputs": [
    {
     "name": "stdout",
     "output_type": "stream",
     "text": [
      "Epoch 1/2\n",
      "35/35 [==============================] - 511s 14s/step - loss: 23.0176 - accuracy: 0.3453 - val_loss: 95.2675 - val_accuracy: 0.3333\n",
      "Epoch 2/2\n",
      "35/35 [==============================] - 797s 23s/step - loss: 2.1337 - accuracy: 0.3618 - val_loss: 119.7239 - val_accuracy: 0.3333\n",
      "5/5 [==============================] - 16s 3s/step - loss: 119.7239 - accuracy: 0.3333\n",
      "   loss  accuracy  val_loss  val_accuracy  model_name\n",
      "0     0         0         0             0           0\n",
      "INFO:tensorflow:Assets written to: ../models/images/acc_0.333-loss_119.72-1628283532.model/assets\n"
     ]
    },
    {
     "name": "stderr",
     "output_type": "stream",
     "text": [
      "INFO:tensorflow:Assets written to: ../models/images/acc_0.333-loss_119.72-1628283532.model/assets\n"
     ]
    },
    {
     "name": "stdout",
     "output_type": "stream",
     "text": [
      "done\n"
     ]
    }
   ],
   "source": [
    "fit_model(model, X_train_img, y_train_img, X_test_img, y_test_img, epochs=2, model_type='images')"
   ]
  },
  {
   "cell_type": "code",
   "execution_count": null,
   "id": "4aa67b3c-24dd-4d56-83c9-aab38ef46a4f",
   "metadata": {},
   "outputs": [],
   "source": []
  },
  {
   "cell_type": "code",
   "execution_count": 10,
   "id": "8f1a1f66-d198-413e-9088-b67055b39f6d",
   "metadata": {},
   "outputs": [],
   "source": [
    "# modified\n",
    "model = Sequential()\n",
    "\n",
    "model.add(Conv1D(64, (2), input_shape=X_train.shape[1:]))\n",
    "model.add(Activation('relu'))\n",
    "\n",
    "model.add(Conv1D(64, (1)))\n",
    "model.add(Activation('relu'))\n",
    "model.add(MaxPooling1D(pool_size=(2), padding='same'))\n",
    "\n",
    "model.add(Conv1D(64, (1)))\n",
    "model.add(Activation('relu'))\n",
    "model.add(MaxPooling1D(pool_size=(2), padding='same'))\n",
    "\n",
    "model.add(Flatten())\n",
    "\n",
    "model.add(Dense(64))\n",
    "model.add(Activation('relu'))\n",
    "\n",
    "model.add(Dense(16))\n",
    "model.add(Activation('relu'))\n",
    "\n",
    "model.add(Dropout(0.5))\n",
    "\n",
    "model.add(Dense(3))\n",
    "model.add(Activation('softmax'))\n",
    "\n",
    "model.compile(loss='categorical_crossentropy',\n",
    "              optimizer='adam',\n",
    "              metrics=['accuracy'])"
   ]
  },
  {
   "cell_type": "code",
   "execution_count": 11,
   "id": "59360086-7bf1-4ce6-afc2-fdca80ff80c5",
   "metadata": {},
   "outputs": [
    {
     "name": "stdout",
     "output_type": "stream",
     "text": [
      "Epoch 1/50\n",
      "8895/8895 [==============================] - 57s 6ms/step - loss: 1.0991 - accuracy: 0.3339 - val_loss: 1.0986 - val_accuracy: 0.3333\n",
      "Epoch 2/50\n",
      "8895/8895 [==============================] - 64s 7ms/step - loss: 1.0986 - accuracy: 0.3341 - val_loss: 1.0988 - val_accuracy: 0.3333\n",
      "Epoch 3/50\n",
      "8895/8895 [==============================] - 70s 8ms/step - loss: 1.0987 - accuracy: 0.3341 - val_loss: 1.0987 - val_accuracy: 0.3333\n",
      "Epoch 4/50\n",
      "8895/8895 [==============================] - 69s 8ms/step - loss: 1.0987 - accuracy: 0.3332 - val_loss: 1.0986 - val_accuracy: 0.3333\n",
      "Epoch 5/50\n",
      "8895/8895 [==============================] - 68s 8ms/step - loss: 1.0987 - accuracy: 0.3343 - val_loss: 1.0986 - val_accuracy: 0.3333\n",
      "Epoch 6/50\n",
      "8895/8895 [==============================] - 71s 8ms/step - loss: 1.0986 - accuracy: 0.3330 - val_loss: 1.0986 - val_accuracy: 0.3333\n",
      "Epoch 7/50\n",
      "8895/8895 [==============================] - 73s 8ms/step - loss: 1.0987 - accuracy: 0.3337 - val_loss: 1.0986 - val_accuracy: 0.3333\n",
      "Epoch 8/50\n",
      "8895/8895 [==============================] - 74s 8ms/step - loss: 1.0987 - accuracy: 0.3340 - val_loss: 1.0987 - val_accuracy: 0.3333\n",
      "Epoch 9/50\n",
      "8895/8895 [==============================] - 68s 8ms/step - loss: 1.0987 - accuracy: 0.3343 - val_loss: 1.0988 - val_accuracy: 0.3333\n",
      "Epoch 10/50\n",
      "8895/8895 [==============================] - 68s 8ms/step - loss: 1.0987 - accuracy: 0.3334 - val_loss: 1.0987 - val_accuracy: 0.3333\n",
      "Epoch 11/50\n",
      "8895/8895 [==============================] - 69s 8ms/step - loss: 1.0986 - accuracy: 0.3350 - val_loss: 1.0987 - val_accuracy: 0.3333\n",
      "Epoch 12/50\n",
      "8895/8895 [==============================] - 71s 8ms/step - loss: 1.0987 - accuracy: 0.3331 - val_loss: 1.0987 - val_accuracy: 0.3333\n",
      "Epoch 13/50\n",
      "8895/8895 [==============================] - 71s 8ms/step - loss: 1.0986 - accuracy: 0.3356 - val_loss: 1.0987 - val_accuracy: 0.3333\n",
      "Epoch 14/50\n",
      "8895/8895 [==============================] - 68s 8ms/step - loss: 1.0987 - accuracy: 0.3336 - val_loss: 1.0987 - val_accuracy: 0.3333\n",
      "Epoch 15/50\n",
      "8895/8895 [==============================] - 67s 7ms/step - loss: 1.0987 - accuracy: 0.3329 - val_loss: 1.0987 - val_accuracy: 0.3333\n",
      "Epoch 16/50\n",
      "8895/8895 [==============================] - 73s 8ms/step - loss: 1.0987 - accuracy: 0.3337 - val_loss: 1.0987 - val_accuracy: 0.3333\n",
      "Epoch 17/50\n",
      "8895/8895 [==============================] - 72s 8ms/step - loss: 1.0987 - accuracy: 0.3338 - val_loss: 1.0986 - val_accuracy: 0.3333\n",
      "Epoch 18/50\n",
      "8895/8895 [==============================] - 70s 8ms/step - loss: 1.0986 - accuracy: 0.3353 - val_loss: 1.0986 - val_accuracy: 0.3333\n",
      "Epoch 19/50\n",
      "8895/8895 [==============================] - 63s 7ms/step - loss: 1.0987 - accuracy: 0.3341 - val_loss: 1.0988 - val_accuracy: 0.3333\n",
      "Epoch 20/50\n",
      "8895/8895 [==============================] - 68s 8ms/step - loss: 1.0987 - accuracy: 0.3356 - val_loss: 1.0987 - val_accuracy: 0.3333\n",
      "Epoch 21/50\n",
      "8895/8895 [==============================] - 71s 8ms/step - loss: 1.0987 - accuracy: 0.3347 - val_loss: 1.0986 - val_accuracy: 0.3333\n",
      "Epoch 22/50\n",
      "8895/8895 [==============================] - 71s 8ms/step - loss: 1.0987 - accuracy: 0.3340 - val_loss: 1.0986 - val_accuracy: 0.3333\n",
      "Epoch 23/50\n",
      "8895/8895 [==============================] - 74s 8ms/step - loss: 1.0987 - accuracy: 0.3339 - val_loss: 1.0986 - val_accuracy: 0.3333\n",
      "Epoch 24/50\n",
      "8895/8895 [==============================] - 73s 8ms/step - loss: 1.0987 - accuracy: 0.3344 - val_loss: 1.0986 - val_accuracy: 0.3333\n",
      "Epoch 25/50\n",
      "8895/8895 [==============================] - 70s 8ms/step - loss: 1.0987 - accuracy: 0.3333 - val_loss: 1.0987 - val_accuracy: 0.3333\n",
      "Epoch 26/50\n",
      "8895/8895 [==============================] - 74s 8ms/step - loss: 1.0987 - accuracy: 0.3339 - val_loss: 1.0986 - val_accuracy: 0.3333\n",
      "Epoch 27/50\n",
      "8895/8895 [==============================] - 74s 8ms/step - loss: 1.0987 - accuracy: 0.3342 - val_loss: 1.0986 - val_accuracy: 0.3333\n",
      "Epoch 28/50\n",
      "8895/8895 [==============================] - 70s 8ms/step - loss: 1.0987 - accuracy: 0.3338 - val_loss: 1.0987 - val_accuracy: 0.3333\n",
      "Epoch 29/50\n",
      "8895/8895 [==============================] - 69s 8ms/step - loss: 1.0987 - accuracy: 0.3328 - val_loss: 1.0988 - val_accuracy: 0.3333\n",
      "Epoch 30/50\n",
      "8895/8895 [==============================] - 68s 8ms/step - loss: 1.0987 - accuracy: 0.3324 - val_loss: 1.0987 - val_accuracy: 0.3333\n",
      "Epoch 31/50\n",
      "8895/8895 [==============================] - 72s 8ms/step - loss: 1.0987 - accuracy: 0.3339 - val_loss: 1.0988 - val_accuracy: 0.3333\n",
      "Epoch 32/50\n",
      "8895/8895 [==============================] - 70s 8ms/step - loss: 1.0987 - accuracy: 0.3343 - val_loss: 1.0986 - val_accuracy: 0.3333\n",
      "Epoch 33/50\n",
      "8895/8895 [==============================] - 71s 8ms/step - loss: 1.0987 - accuracy: 0.3336 - val_loss: 1.0986 - val_accuracy: 0.3333\n",
      "Epoch 34/50\n",
      "8895/8895 [==============================] - 72s 8ms/step - loss: 1.0987 - accuracy: 0.3331 - val_loss: 1.0988 - val_accuracy: 0.3333\n",
      "Epoch 35/50\n",
      "8895/8895 [==============================] - 70s 8ms/step - loss: 1.0987 - accuracy: 0.3341 - val_loss: 1.0986 - val_accuracy: 0.3333\n",
      "Epoch 36/50\n",
      "8895/8895 [==============================] - 76s 8ms/step - loss: 1.0987 - accuracy: 0.3340 - val_loss: 1.0986 - val_accuracy: 0.3333\n",
      "Epoch 37/50\n",
      "8895/8895 [==============================] - 75s 8ms/step - loss: 1.0987 - accuracy: 0.3337 - val_loss: 1.0987 - val_accuracy: 0.3333\n",
      "Epoch 38/50\n",
      "8895/8895 [==============================] - 72s 8ms/step - loss: 1.0986 - accuracy: 0.3356 - val_loss: 1.0986 - val_accuracy: 0.3333\n",
      "Epoch 39/50\n",
      "8895/8895 [==============================] - 67s 7ms/step - loss: 1.0987 - accuracy: 0.3330 - val_loss: 1.0990 - val_accuracy: 0.3333\n",
      "Epoch 40/50\n",
      "8895/8895 [==============================] - 73s 8ms/step - loss: 1.0987 - accuracy: 0.3351 - val_loss: 1.0988 - val_accuracy: 0.3333\n",
      "Epoch 41/50\n",
      "8895/8895 [==============================] - 77s 9ms/step - loss: 1.0987 - accuracy: 0.3333 - val_loss: 1.0986 - val_accuracy: 0.3333\n",
      "Epoch 42/50\n",
      "8895/8895 [==============================] - 76s 9ms/step - loss: 1.0987 - accuracy: 0.3340 - val_loss: 1.0986 - val_accuracy: 0.3333\n",
      "Epoch 43/50\n",
      "8895/8895 [==============================] - 75s 8ms/step - loss: 1.0987 - accuracy: 0.3337 - val_loss: 1.0987 - val_accuracy: 0.3333\n",
      "Epoch 44/50\n",
      "8895/8895 [==============================] - 74s 8ms/step - loss: 1.0986 - accuracy: 0.3351 - val_loss: 1.0987 - val_accuracy: 0.3333\n",
      "Epoch 45/50\n",
      "8895/8895 [==============================] - 72s 8ms/step - loss: 1.0986 - accuracy: 0.3342 - val_loss: 1.0987 - val_accuracy: 0.3333\n",
      "Epoch 46/50\n",
      "8895/8895 [==============================] - 78s 9ms/step - loss: 1.0987 - accuracy: 0.3331 - val_loss: 1.0986 - val_accuracy: 0.3333\n",
      "Epoch 47/50\n",
      "8895/8895 [==============================] - 80s 9ms/step - loss: 1.0987 - accuracy: 0.3336 - val_loss: 1.0986 - val_accuracy: 0.3333\n",
      "Epoch 48/50\n",
      "8895/8895 [==============================] - 78s 9ms/step - loss: 1.0987 - accuracy: 0.3333 - val_loss: 1.0989 - val_accuracy: 0.3333\n",
      "Epoch 49/50\n",
      "8895/8895 [==============================] - 79s 9ms/step - loss: 1.0987 - accuracy: 0.3336 - val_loss: 1.0989 - val_accuracy: 0.3333\n",
      "Epoch 50/50\n",
      "8895/8895 [==============================] - 79s 9ms/step - loss: 1.0987 - accuracy: 0.3347 - val_loss: 1.0989 - val_accuracy: 0.3333\n",
      "1102/1102 [==============================] - 1s 950us/step - loss: 1.0989 - accuracy: 0.3333\n",
      "INFO:tensorflow:Assets written to: ../models/numpy/acc_0.333-loss_1.1-1628240895.model/assets\n"
     ]
    },
    {
     "name": "stderr",
     "output_type": "stream",
     "text": [
      "INFO:tensorflow:Assets written to: ../models/numpy/acc_0.333-loss_1.1-1628240895.model/assets\n"
     ]
    },
    {
     "name": "stdout",
     "output_type": "stream",
     "text": [
      "done\n"
     ]
    }
   ],
   "source": [
    "epochs = 50\n",
    "batch_size = 32\n",
    "\n",
    "fitted = model.fit(X_train, y_train, batch_size=batch_size, epochs=epochs, validation_data=(X_test, y_test))\n",
    "score = fitted.model.evaluate(X_test, y_test, batch_size=batch_size)\n",
    "\n",
    "model_name = f'../models/numpy/acc_{round(score[1], 3)}-loss_{round(score[0], 2)}-{int(time.time())}.model'\n",
    "\n",
    "temp_df = pd.DataFrame.from_dict(fitted.history)\n",
    "temp_df['model_name'] = model_name\n",
    "df = pd.concat([df, temp_df])\n",
    "fitted.model.save(model_name)\n",
    "\n",
    "print('done')"
   ]
  },
  {
   "cell_type": "code",
   "execution_count": null,
   "id": "d7597769-af6e-4518-815d-fe5d27cc7146",
   "metadata": {},
   "outputs": [],
   "source": []
  },
  {
   "cell_type": "code",
   "execution_count": 12,
   "id": "86f62511-8d27-4d8a-91b0-02bb9ad4001d",
   "metadata": {},
   "outputs": [],
   "source": [
    "# stolen 1\n",
    "model = Sequential()\n",
    "\n",
    "model.add(Conv1D(128, (1), input_shape=X_train.shape[1:]))\n",
    "model.add(Activation('relu'))\n",
    "\n",
    "model.add(Conv1D(64, (2)))\n",
    "model.add(Activation('relu'))\n",
    "\n",
    "model.add(MaxPooling1D(pool_size=(2), padding='same'))\n",
    "\n",
    "model.add(Conv1D(64, (1)))\n",
    "model.add(Activation('relu'))\n",
    "\n",
    "model.add(MaxPooling1D(pool_size=(2), padding='same'))\n",
    "\n",
    "model.add(Flatten())\n",
    "\n",
    "model.add(Dense(64))\n",
    "model.add(Activation('relu'))\n",
    "\n",
    "model.add(Dense(16))\n",
    "model.add(Activation('relu'))\n",
    "\n",
    "model.add(Dropout(0.5))\n",
    "\n",
    "model.add(Dense(3))\n",
    "model.add(Activation('softmax'))\n",
    "\n",
    "model.compile(loss='categorical_crossentropy',\n",
    "              optimizer='adam',\n",
    "              metrics=['accuracy'])"
   ]
  },
  {
   "cell_type": "code",
   "execution_count": 13,
   "id": "53239efe-1fc0-446f-a778-73dae1ce37a9",
   "metadata": {},
   "outputs": [
    {
     "name": "stdout",
     "output_type": "stream",
     "text": [
      "Epoch 1/50\n",
      "8895/8895 [==============================] - 74s 8ms/step - loss: 1.0989 - accuracy: 0.3339 - val_loss: 1.0987 - val_accuracy: 0.3333\n",
      "Epoch 2/50\n",
      "8895/8895 [==============================] - 71s 8ms/step - loss: 1.0986 - accuracy: 0.3344 - val_loss: 1.0989 - val_accuracy: 0.3333\n",
      "Epoch 3/50\n",
      "8895/8895 [==============================] - 68s 8ms/step - loss: 1.0987 - accuracy: 0.3336 - val_loss: 1.0987 - val_accuracy: 0.3333\n",
      "Epoch 4/50\n",
      "8895/8895 [==============================] - 66s 7ms/step - loss: 1.0987 - accuracy: 0.3343 - val_loss: 1.0987 - val_accuracy: 0.3333\n",
      "Epoch 5/50\n",
      "8895/8895 [==============================] - 69s 8ms/step - loss: 1.0986 - accuracy: 0.3356 - val_loss: 1.0988 - val_accuracy: 0.3333\n",
      "Epoch 6/50\n",
      "8895/8895 [==============================] - 69s 8ms/step - loss: 1.0987 - accuracy: 0.3325 - val_loss: 1.0986 - val_accuracy: 0.3333\n",
      "Epoch 7/50\n",
      "8895/8895 [==============================] - 68s 8ms/step - loss: 1.0987 - accuracy: 0.3350 - val_loss: 1.0988 - val_accuracy: 0.3333\n",
      "Epoch 8/50\n",
      "8895/8895 [==============================] - 66s 7ms/step - loss: 1.0987 - accuracy: 0.3337 - val_loss: 1.0988 - val_accuracy: 0.3333\n",
      "Epoch 9/50\n",
      "8895/8895 [==============================] - 68s 8ms/step - loss: 1.0987 - accuracy: 0.3332 - val_loss: 1.0986 - val_accuracy: 0.3333\n",
      "Epoch 10/50\n",
      "8895/8895 [==============================] - 67s 7ms/step - loss: 1.0987 - accuracy: 0.3334 - val_loss: 1.0986 - val_accuracy: 0.3333\n",
      "Epoch 11/50\n",
      "8895/8895 [==============================] - 64s 7ms/step - loss: 1.0987 - accuracy: 0.3340 - val_loss: 1.0986 - val_accuracy: 0.3333\n",
      "Epoch 12/50\n",
      "8895/8895 [==============================] - 66s 7ms/step - loss: 1.0987 - accuracy: 0.3336 - val_loss: 1.0987 - val_accuracy: 0.3333\n",
      "Epoch 13/50\n",
      "8895/8895 [==============================] - 69s 8ms/step - loss: 1.0987 - accuracy: 0.3344 - val_loss: 1.0987 - val_accuracy: 0.3333\n",
      "Epoch 14/50\n",
      "8895/8895 [==============================] - 64s 7ms/step - loss: 1.0987 - accuracy: 0.3338 - val_loss: 1.0987 - val_accuracy: 0.3333\n",
      "Epoch 15/50\n",
      "8895/8895 [==============================] - 68s 8ms/step - loss: 1.0987 - accuracy: 0.3348 - val_loss: 1.0986 - val_accuracy: 0.3333\n",
      "Epoch 16/50\n",
      "8895/8895 [==============================] - 70s 8ms/step - loss: 1.0986 - accuracy: 0.3354 - val_loss: 1.0988 - val_accuracy: 0.3333\n",
      "Epoch 17/50\n",
      "8895/8895 [==============================] - 68s 8ms/step - loss: 1.0987 - accuracy: 0.3347 - val_loss: 1.0987 - val_accuracy: 0.3333\n",
      "Epoch 18/50\n",
      "8895/8895 [==============================] - 64s 7ms/step - loss: 1.0987 - accuracy: 0.3340 - val_loss: 1.0986 - val_accuracy: 0.3333\n",
      "Epoch 19/50\n",
      "8895/8895 [==============================] - 64s 7ms/step - loss: 1.0987 - accuracy: 0.3344 - val_loss: 1.0986 - val_accuracy: 0.3333\n",
      "Epoch 20/50\n",
      "8895/8895 [==============================] - 69s 8ms/step - loss: 1.0987 - accuracy: 0.3339 - val_loss: 1.0988 - val_accuracy: 0.3333\n",
      "Epoch 21/50\n",
      "8895/8895 [==============================] - 71s 8ms/step - loss: 1.0987 - accuracy: 0.3336 - val_loss: 1.0987 - val_accuracy: 0.3333\n",
      "Epoch 22/50\n",
      "8895/8895 [==============================] - 70s 8ms/step - loss: 1.0987 - accuracy: 0.3328 - val_loss: 1.0987 - val_accuracy: 0.3333\n",
      "Epoch 23/50\n",
      "8895/8895 [==============================] - 67s 8ms/step - loss: 1.0987 - accuracy: 0.3337 - val_loss: 1.0988 - val_accuracy: 0.3333\n",
      "Epoch 24/50\n",
      "8895/8895 [==============================] - 65s 7ms/step - loss: 1.0987 - accuracy: 0.3332 - val_loss: 1.0987 - val_accuracy: 0.3333\n",
      "Epoch 25/50\n",
      "8895/8895 [==============================] - 69s 8ms/step - loss: 1.0987 - accuracy: 0.3330 - val_loss: 1.0987 - val_accuracy: 0.3333\n",
      "Epoch 26/50\n",
      "8895/8895 [==============================] - 69s 8ms/step - loss: 1.0987 - accuracy: 0.3330 - val_loss: 1.0987 - val_accuracy: 0.3333\n",
      "Epoch 27/50\n",
      "8895/8895 [==============================] - 64s 7ms/step - loss: 1.0987 - accuracy: 0.3344 - val_loss: 1.0987 - val_accuracy: 0.3333\n",
      "Epoch 28/50\n",
      "8895/8895 [==============================] - 70s 8ms/step - loss: 1.0987 - accuracy: 0.3331 - val_loss: 1.0986 - val_accuracy: 0.3333\n",
      "Epoch 29/50\n",
      "8895/8895 [==============================] - 68s 8ms/step - loss: 1.0987 - accuracy: 0.3341 - val_loss: 1.0989 - val_accuracy: 0.3333\n",
      "Epoch 30/50\n",
      "8895/8895 [==============================] - 65s 7ms/step - loss: 1.0987 - accuracy: 0.3332 - val_loss: 1.0987 - val_accuracy: 0.3333\n",
      "Epoch 31/50\n",
      "8895/8895 [==============================] - 67s 8ms/step - loss: 1.0987 - accuracy: 0.3335 - val_loss: 1.0987 - val_accuracy: 0.3333\n",
      "Epoch 32/50\n",
      "8895/8895 [==============================] - 63s 7ms/step - loss: 1.0987 - accuracy: 0.3332 - val_loss: 1.0987 - val_accuracy: 0.3333\n",
      "Epoch 33/50\n",
      "8895/8895 [==============================] - 66s 7ms/step - loss: 1.0987 - accuracy: 0.3351 - val_loss: 1.0986 - val_accuracy: 0.3333\n",
      "Epoch 34/50\n",
      "8895/8895 [==============================] - 65s 7ms/step - loss: 1.0987 - accuracy: 0.3336 - val_loss: 1.0986 - val_accuracy: 0.3333\n",
      "Epoch 35/50\n",
      "8895/8895 [==============================] - 66s 7ms/step - loss: 1.0987 - accuracy: 0.3340 - val_loss: 1.0986 - val_accuracy: 0.3333\n",
      "Epoch 36/50\n",
      "8895/8895 [==============================] - 68s 8ms/step - loss: 1.0986 - accuracy: 0.3351 - val_loss: 1.0986 - val_accuracy: 0.3333\n",
      "Epoch 37/50\n",
      "8895/8895 [==============================] - 69s 8ms/step - loss: 1.0987 - accuracy: 0.3345 - val_loss: 1.0987 - val_accuracy: 0.3333\n",
      "Epoch 38/50\n",
      "8895/8895 [==============================] - 67s 8ms/step - loss: 1.0987 - accuracy: 0.3347 - val_loss: 1.0986 - val_accuracy: 0.3333\n",
      "Epoch 39/50\n",
      "8895/8895 [==============================] - 64s 7ms/step - loss: 1.0987 - accuracy: 0.3333 - val_loss: 1.0987 - val_accuracy: 0.3333\n",
      "Epoch 40/50\n",
      "8895/8895 [==============================] - 69s 8ms/step - loss: 1.0986 - accuracy: 0.3352 - val_loss: 1.0987 - val_accuracy: 0.3333\n",
      "Epoch 41/50\n",
      "8895/8895 [==============================] - 68s 8ms/step - loss: 1.0987 - accuracy: 0.3360 - val_loss: 1.0988 - val_accuracy: 0.3333\n",
      "Epoch 42/50\n",
      "8895/8895 [==============================] - 69s 8ms/step - loss: 1.0987 - accuracy: 0.3340 - val_loss: 1.0986 - val_accuracy: 0.3333\n",
      "Epoch 43/50\n",
      "8895/8895 [==============================] - 64s 7ms/step - loss: 1.0987 - accuracy: 0.3327 - val_loss: 1.0987 - val_accuracy: 0.3333\n",
      "Epoch 44/50\n",
      "8895/8895 [==============================] - 65s 7ms/step - loss: 1.0987 - accuracy: 0.3329 - val_loss: 1.0986 - val_accuracy: 0.3333\n",
      "Epoch 45/50\n",
      "8895/8895 [==============================] - 62s 7ms/step - loss: 1.0987 - accuracy: 0.3332 - val_loss: 1.0987 - val_accuracy: 0.3333\n",
      "Epoch 46/50\n",
      "8895/8895 [==============================] - 66s 7ms/step - loss: 1.0987 - accuracy: 0.3338 - val_loss: 1.0987 - val_accuracy: 0.3333\n",
      "Epoch 47/50\n",
      "8895/8895 [==============================] - 66s 7ms/step - loss: 1.0987 - accuracy: 0.3338 - val_loss: 1.0986 - val_accuracy: 0.3333\n",
      "Epoch 48/50\n",
      "8895/8895 [==============================] - 63s 7ms/step - loss: 1.0987 - accuracy: 0.3340 - val_loss: 1.0987 - val_accuracy: 0.3333\n",
      "Epoch 49/50\n",
      "8895/8895 [==============================] - 63s 7ms/step - loss: 1.0987 - accuracy: 0.3345 - val_loss: 1.0986 - val_accuracy: 0.3333\n",
      "Epoch 50/50\n",
      "8895/8895 [==============================] - 68s 8ms/step - loss: 1.0987 - accuracy: 0.3326 - val_loss: 1.0986 - val_accuracy: 0.3333\n",
      "1102/1102 [==============================] - 1s 960us/step - loss: 1.0986 - accuracy: 0.3333\n",
      "INFO:tensorflow:Assets written to: ../models/numpy/acc_0.333-loss_1.1-1628244246.model/assets\n"
     ]
    },
    {
     "name": "stderr",
     "output_type": "stream",
     "text": [
      "INFO:tensorflow:Assets written to: ../models/numpy/acc_0.333-loss_1.1-1628244246.model/assets\n"
     ]
    },
    {
     "name": "stdout",
     "output_type": "stream",
     "text": [
      "done\n"
     ]
    }
   ],
   "source": [
    "epochs = 50\n",
    "batch_size = 32\n",
    "\n",
    "fitted = model.fit(X_train, y_train, batch_size=batch_size, epochs=epochs, validation_data=(X_test, y_test))\n",
    "score = fitted.model.evaluate(X_test, y_test, batch_size=batch_size)\n",
    "\n",
    "model_name = f'../models/numpy/acc_{round(score[1], 3)}-loss_{round(score[0], 2)}-{int(time.time())}.model'\n",
    "\n",
    "temp_df = pd.DataFrame.from_dict(fitted.history)\n",
    "temp_df['model_name'] = model_name\n",
    "df = pd.concat([df, temp_df])\n",
    "fitted.model.save(model_name)\n",
    "\n",
    "print('done')"
   ]
  },
  {
   "cell_type": "code",
   "execution_count": null,
   "id": "5f8d4d00-5ed3-4fa9-9c0c-dd1dfd82fc0d",
   "metadata": {},
   "outputs": [],
   "source": []
  },
  {
   "cell_type": "code",
   "execution_count": 19,
   "id": "1f6d0407-4c64-4ef3-99e4-6aba99f4c4b9",
   "metadata": {},
   "outputs": [],
   "source": [
    "reshape = (-1, 2, 60)\n",
    "\n",
    "train_X = np.clip(np.array(X_train).reshape(reshape), -10, 10) / 10\n",
    "test_X = np.clip(np.array(X_test).reshape(reshape), -10, 10) / 10"
   ]
  },
  {
   "cell_type": "code",
   "execution_count": 23,
   "id": "015ee3d9-af90-4f1c-8230-d191cb7d03c3",
   "metadata": {},
   "outputs": [],
   "source": [
    "# stolen 2\n",
    "model = Sequential()\n",
    "\n",
    "model.add(Conv1D(128, (1), padding='same', input_shape=train_X.shape[1:]))\n",
    "model.add(Activation('relu'))\n",
    "\n",
    "model.add(Conv1D(64, (5), padding='same'))\n",
    "model.add(Activation('relu'))\n",
    "\n",
    "model.add(Conv1D(16, (5), padding='same'))\n",
    "model.add(Activation('relu'))\n",
    "\n",
    "model.add(Conv1D(8, (5), padding='same'))\n",
    "model.add(Activation('relu'))\n",
    "\n",
    "model.add(Conv1D(3, (2)))\n",
    "model.add(Reshape((3,)))\n",
    "model.add(Activation('softmax'))\n",
    "\n",
    "model.compile(loss='categorical_crossentropy',\n",
    "              optimizer='adam',\n",
    "              metrics=['accuracy'])"
   ]
  },
  {
   "cell_type": "code",
   "execution_count": 24,
   "id": "812b2396-d968-435b-aa4e-5dd677a4cebd",
   "metadata": {},
   "outputs": [
    {
     "name": "stdout",
     "output_type": "stream",
     "text": [
      "Epoch 1/50\n",
      "WARNING:tensorflow:Model was constructed with shape (None, 2, 60) for input KerasTensor(type_spec=TensorSpec(shape=(None, 2, 60), dtype=tf.float32, name='conv1d_13_input'), name='conv1d_13_input', description=\"created by layer 'conv1d_13_input'\"), but it was called on an input with incompatible shape (None, 16, 60).\n"
     ]
    },
    {
     "name": "stderr",
     "output_type": "stream",
     "text": [
      "WARNING:tensorflow:Model was constructed with shape (None, 2, 60) for input KerasTensor(type_spec=TensorSpec(shape=(None, 2, 60), dtype=tf.float32, name='conv1d_13_input'), name='conv1d_13_input', description=\"created by layer 'conv1d_13_input'\"), but it was called on an input with incompatible shape (None, 16, 60).\n"
     ]
    },
    {
     "ename": "ValueError",
     "evalue": "in user code:\n\n    /Users/josiah/opt/anaconda3/lib/python3.8/site-packages/tensorflow/python/keras/engine/training.py:855 train_function  *\n        return step_function(self, iterator)\n    /Users/josiah/opt/anaconda3/lib/python3.8/site-packages/tensorflow/python/keras/engine/training.py:845 step_function  **\n        outputs = model.distribute_strategy.run(run_step, args=(data,))\n    /Users/josiah/opt/anaconda3/lib/python3.8/site-packages/tensorflow/python/distribute/distribute_lib.py:1285 run\n        return self._extended.call_for_each_replica(fn, args=args, kwargs=kwargs)\n    /Users/josiah/opt/anaconda3/lib/python3.8/site-packages/tensorflow/python/distribute/distribute_lib.py:2833 call_for_each_replica\n        return self._call_for_each_replica(fn, args, kwargs)\n    /Users/josiah/opt/anaconda3/lib/python3.8/site-packages/tensorflow/python/distribute/distribute_lib.py:3608 _call_for_each_replica\n        return fn(*args, **kwargs)\n    /Users/josiah/opt/anaconda3/lib/python3.8/site-packages/tensorflow/python/keras/engine/training.py:838 run_step  **\n        outputs = model.train_step(data)\n    /Users/josiah/opt/anaconda3/lib/python3.8/site-packages/tensorflow/python/keras/engine/training.py:795 train_step\n        y_pred = self(x, training=True)\n    /Users/josiah/opt/anaconda3/lib/python3.8/site-packages/tensorflow/python/keras/engine/base_layer.py:1030 __call__\n        outputs = call_fn(inputs, *args, **kwargs)\n    /Users/josiah/opt/anaconda3/lib/python3.8/site-packages/tensorflow/python/keras/engine/sequential.py:380 call\n        return super(Sequential, self).call(inputs, training=training, mask=mask)\n    /Users/josiah/opt/anaconda3/lib/python3.8/site-packages/tensorflow/python/keras/engine/functional.py:420 call\n        return self._run_internal_graph(\n    /Users/josiah/opt/anaconda3/lib/python3.8/site-packages/tensorflow/python/keras/engine/functional.py:556 _run_internal_graph\n        outputs = node.layer(*args, **kwargs)\n    /Users/josiah/opt/anaconda3/lib/python3.8/site-packages/tensorflow/python/keras/engine/base_layer.py:1030 __call__\n        outputs = call_fn(inputs, *args, **kwargs)\n    /Users/josiah/opt/anaconda3/lib/python3.8/site-packages/tensorflow/python/keras/layers/core.py:557 call\n        result.set_shape(self.compute_output_shape(inputs.shape))\n    /Users/josiah/opt/anaconda3/lib/python3.8/site-packages/tensorflow/python/keras/layers/core.py:547 compute_output_shape\n        output_shape += self._fix_unknown_dimension(input_shape[1:],\n    /Users/josiah/opt/anaconda3/lib/python3.8/site-packages/tensorflow/python/keras/layers/core.py:536 _fix_unknown_dimension\n        raise ValueError(msg)\n\n    ValueError: total size of new array must be unchanged, input_shape = [15, 3], output_shape = [3]\n",
     "output_type": "error",
     "traceback": [
      "\u001b[0;31m---------------------------------------------------------------------------\u001b[0m",
      "\u001b[0;31mValueError\u001b[0m                                Traceback (most recent call last)",
      "\u001b[0;32m<ipython-input-24-dbe8b02a38b1>\u001b[0m in \u001b[0;36m<module>\u001b[0;34m\u001b[0m\n\u001b[1;32m      2\u001b[0m \u001b[0mbatch_size\u001b[0m \u001b[0;34m=\u001b[0m \u001b[0;36m32\u001b[0m\u001b[0;34m\u001b[0m\u001b[0;34m\u001b[0m\u001b[0m\n\u001b[1;32m      3\u001b[0m \u001b[0;34m\u001b[0m\u001b[0m\n\u001b[0;32m----> 4\u001b[0;31m \u001b[0mfitted\u001b[0m \u001b[0;34m=\u001b[0m \u001b[0mmodel\u001b[0m\u001b[0;34m.\u001b[0m\u001b[0mfit\u001b[0m\u001b[0;34m(\u001b[0m\u001b[0mX_train\u001b[0m\u001b[0;34m,\u001b[0m \u001b[0my_train\u001b[0m\u001b[0;34m,\u001b[0m \u001b[0mbatch_size\u001b[0m\u001b[0;34m=\u001b[0m\u001b[0mbatch_size\u001b[0m\u001b[0;34m,\u001b[0m \u001b[0mepochs\u001b[0m\u001b[0;34m=\u001b[0m\u001b[0mepochs\u001b[0m\u001b[0;34m,\u001b[0m \u001b[0mvalidation_data\u001b[0m\u001b[0;34m=\u001b[0m\u001b[0;34m(\u001b[0m\u001b[0mX_test\u001b[0m\u001b[0;34m,\u001b[0m \u001b[0my_test\u001b[0m\u001b[0;34m)\u001b[0m\u001b[0;34m)\u001b[0m\u001b[0;34m\u001b[0m\u001b[0;34m\u001b[0m\u001b[0m\n\u001b[0m\u001b[1;32m      5\u001b[0m \u001b[0mscore\u001b[0m \u001b[0;34m=\u001b[0m \u001b[0mfitted\u001b[0m\u001b[0;34m.\u001b[0m\u001b[0mmodel\u001b[0m\u001b[0;34m.\u001b[0m\u001b[0mevaluate\u001b[0m\u001b[0;34m(\u001b[0m\u001b[0mX_test\u001b[0m\u001b[0;34m,\u001b[0m \u001b[0my_test\u001b[0m\u001b[0;34m,\u001b[0m \u001b[0mbatch_size\u001b[0m\u001b[0;34m=\u001b[0m\u001b[0mbatch_size\u001b[0m\u001b[0;34m)\u001b[0m\u001b[0;34m\u001b[0m\u001b[0;34m\u001b[0m\u001b[0m\n\u001b[1;32m      6\u001b[0m \u001b[0;34m\u001b[0m\u001b[0m\n",
      "\u001b[0;32m~/opt/anaconda3/lib/python3.8/site-packages/tensorflow/python/keras/engine/training.py\u001b[0m in \u001b[0;36mfit\u001b[0;34m(self, x, y, batch_size, epochs, verbose, callbacks, validation_split, validation_data, shuffle, class_weight, sample_weight, initial_epoch, steps_per_epoch, validation_steps, validation_batch_size, validation_freq, max_queue_size, workers, use_multiprocessing)\u001b[0m\n\u001b[1;32m   1181\u001b[0m                 _r=1):\n\u001b[1;32m   1182\u001b[0m               \u001b[0mcallbacks\u001b[0m\u001b[0;34m.\u001b[0m\u001b[0mon_train_batch_begin\u001b[0m\u001b[0;34m(\u001b[0m\u001b[0mstep\u001b[0m\u001b[0;34m)\u001b[0m\u001b[0;34m\u001b[0m\u001b[0;34m\u001b[0m\u001b[0m\n\u001b[0;32m-> 1183\u001b[0;31m               \u001b[0mtmp_logs\u001b[0m \u001b[0;34m=\u001b[0m \u001b[0mself\u001b[0m\u001b[0;34m.\u001b[0m\u001b[0mtrain_function\u001b[0m\u001b[0;34m(\u001b[0m\u001b[0miterator\u001b[0m\u001b[0;34m)\u001b[0m\u001b[0;34m\u001b[0m\u001b[0;34m\u001b[0m\u001b[0m\n\u001b[0m\u001b[1;32m   1184\u001b[0m               \u001b[0;32mif\u001b[0m \u001b[0mdata_handler\u001b[0m\u001b[0;34m.\u001b[0m\u001b[0mshould_sync\u001b[0m\u001b[0;34m:\u001b[0m\u001b[0;34m\u001b[0m\u001b[0;34m\u001b[0m\u001b[0m\n\u001b[1;32m   1185\u001b[0m                 \u001b[0mcontext\u001b[0m\u001b[0;34m.\u001b[0m\u001b[0masync_wait\u001b[0m\u001b[0;34m(\u001b[0m\u001b[0;34m)\u001b[0m\u001b[0;34m\u001b[0m\u001b[0;34m\u001b[0m\u001b[0m\n",
      "\u001b[0;32m~/opt/anaconda3/lib/python3.8/site-packages/tensorflow/python/eager/def_function.py\u001b[0m in \u001b[0;36m__call__\u001b[0;34m(self, *args, **kwds)\u001b[0m\n\u001b[1;32m    887\u001b[0m \u001b[0;34m\u001b[0m\u001b[0m\n\u001b[1;32m    888\u001b[0m       \u001b[0;32mwith\u001b[0m \u001b[0mOptionalXlaContext\u001b[0m\u001b[0;34m(\u001b[0m\u001b[0mself\u001b[0m\u001b[0;34m.\u001b[0m\u001b[0m_jit_compile\u001b[0m\u001b[0;34m)\u001b[0m\u001b[0;34m:\u001b[0m\u001b[0;34m\u001b[0m\u001b[0;34m\u001b[0m\u001b[0m\n\u001b[0;32m--> 889\u001b[0;31m         \u001b[0mresult\u001b[0m \u001b[0;34m=\u001b[0m \u001b[0mself\u001b[0m\u001b[0;34m.\u001b[0m\u001b[0m_call\u001b[0m\u001b[0;34m(\u001b[0m\u001b[0;34m*\u001b[0m\u001b[0margs\u001b[0m\u001b[0;34m,\u001b[0m \u001b[0;34m**\u001b[0m\u001b[0mkwds\u001b[0m\u001b[0;34m)\u001b[0m\u001b[0;34m\u001b[0m\u001b[0;34m\u001b[0m\u001b[0m\n\u001b[0m\u001b[1;32m    890\u001b[0m \u001b[0;34m\u001b[0m\u001b[0m\n\u001b[1;32m    891\u001b[0m       \u001b[0mnew_tracing_count\u001b[0m \u001b[0;34m=\u001b[0m \u001b[0mself\u001b[0m\u001b[0;34m.\u001b[0m\u001b[0mexperimental_get_tracing_count\u001b[0m\u001b[0;34m(\u001b[0m\u001b[0;34m)\u001b[0m\u001b[0;34m\u001b[0m\u001b[0;34m\u001b[0m\u001b[0m\n",
      "\u001b[0;32m~/opt/anaconda3/lib/python3.8/site-packages/tensorflow/python/eager/def_function.py\u001b[0m in \u001b[0;36m_call\u001b[0;34m(self, *args, **kwds)\u001b[0m\n\u001b[1;32m    931\u001b[0m       \u001b[0;31m# This is the first call of __call__, so we have to initialize.\u001b[0m\u001b[0;34m\u001b[0m\u001b[0;34m\u001b[0m\u001b[0;34m\u001b[0m\u001b[0m\n\u001b[1;32m    932\u001b[0m       \u001b[0minitializers\u001b[0m \u001b[0;34m=\u001b[0m \u001b[0;34m[\u001b[0m\u001b[0;34m]\u001b[0m\u001b[0;34m\u001b[0m\u001b[0;34m\u001b[0m\u001b[0m\n\u001b[0;32m--> 933\u001b[0;31m       \u001b[0mself\u001b[0m\u001b[0;34m.\u001b[0m\u001b[0m_initialize\u001b[0m\u001b[0;34m(\u001b[0m\u001b[0margs\u001b[0m\u001b[0;34m,\u001b[0m \u001b[0mkwds\u001b[0m\u001b[0;34m,\u001b[0m \u001b[0madd_initializers_to\u001b[0m\u001b[0;34m=\u001b[0m\u001b[0minitializers\u001b[0m\u001b[0;34m)\u001b[0m\u001b[0;34m\u001b[0m\u001b[0;34m\u001b[0m\u001b[0m\n\u001b[0m\u001b[1;32m    934\u001b[0m     \u001b[0;32mfinally\u001b[0m\u001b[0;34m:\u001b[0m\u001b[0;34m\u001b[0m\u001b[0;34m\u001b[0m\u001b[0m\n\u001b[1;32m    935\u001b[0m       \u001b[0;31m# At this point we know that the initialization is complete (or less\u001b[0m\u001b[0;34m\u001b[0m\u001b[0;34m\u001b[0m\u001b[0;34m\u001b[0m\u001b[0m\n",
      "\u001b[0;32m~/opt/anaconda3/lib/python3.8/site-packages/tensorflow/python/eager/def_function.py\u001b[0m in \u001b[0;36m_initialize\u001b[0;34m(self, args, kwds, add_initializers_to)\u001b[0m\n\u001b[1;32m    761\u001b[0m     \u001b[0mself\u001b[0m\u001b[0;34m.\u001b[0m\u001b[0m_graph_deleter\u001b[0m \u001b[0;34m=\u001b[0m \u001b[0mFunctionDeleter\u001b[0m\u001b[0;34m(\u001b[0m\u001b[0mself\u001b[0m\u001b[0;34m.\u001b[0m\u001b[0m_lifted_initializer_graph\u001b[0m\u001b[0;34m)\u001b[0m\u001b[0;34m\u001b[0m\u001b[0;34m\u001b[0m\u001b[0m\n\u001b[1;32m    762\u001b[0m     self._concrete_stateful_fn = (\n\u001b[0;32m--> 763\u001b[0;31m         self._stateful_fn._get_concrete_function_internal_garbage_collected(  # pylint: disable=protected-access\n\u001b[0m\u001b[1;32m    764\u001b[0m             *args, **kwds))\n\u001b[1;32m    765\u001b[0m \u001b[0;34m\u001b[0m\u001b[0m\n",
      "\u001b[0;32m~/opt/anaconda3/lib/python3.8/site-packages/tensorflow/python/eager/function.py\u001b[0m in \u001b[0;36m_get_concrete_function_internal_garbage_collected\u001b[0;34m(self, *args, **kwargs)\u001b[0m\n\u001b[1;32m   3048\u001b[0m       \u001b[0margs\u001b[0m\u001b[0;34m,\u001b[0m \u001b[0mkwargs\u001b[0m \u001b[0;34m=\u001b[0m \u001b[0;32mNone\u001b[0m\u001b[0;34m,\u001b[0m \u001b[0;32mNone\u001b[0m\u001b[0;34m\u001b[0m\u001b[0;34m\u001b[0m\u001b[0m\n\u001b[1;32m   3049\u001b[0m     \u001b[0;32mwith\u001b[0m \u001b[0mself\u001b[0m\u001b[0;34m.\u001b[0m\u001b[0m_lock\u001b[0m\u001b[0;34m:\u001b[0m\u001b[0;34m\u001b[0m\u001b[0;34m\u001b[0m\u001b[0m\n\u001b[0;32m-> 3050\u001b[0;31m       \u001b[0mgraph_function\u001b[0m\u001b[0;34m,\u001b[0m \u001b[0m_\u001b[0m \u001b[0;34m=\u001b[0m \u001b[0mself\u001b[0m\u001b[0;34m.\u001b[0m\u001b[0m_maybe_define_function\u001b[0m\u001b[0;34m(\u001b[0m\u001b[0margs\u001b[0m\u001b[0;34m,\u001b[0m \u001b[0mkwargs\u001b[0m\u001b[0;34m)\u001b[0m\u001b[0;34m\u001b[0m\u001b[0;34m\u001b[0m\u001b[0m\n\u001b[0m\u001b[1;32m   3051\u001b[0m     \u001b[0;32mreturn\u001b[0m \u001b[0mgraph_function\u001b[0m\u001b[0;34m\u001b[0m\u001b[0;34m\u001b[0m\u001b[0m\n\u001b[1;32m   3052\u001b[0m \u001b[0;34m\u001b[0m\u001b[0m\n",
      "\u001b[0;32m~/opt/anaconda3/lib/python3.8/site-packages/tensorflow/python/eager/function.py\u001b[0m in \u001b[0;36m_maybe_define_function\u001b[0;34m(self, args, kwargs)\u001b[0m\n\u001b[1;32m   3442\u001b[0m \u001b[0;34m\u001b[0m\u001b[0m\n\u001b[1;32m   3443\u001b[0m           \u001b[0mself\u001b[0m\u001b[0;34m.\u001b[0m\u001b[0m_function_cache\u001b[0m\u001b[0;34m.\u001b[0m\u001b[0mmissed\u001b[0m\u001b[0;34m.\u001b[0m\u001b[0madd\u001b[0m\u001b[0;34m(\u001b[0m\u001b[0mcall_context_key\u001b[0m\u001b[0;34m)\u001b[0m\u001b[0;34m\u001b[0m\u001b[0;34m\u001b[0m\u001b[0m\n\u001b[0;32m-> 3444\u001b[0;31m           \u001b[0mgraph_function\u001b[0m \u001b[0;34m=\u001b[0m \u001b[0mself\u001b[0m\u001b[0;34m.\u001b[0m\u001b[0m_create_graph_function\u001b[0m\u001b[0;34m(\u001b[0m\u001b[0margs\u001b[0m\u001b[0;34m,\u001b[0m \u001b[0mkwargs\u001b[0m\u001b[0;34m)\u001b[0m\u001b[0;34m\u001b[0m\u001b[0;34m\u001b[0m\u001b[0m\n\u001b[0m\u001b[1;32m   3445\u001b[0m           \u001b[0mself\u001b[0m\u001b[0;34m.\u001b[0m\u001b[0m_function_cache\u001b[0m\u001b[0;34m.\u001b[0m\u001b[0mprimary\u001b[0m\u001b[0;34m[\u001b[0m\u001b[0mcache_key\u001b[0m\u001b[0;34m]\u001b[0m \u001b[0;34m=\u001b[0m \u001b[0mgraph_function\u001b[0m\u001b[0;34m\u001b[0m\u001b[0;34m\u001b[0m\u001b[0m\n\u001b[1;32m   3446\u001b[0m \u001b[0;34m\u001b[0m\u001b[0m\n",
      "\u001b[0;32m~/opt/anaconda3/lib/python3.8/site-packages/tensorflow/python/eager/function.py\u001b[0m in \u001b[0;36m_create_graph_function\u001b[0;34m(self, args, kwargs, override_flat_arg_shapes)\u001b[0m\n\u001b[1;32m   3277\u001b[0m     \u001b[0marg_names\u001b[0m \u001b[0;34m=\u001b[0m \u001b[0mbase_arg_names\u001b[0m \u001b[0;34m+\u001b[0m \u001b[0mmissing_arg_names\u001b[0m\u001b[0;34m\u001b[0m\u001b[0;34m\u001b[0m\u001b[0m\n\u001b[1;32m   3278\u001b[0m     graph_function = ConcreteFunction(\n\u001b[0;32m-> 3279\u001b[0;31m         func_graph_module.func_graph_from_py_func(\n\u001b[0m\u001b[1;32m   3280\u001b[0m             \u001b[0mself\u001b[0m\u001b[0;34m.\u001b[0m\u001b[0m_name\u001b[0m\u001b[0;34m,\u001b[0m\u001b[0;34m\u001b[0m\u001b[0;34m\u001b[0m\u001b[0m\n\u001b[1;32m   3281\u001b[0m             \u001b[0mself\u001b[0m\u001b[0;34m.\u001b[0m\u001b[0m_python_function\u001b[0m\u001b[0;34m,\u001b[0m\u001b[0;34m\u001b[0m\u001b[0;34m\u001b[0m\u001b[0m\n",
      "\u001b[0;32m~/opt/anaconda3/lib/python3.8/site-packages/tensorflow/python/framework/func_graph.py\u001b[0m in \u001b[0;36mfunc_graph_from_py_func\u001b[0;34m(name, python_func, args, kwargs, signature, func_graph, autograph, autograph_options, add_control_dependencies, arg_names, op_return_value, collections, capture_by_value, override_flat_arg_shapes)\u001b[0m\n\u001b[1;32m    997\u001b[0m         \u001b[0m_\u001b[0m\u001b[0;34m,\u001b[0m \u001b[0moriginal_func\u001b[0m \u001b[0;34m=\u001b[0m \u001b[0mtf_decorator\u001b[0m\u001b[0;34m.\u001b[0m\u001b[0munwrap\u001b[0m\u001b[0;34m(\u001b[0m\u001b[0mpython_func\u001b[0m\u001b[0;34m)\u001b[0m\u001b[0;34m\u001b[0m\u001b[0;34m\u001b[0m\u001b[0m\n\u001b[1;32m    998\u001b[0m \u001b[0;34m\u001b[0m\u001b[0m\n\u001b[0;32m--> 999\u001b[0;31m       \u001b[0mfunc_outputs\u001b[0m \u001b[0;34m=\u001b[0m \u001b[0mpython_func\u001b[0m\u001b[0;34m(\u001b[0m\u001b[0;34m*\u001b[0m\u001b[0mfunc_args\u001b[0m\u001b[0;34m,\u001b[0m \u001b[0;34m**\u001b[0m\u001b[0mfunc_kwargs\u001b[0m\u001b[0;34m)\u001b[0m\u001b[0;34m\u001b[0m\u001b[0;34m\u001b[0m\u001b[0m\n\u001b[0m\u001b[1;32m   1000\u001b[0m \u001b[0;34m\u001b[0m\u001b[0m\n\u001b[1;32m   1001\u001b[0m       \u001b[0;31m# invariant: `func_outputs` contains only Tensors, CompositeTensors,\u001b[0m\u001b[0;34m\u001b[0m\u001b[0;34m\u001b[0m\u001b[0;34m\u001b[0m\u001b[0m\n",
      "\u001b[0;32m~/opt/anaconda3/lib/python3.8/site-packages/tensorflow/python/eager/def_function.py\u001b[0m in \u001b[0;36mwrapped_fn\u001b[0;34m(*args, **kwds)\u001b[0m\n\u001b[1;32m    670\u001b[0m         \u001b[0;31m# the function a weak reference to itself to avoid a reference cycle.\u001b[0m\u001b[0;34m\u001b[0m\u001b[0;34m\u001b[0m\u001b[0;34m\u001b[0m\u001b[0m\n\u001b[1;32m    671\u001b[0m         \u001b[0;32mwith\u001b[0m \u001b[0mOptionalXlaContext\u001b[0m\u001b[0;34m(\u001b[0m\u001b[0mcompile_with_xla\u001b[0m\u001b[0;34m)\u001b[0m\u001b[0;34m:\u001b[0m\u001b[0;34m\u001b[0m\u001b[0;34m\u001b[0m\u001b[0m\n\u001b[0;32m--> 672\u001b[0;31m           \u001b[0mout\u001b[0m \u001b[0;34m=\u001b[0m \u001b[0mweak_wrapped_fn\u001b[0m\u001b[0;34m(\u001b[0m\u001b[0;34m)\u001b[0m\u001b[0;34m.\u001b[0m\u001b[0m__wrapped__\u001b[0m\u001b[0;34m(\u001b[0m\u001b[0;34m*\u001b[0m\u001b[0margs\u001b[0m\u001b[0;34m,\u001b[0m \u001b[0;34m**\u001b[0m\u001b[0mkwds\u001b[0m\u001b[0;34m)\u001b[0m\u001b[0;34m\u001b[0m\u001b[0;34m\u001b[0m\u001b[0m\n\u001b[0m\u001b[1;32m    673\u001b[0m         \u001b[0;32mreturn\u001b[0m \u001b[0mout\u001b[0m\u001b[0;34m\u001b[0m\u001b[0;34m\u001b[0m\u001b[0m\n\u001b[1;32m    674\u001b[0m \u001b[0;34m\u001b[0m\u001b[0m\n",
      "\u001b[0;32m~/opt/anaconda3/lib/python3.8/site-packages/tensorflow/python/framework/func_graph.py\u001b[0m in \u001b[0;36mwrapper\u001b[0;34m(*args, **kwargs)\u001b[0m\n\u001b[1;32m    984\u001b[0m           \u001b[0;32mexcept\u001b[0m \u001b[0mException\u001b[0m \u001b[0;32mas\u001b[0m \u001b[0me\u001b[0m\u001b[0;34m:\u001b[0m  \u001b[0;31m# pylint:disable=broad-except\u001b[0m\u001b[0;34m\u001b[0m\u001b[0;34m\u001b[0m\u001b[0m\n\u001b[1;32m    985\u001b[0m             \u001b[0;32mif\u001b[0m \u001b[0mhasattr\u001b[0m\u001b[0;34m(\u001b[0m\u001b[0me\u001b[0m\u001b[0;34m,\u001b[0m \u001b[0;34m\"ag_error_metadata\"\u001b[0m\u001b[0;34m)\u001b[0m\u001b[0;34m:\u001b[0m\u001b[0;34m\u001b[0m\u001b[0;34m\u001b[0m\u001b[0m\n\u001b[0;32m--> 986\u001b[0;31m               \u001b[0;32mraise\u001b[0m \u001b[0me\u001b[0m\u001b[0;34m.\u001b[0m\u001b[0mag_error_metadata\u001b[0m\u001b[0;34m.\u001b[0m\u001b[0mto_exception\u001b[0m\u001b[0;34m(\u001b[0m\u001b[0me\u001b[0m\u001b[0;34m)\u001b[0m\u001b[0;34m\u001b[0m\u001b[0;34m\u001b[0m\u001b[0m\n\u001b[0m\u001b[1;32m    987\u001b[0m             \u001b[0;32melse\u001b[0m\u001b[0;34m:\u001b[0m\u001b[0;34m\u001b[0m\u001b[0;34m\u001b[0m\u001b[0m\n\u001b[1;32m    988\u001b[0m               \u001b[0;32mraise\u001b[0m\u001b[0;34m\u001b[0m\u001b[0;34m\u001b[0m\u001b[0m\n",
      "\u001b[0;31mValueError\u001b[0m: in user code:\n\n    /Users/josiah/opt/anaconda3/lib/python3.8/site-packages/tensorflow/python/keras/engine/training.py:855 train_function  *\n        return step_function(self, iterator)\n    /Users/josiah/opt/anaconda3/lib/python3.8/site-packages/tensorflow/python/keras/engine/training.py:845 step_function  **\n        outputs = model.distribute_strategy.run(run_step, args=(data,))\n    /Users/josiah/opt/anaconda3/lib/python3.8/site-packages/tensorflow/python/distribute/distribute_lib.py:1285 run\n        return self._extended.call_for_each_replica(fn, args=args, kwargs=kwargs)\n    /Users/josiah/opt/anaconda3/lib/python3.8/site-packages/tensorflow/python/distribute/distribute_lib.py:2833 call_for_each_replica\n        return self._call_for_each_replica(fn, args, kwargs)\n    /Users/josiah/opt/anaconda3/lib/python3.8/site-packages/tensorflow/python/distribute/distribute_lib.py:3608 _call_for_each_replica\n        return fn(*args, **kwargs)\n    /Users/josiah/opt/anaconda3/lib/python3.8/site-packages/tensorflow/python/keras/engine/training.py:838 run_step  **\n        outputs = model.train_step(data)\n    /Users/josiah/opt/anaconda3/lib/python3.8/site-packages/tensorflow/python/keras/engine/training.py:795 train_step\n        y_pred = self(x, training=True)\n    /Users/josiah/opt/anaconda3/lib/python3.8/site-packages/tensorflow/python/keras/engine/base_layer.py:1030 __call__\n        outputs = call_fn(inputs, *args, **kwargs)\n    /Users/josiah/opt/anaconda3/lib/python3.8/site-packages/tensorflow/python/keras/engine/sequential.py:380 call\n        return super(Sequential, self).call(inputs, training=training, mask=mask)\n    /Users/josiah/opt/anaconda3/lib/python3.8/site-packages/tensorflow/python/keras/engine/functional.py:420 call\n        return self._run_internal_graph(\n    /Users/josiah/opt/anaconda3/lib/python3.8/site-packages/tensorflow/python/keras/engine/functional.py:556 _run_internal_graph\n        outputs = node.layer(*args, **kwargs)\n    /Users/josiah/opt/anaconda3/lib/python3.8/site-packages/tensorflow/python/keras/engine/base_layer.py:1030 __call__\n        outputs = call_fn(inputs, *args, **kwargs)\n    /Users/josiah/opt/anaconda3/lib/python3.8/site-packages/tensorflow/python/keras/layers/core.py:557 call\n        result.set_shape(self.compute_output_shape(inputs.shape))\n    /Users/josiah/opt/anaconda3/lib/python3.8/site-packages/tensorflow/python/keras/layers/core.py:547 compute_output_shape\n        output_shape += self._fix_unknown_dimension(input_shape[1:],\n    /Users/josiah/opt/anaconda3/lib/python3.8/site-packages/tensorflow/python/keras/layers/core.py:536 _fix_unknown_dimension\n        raise ValueError(msg)\n\n    ValueError: total size of new array must be unchanged, input_shape = [15, 3], output_shape = [3]\n"
     ]
    }
   ],
   "source": [
    "epochs = 50\n",
    "batch_size = 32\n",
    "\n",
    "fitted = model.fit(X_train, y_train, batch_size=batch_size, epochs=epochs, validation_data=(X_test, y_test))\n",
    "score = fitted.model.evaluate(X_test, y_test, batch_size=batch_size)\n",
    "\n",
    "model_name = f'../models/numpy/acc_{round(score[1], 3)}-loss_{round(score[0], 2)}-{int(time.time())}.model'\n",
    "\n",
    "temp_df = pd.DataFrame.from_dict(fitted.history)\n",
    "temp_df['model_name'] = model_name\n",
    "df = pd.concat([df, temp_df])\n",
    "fitted.model.save(model_name)\n",
    "\n",
    "print('done')"
   ]
  },
  {
   "cell_type": "code",
   "execution_count": null,
   "id": "eb47e009-911c-4a3b-b309-fbe3ecb19f34",
   "metadata": {},
   "outputs": [],
   "source": []
  },
  {
   "cell_type": "code",
   "execution_count": null,
   "id": "275c85d5-a504-46f6-b29f-a17e8d64ce7e",
   "metadata": {},
   "outputs": [],
   "source": [
    "def residual_block(x, filters, conv_num=3, activation=\"relu\"):\n",
    "    # Shortcut\n",
    "    s = keras.layers.Conv1D(filters, 1, padding=\"same\")(x)\n",
    "    for i in range(conv_num - 1):\n",
    "        x = keras.layers.Conv1D(filters, 3, padding=\"same\")(x)\n",
    "        x = keras.layers.Activation(activation)(x)\n",
    "    x = keras.layers.Conv1D(filters, 3, padding=\"same\")(x)\n",
    "    x = keras.layers.Add()([x, s])\n",
    "    x = keras.layers.Activation(activation)(x)\n",
    "    return keras.layers.MaxPool1D(pool_size=2, strides=2, padding='same')(x)"
   ]
  },
  {
   "cell_type": "code",
   "execution_count": null,
   "id": "8204ea9e-2704-4dd6-b15e-45a678c8bd83",
   "metadata": {},
   "outputs": [],
   "source": [
    "def build_model(input_shape, num_classes):\n",
    "    inputs = keras.layers.Input(shape=input_shape, name=\"input\")\n",
    "\n",
    "    x = residual_block(inputs, 16, 2)\n",
    "    x = residual_block(x, 32, 2)\n",
    "    x = residual_block(x, 64, 3)\n",
    "    x = residual_block(x, 128, 3)\n",
    "    x = residual_block(x, 128, 3)\n",
    "\n",
    "    x = keras.layers.MaxPooling1D(pool_size=(2), padding='same')(x)\n",
    "    x = keras.layers.Flatten()(x)\n",
    "    x = keras.layers.Dense(256, activation=\"relu\")(x)\n",
    "    x = keras.layers.Dense(128, activation=\"relu\")(x)\n",
    "\n",
    "    outputs = keras.layers.Dense(num_classes, activation=\"softmax\", name=\"output\")(x)\n",
    "\n",
    "    return keras.models.Model(inputs=inputs, outputs=outputs)"
   ]
  },
  {
   "cell_type": "code",
   "execution_count": null,
   "id": "87350652-9984-49f9-94c6-4553959f948e",
   "metadata": {},
   "outputs": [],
   "source": [
    "model = build_model((X_train.shape[1:]), 3)"
   ]
  },
  {
   "cell_type": "code",
   "execution_count": null,
   "id": "013578eb-fd9f-4f87-82e9-7aa90bf22892",
   "metadata": {},
   "outputs": [],
   "source": [
    "model.compile(optimizer=\"Adam\", loss=\"categorical_crossentropy\", metrics=[\"accuracy\"])"
   ]
  },
  {
   "cell_type": "code",
   "execution_count": null,
   "id": "25298469-c29a-4ab2-b120-0b937ad27f8f",
   "metadata": {},
   "outputs": [],
   "source": [
    "epochs = 50\n",
    "batch_size = 32\n",
    "\n",
    "fitted = model.fit(X_train, y_train, batch_size=batch_size, epochs=epochs, validation_data=(X_test, y_test))\n",
    "score = fitted.model.evaluate(X_test, y_test, batch_size=batch_size)\n",
    "\n",
    "model_name = f'../models/numpy/acc_{round(score[1], 3)}-loss_{round(score[0], 2)}-{int(time.time())}.model'\n",
    "\n",
    "temp_df = pd.DataFrame.from_dict(fitted.history)\n",
    "temp_df['model_name'] = model_name\n",
    "df = pd.concat([df, temp_df])\n",
    "fitted.model.save(model_name)\n",
    "\n",
    "print('done')"
   ]
  },
  {
   "cell_type": "code",
   "execution_count": null,
   "id": "157de83e-7e2d-4dcd-994c-2aaa3e596b9a",
   "metadata": {},
   "outputs": [],
   "source": []
  },
  {
   "cell_type": "code",
   "execution_count": null,
   "id": "94afb25c-26cc-4dac-9fcd-84abef4f2e33",
   "metadata": {},
   "outputs": [],
   "source": []
  },
  {
   "cell_type": "code",
   "execution_count": null,
   "id": "7dd86864-02ba-40e5-a4ce-c2f7b2e27105",
   "metadata": {},
   "outputs": [],
   "source": []
  },
  {
   "cell_type": "code",
   "execution_count": null,
   "id": "8479430f-62f0-45d3-ae18-a6bc0b9b3298",
   "metadata": {},
   "outputs": [],
   "source": []
  },
  {
   "cell_type": "code",
   "execution_count": null,
   "id": "091fc833-6edb-4491-bb40-e1bdbc1f3066",
   "metadata": {},
   "outputs": [],
   "source": []
  },
  {
   "cell_type": "code",
   "execution_count": null,
   "id": "417192a6-d919-4ee6-879a-979a6067f65a",
   "metadata": {},
   "outputs": [],
   "source": [
    "best_model = sorted(glob('../models/numpy/*.model'))[-1]"
   ]
  },
  {
   "cell_type": "code",
   "execution_count": null,
   "id": "0d4e0f0f-1893-4f44-ba57-d7fec67bad45",
   "metadata": {},
   "outputs": [],
   "source": [
    "model = tf.keras.models.load_model(best_model)\n",
    "\n",
    "y_pred = np.argmax(model.predict(X_test), axis=-1)\n",
    "y_true = np.argmax(y_test, axis=-1)\n",
    "conf_mat = np.round(np.array(confusion_matrix(y_true, y_pred)) / 11750, 3)"
   ]
  },
  {
   "cell_type": "code",
   "execution_count": null,
   "id": "d1224139-ee16-416b-82e4-4272113027d8",
   "metadata": {},
   "outputs": [],
   "source": []
  },
  {
   "cell_type": "code",
   "execution_count": null,
   "id": "2e57bb90-61fb-4ec7-bf40-1ac9065ba7bc",
   "metadata": {},
   "outputs": [],
   "source": [
    "def plot_conf_mat(conf_mat):\n",
    "    actions = ['left', 'none', 'right']\n",
    "\n",
    "    fig, ax = plt.subplots(figsize=(16, 9))\n",
    "\n",
    "    ax.matshow(conf_mat, cmap=plt.cm.RdYlGn)\n",
    "    ax.set_xticklabels([\"\"]+actions)\n",
    "    ax.set_yticklabels([\"\"]+actions)\n",
    "\n",
    "    for i, val0 in enumerate(conf_mat.T):\n",
    "        for ii, val1 in enumerate(val0):\n",
    "            ax.text(i, ii, f\"{val1}\", va='center', ha='center')\n",
    "\n",
    "    plt.title(\"Action Thought\")\n",
    "    plt.ylabel(\"Predicted Action\")\n",
    "    plt.show()"
   ]
  },
  {
   "cell_type": "code",
   "execution_count": null,
   "id": "4767fe89-5e72-45ef-98a9-7d21fb25486c",
   "metadata": {},
   "outputs": [],
   "source": [
    "plot_conf_mat(conf_mat)"
   ]
  },
  {
   "cell_type": "code",
   "execution_count": null,
   "id": "74a0b78f-30d8-42f9-9d3e-ec888a8c0b7d",
   "metadata": {},
   "outputs": [],
   "source": []
  },
  {
   "cell_type": "markdown",
   "id": "403129c6-b0bf-477b-a692-4e38df2bac12",
   "metadata": {},
   "source": [
    "# trained KNN, log_reg, GBC\n",
    "# all trash, acc < 0.35"
   ]
  },
  {
   "cell_type": "code",
   "execution_count": null,
   "id": "8cc9fcd0-fdfe-4313-810b-f466b2f11922",
   "metadata": {},
   "outputs": [],
   "source": []
  },
  {
   "cell_type": "code",
   "execution_count": null,
   "id": "484d573f-2744-45e3-9230-3e8b0d4ff3dc",
   "metadata": {},
   "outputs": [],
   "source": []
  },
  {
   "cell_type": "code",
   "execution_count": null,
   "id": "2d7f7e1e-27f3-4305-9c8d-c31945f892ff",
   "metadata": {},
   "outputs": [],
   "source": []
  },
  {
   "cell_type": "code",
   "execution_count": null,
   "id": "66f4288e-0a5c-4bd4-9d57-96cc4b1875a5",
   "metadata": {},
   "outputs": [],
   "source": []
  },
  {
   "cell_type": "code",
   "execution_count": null,
   "id": "32e9f885-fc49-42ed-935f-d38eee499b1a",
   "metadata": {},
   "outputs": [],
   "source": []
  },
  {
   "cell_type": "code",
   "execution_count": null,
   "id": "5eb00c1f-e08a-405a-87b2-a03bc266dbf1",
   "metadata": {},
   "outputs": [],
   "source": []
  },
  {
   "cell_type": "code",
   "execution_count": null,
   "id": "dacc5211-be21-405c-b5c9-f281b7d1f866",
   "metadata": {},
   "outputs": [],
   "source": []
  },
  {
   "cell_type": "code",
   "execution_count": null,
   "id": "741836fb-a293-445f-b60d-921ec6c1383d",
   "metadata": {},
   "outputs": [],
   "source": []
  },
  {
   "cell_type": "code",
   "execution_count": null,
   "id": "17e36a76-7b14-4b6d-adfa-4ffb3efd4dbb",
   "metadata": {},
   "outputs": [],
   "source": []
  },
  {
   "cell_type": "code",
   "execution_count": null,
   "id": "3f98179e-2e0b-4820-8d36-871b47371379",
   "metadata": {},
   "outputs": [],
   "source": []
  },
  {
   "cell_type": "code",
   "execution_count": null,
   "id": "0c851697-2bcd-4f72-87bc-0d8d17a4c7f2",
   "metadata": {},
   "outputs": [],
   "source": []
  },
  {
   "cell_type": "code",
   "execution_count": null,
   "id": "9037948e-e29f-4141-b12f-8e40f99b45f0",
   "metadata": {},
   "outputs": [],
   "source": []
  },
  {
   "cell_type": "code",
   "execution_count": null,
   "id": "96b9e1a7-66a1-40ac-ac7d-647d785604f3",
   "metadata": {},
   "outputs": [],
   "source": []
  },
  {
   "cell_type": "code",
   "execution_count": null,
   "id": "ef31d36c-2082-48ed-80bb-c8b86903cdc9",
   "metadata": {},
   "outputs": [],
   "source": []
  }
 ],
 "metadata": {
  "kernelspec": {
   "display_name": "Python 3",
   "language": "python",
   "name": "python3"
  },
  "language_info": {
   "codemirror_mode": {
    "name": "ipython",
    "version": 3
   },
   "file_extension": ".py",
   "mimetype": "text/x-python",
   "name": "python",
   "nbconvert_exporter": "python",
   "pygments_lexer": "ipython3",
   "version": "3.8.11"
  }
 },
 "nbformat": 4,
 "nbformat_minor": 5
}
