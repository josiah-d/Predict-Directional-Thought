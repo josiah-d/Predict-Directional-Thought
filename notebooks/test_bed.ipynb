{
 "cells": [
  {
   "cell_type": "code",
   "execution_count": 126,
   "id": "2c71d61e-9281-48a4-89fa-949cf0f9fdd6",
   "metadata": {},
   "outputs": [],
   "source": [
    "# imports\n",
    "import sys\n",
    "sys.path.append('../')\n",
    "\n",
    "from glob import glob\n",
    "from src.load_data import master_load\n",
    "import matplotlib.pyplot as plt\n",
    "import numpy as np\n",
    "import os\n",
    "import time\n",
    "\n",
    "import tensorflow as tf\n",
    "from tensorflow.keras.models import Sequential\n",
    "from tensorflow.keras.layers import (Activation, BatchNormalization, Conv1D, Dense,\n",
    "                                     Dropout, Flatten, MaxPooling1D, Reshape)\n",
    "from tensorflow.math import confusion_matrix"
   ]
  },
  {
   "cell_type": "code",
   "execution_count": 2,
   "id": "491aac84-ec14-4909-a416-49afa8224fbc",
   "metadata": {},
   "outputs": [],
   "source": [
    "# set plotting params\n",
    "plt.rcParams['font.serif'] = 'Ubuntu'\n",
    "plt.rcParams['font.monospace'] = 'Ubuntu Mono'\n",
    "plt.rcParams['font.size'] = 32\n",
    "plt.rcParams['axes.labelsize'] = 32\n",
    "plt.rcParams['axes.titlesize'] = 32\n",
    "plt.rcParams['xtick.labelsize'] = 24\n",
    "plt.rcParams['ytick.labelsize'] = 24\n",
    "plt.rcParams['legend.fontsize'] = 32\n",
    "plt.rcParams['figure.titlesize'] = 48"
   ]
  },
  {
   "cell_type": "code",
   "execution_count": null,
   "id": "19807aaf-e4cc-4a7f-bca9-75ed574bd4ad",
   "metadata": {},
   "outputs": [],
   "source": []
  },
  {
   "cell_type": "code",
   "execution_count": 3,
   "id": "399ab52a-b4cf-4c21-9cab-6f943f3a4521",
   "metadata": {},
   "outputs": [],
   "source": [
    "X_train, X_test, y_train, y_test = master_load()"
   ]
  },
  {
   "cell_type": "code",
   "execution_count": 43,
   "id": "445e8116-5568-4994-b3b0-c0eb4632bd89",
   "metadata": {},
   "outputs": [],
   "source": [
    "# modified\n",
    "model = Sequential()\n",
    "\n",
    "model.add(Conv1D(64, (3), input_shape=X_train.shape[1:]))\n",
    "model.add(Activation('selu'))\n",
    "\n",
    "model.add(Conv1D(64, (2)))\n",
    "model.add(Activation('selu'))\n",
    "model.add(MaxPooling1D(pool_size=(2)))\n",
    "\n",
    "model.add(Conv1D(64, (2)))\n",
    "model.add(Activation('selu'))\n",
    "model.add(MaxPooling1D(pool_size=(2)))\n",
    "\n",
    "model.add(Flatten())\n",
    "\n",
    "model.add(Dense(4))\n",
    "\n",
    "model.add(Dense(3))\n",
    "model.add(Activation('softmax'))\n",
    "\n",
    "model.compile(loss='categorical_crossentropy',\n",
    "              optimizer='adam',\n",
    "              metrics=['accuracy'])"
   ]
  },
  {
   "cell_type": "code",
   "execution_count": 122,
   "id": "86f62511-8d27-4d8a-91b0-02bb9ad4001d",
   "metadata": {},
   "outputs": [],
   "source": [
    "# stolen 1\n",
    "model = Sequential()\n",
    "\n",
    "model.add(Conv1D(64, (3), input_shape=X_train.shape[1:]))\n",
    "model.add(Activation('relu'))\n",
    "\n",
    "model.add(Conv1D(128, (2)))\n",
    "model.add(Activation('relu'))\n",
    "\n",
    "model.add(Conv1D(128, (2)))\n",
    "model.add(Activation('relu'))\n",
    "\n",
    "model.add(Conv1D(64, (2)))\n",
    "model.add(Activation('relu'))\n",
    "model.add(MaxPooling1D(pool_size=(2)))\n",
    "\n",
    "model.add(Conv1D(64, (2)))\n",
    "model.add(Activation('relu'))\n",
    "model.add(MaxPooling1D(pool_size=(2)))\n",
    "\n",
    "model.add(Flatten())\n",
    "\n",
    "model.add(Dense(512))\n",
    "model.add(Dense(256))\n",
    "model.add(Dense(128))\n",
    "\n",
    "model.add(Dense(3))\n",
    "model.add(Activation('softmax'))\n",
    "\n",
    "model.compile(loss='categorical_crossentropy',\n",
    "              optimizer='adam',\n",
    "              metrics=['accuracy'])"
   ]
  },
  {
   "cell_type": "code",
   "execution_count": 130,
   "id": "1f6d0407-4c64-4ef3-99e4-6aba99f4c4b9",
   "metadata": {},
   "outputs": [],
   "source": [
    "reshape = (-1, 16, 60)\n",
    "\n",
    "train_X = np.clip(np.array(X_train).reshape(reshape), -10, 10) / 10\n",
    "test_X = np.clip(np.array(X_test).reshape(reshape), -10, 10) / 10"
   ]
  },
  {
   "cell_type": "code",
   "execution_count": 133,
   "id": "015ee3d9-af90-4f1c-8230-d191cb7d03c3",
   "metadata": {},
   "outputs": [],
   "source": [
    "# stolen 2\n",
    "model = Sequential()\n",
    "\n",
    "model.add(Conv1D(64, (5), padding='same', input_shape=train_X.shape[1:]))\n",
    "model.add(Activation('relu'))\n",
    "\n",
    "model.add(Conv1D(128, (5), padding='same'))\n",
    "model.add(Activation('relu'))\n",
    "\n",
    "model.add(Conv1D(256, (5), padding='same'))\n",
    "model.add(Activation('relu'))\n",
    "\n",
    "model.add(Conv1D(512, (5), padding='same'))\n",
    "model.add(Activation('relu'))\n",
    "\n",
    "model.add(Conv1D(3, (16)))\n",
    "model.add(Reshape((3,)))\n",
    "model.add(Activation('softmax'))\n",
    "\n",
    "model.compile(loss='categorical_crossentropy',\n",
    "              optimizer='adam',\n",
    "              metrics=['accuracy'])"
   ]
  },
  {
   "cell_type": "code",
   "execution_count": 134,
   "id": "812b2396-d968-435b-aa4e-5dd677a4cebd",
   "metadata": {},
   "outputs": [
    {
     "name": "stdout",
     "output_type": "stream",
     "text": [
      "4413/4413 [==============================] - 156s 35ms/step - loss: 0.4076 - accuracy: 0.8199 - val_loss: 2.9800 - val_accuracy: 0.4494\n",
      "551/551 [==============================] - 7s 13ms/step - loss: 17.3167 - accuracy: 0.3742\n",
      "INFO:tensorflow:Assets written to: ../models/numpy/acc_0.374-loss_17.32-1628143370.model/assets\n",
      "4413/4413 [==============================] - 164s 37ms/step - loss: 0.0608 - accuracy: 0.9788 - val_loss: 3.9838 - val_accuracy: 0.4392\n",
      "551/551 [==============================] - 7s 13ms/step - loss: 17.4850 - accuracy: 0.3793\n",
      "INFO:tensorflow:Assets written to: ../models/numpy/acc_0.379-loss_17.49-1628143543.model/assets\n",
      "4413/4413 [==============================] - 166s 38ms/step - loss: 0.0401 - accuracy: 0.9866 - val_loss: 4.4075 - val_accuracy: 0.4525\n",
      "551/551 [==============================] - 7s 13ms/step - loss: 22.8026 - accuracy: 0.3965\n",
      "INFO:tensorflow:Assets written to: ../models/numpy/acc_0.397-loss_22.8-1628143717.model/assets\n",
      "4413/4413 [==============================] - 164s 37ms/step - loss: 0.0327 - accuracy: 0.9893 - val_loss: 4.7709 - val_accuracy: 0.4566\n",
      "551/551 [==============================] - 7s 13ms/step - loss: 32.1730 - accuracy: 0.3992\n",
      "INFO:tensorflow:Assets written to: ../models/numpy/acc_0.399-loss_32.17-1628143890.model/assets\n",
      "4413/4413 [==============================] - 169s 38ms/step - loss: 0.0295 - accuracy: 0.9909 - val_loss: 5.9941 - val_accuracy: 0.4216\n",
      "551/551 [==============================] - 7s 12ms/step - loss: 31.6478 - accuracy: 0.4002\n",
      "INFO:tensorflow:Assets written to: ../models/numpy/acc_0.4-loss_31.65-1628144068.model/assets\n",
      "done\n"
     ]
    }
   ],
   "source": [
    "epochs = 5\n",
    "\n",
    "batch_size = 64\n",
    "\n",
    "for epoch in range(epochs):\n",
    "    model.fit(train_X, y_train, batch_size=batch_size, epochs=1, validation_data=(test_X, y_test))\n",
    "    score = model.evaluate(X_test, y_test, batch_size=batch_size)\n",
    "    \n",
    "    model_name = f'../models/numpy/acc_{round(score[1], 3)}-loss_{round(score[0], 2)}-{int(time.time())}.model'\n",
    "    model.save(model_name)\n",
    "    \n",
    "print('done')"
   ]
  },
  {
   "cell_type": "code",
   "execution_count": null,
   "id": "417192a6-d919-4ee6-879a-979a6067f65a",
   "metadata": {},
   "outputs": [],
   "source": []
  },
  {
   "cell_type": "code",
   "execution_count": null,
   "id": "091fc833-6edb-4491-bb40-e1bdbc1f3066",
   "metadata": {},
   "outputs": [],
   "source": []
  },
  {
   "cell_type": "code",
   "execution_count": 119,
   "id": "2e57bb90-61fb-4ec7-bf40-1ac9065ba7bc",
   "metadata": {},
   "outputs": [],
   "source": [
    "def plot_conf_mat(conf_mat):\n",
    "    actions = ['left', 'none', 'right']\n",
    "\n",
    "    fig, ax = plt.subplots(figsize=(16, 9))\n",
    "\n",
    "    ax.matshow(conf_mat, cmap=plt.cm.RdYlGn)\n",
    "    ax.set_xticklabels([\"\"]+actions)\n",
    "    ax.set_yticklabels([\"\"]+actions)\n",
    "\n",
    "    for idx, i in enumerate(conf_mat):\n",
    "        for idx2, ii in enumerate(conf_mat[idx]):\n",
    "            ax.text(idx, idx2, f\"{conf_mat[idx][idx2]}\", va='center', ha='center')\n",
    "\n",
    "    plt.title(\"Action Thought\")\n",
    "    plt.ylabel(\"Predicted Action\")\n",
    "    plt.show()"
   ]
  },
  {
   "cell_type": "code",
   "execution_count": 135,
   "id": "0d4e0f0f-1893-4f44-ba57-d7fec67bad45",
   "metadata": {},
   "outputs": [],
   "source": [
    "model_name = '../models/numpy/acc_0.4-loss_31.65-1628144068.model'\n",
    "model = tf.keras.models.load_model(model_name)"
   ]
  },
  {
   "cell_type": "code",
   "execution_count": 136,
   "id": "4767fe89-5e72-45ef-98a9-7d21fb25486c",
   "metadata": {},
   "outputs": [],
   "source": [
    "y_pred = np.argmax(model.predict(X_test), axis=-1)"
   ]
  },
  {
   "cell_type": "code",
   "execution_count": 137,
   "id": "b08bf4cf-3272-40e6-b80a-48dace0c9990",
   "metadata": {},
   "outputs": [],
   "source": [
    "y_true = np.argmax(y_test, axis=-1)"
   ]
  },
  {
   "cell_type": "code",
   "execution_count": 155,
   "id": "7c8ecb3f-7287-4499-aaa8-5c550b30a91b",
   "metadata": {},
   "outputs": [],
   "source": [
    "conf_mat = np.round(np.array(confusion_matrix(y_true, y_pred)) / 11750, 3)"
   ]
  },
  {
   "cell_type": "code",
   "execution_count": 156,
   "id": "42212596-37b5-4fe5-98c3-faf9e0b99528",
   "metadata": {},
   "outputs": [
    {
     "data": {
      "text/plain": [
       "array([[0.429, 0.202, 0.369],\n",
       "       [0.353, 0.45 , 0.196],\n",
       "       [0.433, 0.245, 0.322]])"
      ]
     },
     "execution_count": 156,
     "metadata": {},
     "output_type": "execute_result"
    }
   ],
   "source": [
    "conf_mat"
   ]
  },
  {
   "cell_type": "code",
   "execution_count": 157,
   "id": "460a133b-68f2-4180-8a0c-204c329333e0",
   "metadata": {},
   "outputs": [
    {
     "name": "stdout",
     "output_type": "stream",
     "text": [
      "tf [0.429 0.202 0.369]\n",
      "tf [0.353 0.45  0.196]\n",
      "tf [0.433 0.245 0.322]\n"
     ]
    },
    {
     "name": "stderr",
     "output_type": "stream",
     "text": [
      "<ipython-input-119-12f0b58415ba>:7: UserWarning: FixedFormatter should only be used together with FixedLocator\n",
      "  ax.set_xticklabels([\"\"]+actions)\n",
      "<ipython-input-119-12f0b58415ba>:8: UserWarning: FixedFormatter should only be used together with FixedLocator\n",
      "  ax.set_yticklabels([\"\"]+actions)\n"
     ]
    },
    {
     "data": {
      "image/png": "[encoded data removed]",
      "text/plain": [
       "<Figure size 1152x648 with 1 Axes>"
      ]
     },
     "metadata": {
      "needs_background": "light"
     },
     "output_type": "display_data"
    }
   ],
   "source": [
    "plot_conf_mat(conf_mat)"
   ]
  },
  {
   "cell_type": "code",
   "execution_count": null,
   "id": "879c57d0-3253-4bea-a081-25ac9c0d1207",
   "metadata": {},
   "outputs": [],
   "source": []
  },
  {
   "cell_type": "code",
   "execution_count": null,
   "id": "74a0b78f-30d8-42f9-9d3e-ec888a8c0b7d",
   "metadata": {},
   "outputs": [],
   "source": []
  }
 ],
 "metadata": {
  "kernelspec": {
   "display_name": "Python 3",
   "language": "python",
   "name": "python3"
  },
  "language_info": {
   "codemirror_mode": {
    "name": "ipython",
    "version": 3
   },
   "file_extension": ".py",
   "mimetype": "text/x-python",
   "name": "python",
   "nbconvert_exporter": "python",
   "pygments_lexer": "ipython3",
   "version": "3.8.10"
  }
 },
 "nbformat": 4,
 "nbformat_minor": 5
}
